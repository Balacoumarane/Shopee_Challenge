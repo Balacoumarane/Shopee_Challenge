{
 "cells": [
  {
   "cell_type": "code",
   "execution_count": 12,
   "metadata": {},
   "outputs": [],
   "source": [
    "import pandas as pd\n",
    "import re\n",
    "from sklearn.model_selection import train_test_split"
   ]
  },
  {
   "cell_type": "code",
   "execution_count": 13,
   "metadata": {},
   "outputs": [],
   "source": [
    "train_data = pd.read_csv(r'C:\\Users\\1993s\\Downloads\\scl-2021-ds\\train.csv')"
   ]
  },
  {
   "cell_type": "code",
   "execution_count": 14,
   "metadata": {},
   "outputs": [],
   "source": [
    "test_data = pd.read_csv(r'C:\\Users\\1993s\\Downloads\\scl-2021-ds\\test.csv')"
   ]
  },
  {
   "cell_type": "code",
   "execution_count": 15,
   "metadata": {},
   "outputs": [
    {
     "data": {
      "text/html": [
       "<div>\n",
       "<style scoped>\n",
       "    .dataframe tbody tr th:only-of-type {\n",
       "        vertical-align: middle;\n",
       "    }\n",
       "\n",
       "    .dataframe tbody tr th {\n",
       "        vertical-align: top;\n",
       "    }\n",
       "\n",
       "    .dataframe thead th {\n",
       "        text-align: right;\n",
       "    }\n",
       "</style>\n",
       "<table border=\"1\" class=\"dataframe\">\n",
       "  <thead>\n",
       "    <tr style=\"text-align: right;\">\n",
       "      <th></th>\n",
       "      <th>id</th>\n",
       "      <th>raw_address</th>\n",
       "      <th>POI/street</th>\n",
       "    </tr>\n",
       "  </thead>\n",
       "  <tbody>\n",
       "    <tr>\n",
       "      <th>0</th>\n",
       "      <td>0</td>\n",
       "      <td>jl kapuk timur delta sili iii lippo cika 11 a ...</td>\n",
       "      <td>/jl kapuk timur delta sili iii lippo cika</td>\n",
       "    </tr>\n",
       "    <tr>\n",
       "      <th>1</th>\n",
       "      <td>1</td>\n",
       "      <td>aye, jati sampurna</td>\n",
       "      <td>/</td>\n",
       "    </tr>\n",
       "    <tr>\n",
       "      <th>2</th>\n",
       "      <td>2</td>\n",
       "      <td>setu siung 119 rt 5 1 13880 cipayung</td>\n",
       "      <td>/siung</td>\n",
       "    </tr>\n",
       "    <tr>\n",
       "      <th>3</th>\n",
       "      <td>3</td>\n",
       "      <td>toko dita, kertosono</td>\n",
       "      <td>toko dita/</td>\n",
       "    </tr>\n",
       "    <tr>\n",
       "      <th>4</th>\n",
       "      <td>4</td>\n",
       "      <td>jl. orde baru</td>\n",
       "      <td>/jl. orde baru</td>\n",
       "    </tr>\n",
       "  </tbody>\n",
       "</table>\n",
       "</div>"
      ],
      "text/plain": [
       "   id                                        raw_address  \\\n",
       "0   0  jl kapuk timur delta sili iii lippo cika 11 a ...   \n",
       "1   1                                 aye, jati sampurna   \n",
       "2   2               setu siung 119 rt 5 1 13880 cipayung   \n",
       "3   3                               toko dita, kertosono   \n",
       "4   4                                      jl. orde baru   \n",
       "\n",
       "                                  POI/street  \n",
       "0  /jl kapuk timur delta sili iii lippo cika  \n",
       "1                                          /  \n",
       "2                                     /siung  \n",
       "3                                 toko dita/  \n",
       "4                             /jl. orde baru  "
      ]
     },
     "execution_count": 15,
     "metadata": {},
     "output_type": "execute_result"
    }
   ],
   "source": [
    "train_data.head()"
   ]
  },
  {
   "cell_type": "code",
   "execution_count": 16,
   "metadata": {},
   "outputs": [
    {
     "data": {
      "text/html": [
       "<div>\n",
       "<style scoped>\n",
       "    .dataframe tbody tr th:only-of-type {\n",
       "        vertical-align: middle;\n",
       "    }\n",
       "\n",
       "    .dataframe tbody tr th {\n",
       "        vertical-align: top;\n",
       "    }\n",
       "\n",
       "    .dataframe thead th {\n",
       "        text-align: right;\n",
       "    }\n",
       "</style>\n",
       "<table border=\"1\" class=\"dataframe\">\n",
       "  <thead>\n",
       "    <tr style=\"text-align: right;\">\n",
       "      <th></th>\n",
       "      <th>id</th>\n",
       "      <th>raw_address</th>\n",
       "    </tr>\n",
       "  </thead>\n",
       "  <tbody>\n",
       "    <tr>\n",
       "      <th>0</th>\n",
       "      <td>0</td>\n",
       "      <td>s. par 53 sidanegara 4 cilacap tengah</td>\n",
       "    </tr>\n",
       "    <tr>\n",
       "      <th>1</th>\n",
       "      <td>1</td>\n",
       "      <td>angg per, baloi indah kel. lubuk baja</td>\n",
       "    </tr>\n",
       "    <tr>\n",
       "      <th>2</th>\n",
       "      <td>2</td>\n",
       "      <td>asma laun, mand imog,</td>\n",
       "    </tr>\n",
       "    <tr>\n",
       "      <th>3</th>\n",
       "      <td>3</td>\n",
       "      <td>ud agung rej, raya nga sri wedari karanganyar</td>\n",
       "    </tr>\n",
       "    <tr>\n",
       "      <th>4</th>\n",
       "      <td>4</td>\n",
       "      <td>cut mutia, 35 baiturrahman</td>\n",
       "    </tr>\n",
       "  </tbody>\n",
       "</table>\n",
       "</div>"
      ],
      "text/plain": [
       "   id                                    raw_address\n",
       "0   0          s. par 53 sidanegara 4 cilacap tengah\n",
       "1   1          angg per, baloi indah kel. lubuk baja\n",
       "2   2                          asma laun, mand imog,\n",
       "3   3  ud agung rej, raya nga sri wedari karanganyar\n",
       "4   4                     cut mutia, 35 baiturrahman"
      ]
     },
     "execution_count": 16,
     "metadata": {},
     "output_type": "execute_result"
    }
   ],
   "source": [
    "test_data.head()"
   ]
  },
  {
   "cell_type": "code",
   "execution_count": 17,
   "metadata": {},
   "outputs": [],
   "source": [
    "train_80_data, val_20_data = train_test_split(train_data, test_size=0.2)"
   ]
  },
  {
   "cell_type": "code",
   "execution_count": 18,
   "metadata": {},
   "outputs": [
    {
     "data": {
      "text/html": [
       "<div>\n",
       "<style scoped>\n",
       "    .dataframe tbody tr th:only-of-type {\n",
       "        vertical-align: middle;\n",
       "    }\n",
       "\n",
       "    .dataframe tbody tr th {\n",
       "        vertical-align: top;\n",
       "    }\n",
       "\n",
       "    .dataframe thead th {\n",
       "        text-align: right;\n",
       "    }\n",
       "</style>\n",
       "<table border=\"1\" class=\"dataframe\">\n",
       "  <thead>\n",
       "    <tr style=\"text-align: right;\">\n",
       "      <th></th>\n",
       "      <th>id</th>\n",
       "      <th>raw_address</th>\n",
       "      <th>POI/street</th>\n",
       "    </tr>\n",
       "  </thead>\n",
       "  <tbody>\n",
       "    <tr>\n",
       "      <th>106322</th>\n",
       "      <td>106322</td>\n",
       "      <td>gg. mas darus 69 rt 12 2 pondok pinang kebayor...</td>\n",
       "      <td>/gg. mas darus</td>\n",
       "    </tr>\n",
       "    <tr>\n",
       "      <th>241177</th>\n",
       "      <td>241177</td>\n",
       "      <td>ye pe em, 42441</td>\n",
       "      <td>ye pe em/</td>\n",
       "    </tr>\n",
       "    <tr>\n",
       "      <th>219683</th>\n",
       "      <td>219683</td>\n",
       "      <td>mitra net cafe, polta, pasar minggu</td>\n",
       "      <td>mitra net cafe/polta</td>\n",
       "    </tr>\n",
       "    <tr>\n",
       "      <th>248253</th>\n",
       "      <td>248253</td>\n",
       "      <td>gerry ferhart jasa sniper darde, cibeu cibeute...</td>\n",
       "      <td>gerry ferhart jasa sniper darderdor/cibeu</td>\n",
       "    </tr>\n",
       "    <tr>\n",
       "      <th>20465</th>\n",
       "      <td>20465</td>\n",
       "      <td>nerada estate blokb8 11</td>\n",
       "      <td>nerada estate/</td>\n",
       "    </tr>\n",
       "  </tbody>\n",
       "</table>\n",
       "</div>"
      ],
      "text/plain": [
       "            id                                        raw_address  \\\n",
       "106322  106322  gg. mas darus 69 rt 12 2 pondok pinang kebayor...   \n",
       "241177  241177                                    ye pe em, 42441   \n",
       "219683  219683                mitra net cafe, polta, pasar minggu   \n",
       "248253  248253  gerry ferhart jasa sniper darde, cibeu cibeute...   \n",
       "20465    20465                            nerada estate blokb8 11   \n",
       "\n",
       "                                       POI/street  \n",
       "106322                             /gg. mas darus  \n",
       "241177                                  ye pe em/  \n",
       "219683                       mitra net cafe/polta  \n",
       "248253  gerry ferhart jasa sniper darderdor/cibeu  \n",
       "20465                              nerada estate/  "
      ]
     },
     "metadata": {},
     "output_type": "display_data"
    },
    {
     "name": "stdout",
     "output_type": "stream",
     "text": [
      "(240000, 3)\n"
     ]
    }
   ],
   "source": [
    "display(train_80_data.head())\n",
    "print(train_80_data.shape)"
   ]
  },
  {
   "cell_type": "code",
   "execution_count": 19,
   "metadata": {},
   "outputs": [
    {
     "data": {
      "text/html": [
       "<div>\n",
       "<style scoped>\n",
       "    .dataframe tbody tr th:only-of-type {\n",
       "        vertical-align: middle;\n",
       "    }\n",
       "\n",
       "    .dataframe tbody tr th {\n",
       "        vertical-align: top;\n",
       "    }\n",
       "\n",
       "    .dataframe thead th {\n",
       "        text-align: right;\n",
       "    }\n",
       "</style>\n",
       "<table border=\"1\" class=\"dataframe\">\n",
       "  <thead>\n",
       "    <tr style=\"text-align: right;\">\n",
       "      <th></th>\n",
       "      <th>id</th>\n",
       "      <th>raw_address</th>\n",
       "      <th>POI/street</th>\n",
       "    </tr>\n",
       "  </thead>\n",
       "  <tbody>\n",
       "    <tr>\n",
       "      <th>81026</th>\n",
       "      <td>81026</td>\n",
       "      <td>omah mode, jend. ahmad yani, panjunan</td>\n",
       "      <td>omah mode/jend. ahmad yani</td>\n",
       "    </tr>\n",
       "    <tr>\n",
       "      <th>67909</th>\n",
       "      <td>67909</td>\n",
       "      <td>tea country, ptpn 8, raya ciwi, sadu soreang</td>\n",
       "      <td>/</td>\n",
       "    </tr>\n",
       "    <tr>\n",
       "      <th>254760</th>\n",
       "      <td>254760</td>\n",
       "      <td>lant iv cakung timur cakung</td>\n",
       "      <td>/</td>\n",
       "    </tr>\n",
       "    <tr>\n",
       "      <th>209343</th>\n",
       "      <td>209343</td>\n",
       "      <td>anekatrans pers indon pt,</td>\n",
       "      <td>anekatrans persada indonesia pt/</td>\n",
       "    </tr>\n",
       "    <tr>\n",
       "      <th>260774</th>\n",
       "      <td>260774</td>\n",
       "      <td>pot batu anu andi</td>\n",
       "      <td>pot batu anurah andi/</td>\n",
       "    </tr>\n",
       "  </tbody>\n",
       "</table>\n",
       "</div>"
      ],
      "text/plain": [
       "            id                                   raw_address  \\\n",
       "81026    81026         omah mode, jend. ahmad yani, panjunan   \n",
       "67909    67909  tea country, ptpn 8, raya ciwi, sadu soreang   \n",
       "254760  254760                   lant iv cakung timur cakung   \n",
       "209343  209343                     anekatrans pers indon pt,   \n",
       "260774  260774                             pot batu anu andi   \n",
       "\n",
       "                              POI/street  \n",
       "81026         omah mode/jend. ahmad yani  \n",
       "67909                                  /  \n",
       "254760                                 /  \n",
       "209343  anekatrans persada indonesia pt/  \n",
       "260774             pot batu anurah andi/  "
      ]
     },
     "metadata": {},
     "output_type": "display_data"
    },
    {
     "name": "stdout",
     "output_type": "stream",
     "text": [
      "(60000, 3)\n"
     ]
    }
   ],
   "source": [
    "display(val_20_data.head())\n",
    "print(val_20_data.shape)"
   ]
  },
  {
   "cell_type": "code",
   "execution_count": 20,
   "metadata": {},
   "outputs": [],
   "source": [
    "val_20_data.to_csv(r'C:\\Users\\1993s\\Downloads\\scl-2021-ds\\val_20_data_csv.csv', encoding='utf-8')"
   ]
  },
  {
   "cell_type": "code",
   "execution_count": 21,
   "metadata": {},
   "outputs": [],
   "source": [
    "def text_file_gen(address, ps):\n",
    "    #print(address)\n",
    "    #print(ps)\n",
    "    address = address.lower()\n",
    "    ps = ps.lower()\n",
    "    \n",
    "    POI = ps.split('/')[0]\n",
    "    street = ps.split('/')[1]\n",
    "    \n",
    "    #add = re.split('[- :,.]',address)\n",
    "    #POI = re.split('[- :,.]',POI)\n",
    "    #street = re.split('[- :,.]',street)\n",
    "    \n",
    "    add = re.split('[ ]',address)\n",
    "    POI = re.split('[ ]',POI)\n",
    "    street = re.split('[ ]',street)\n",
    "    \n",
    "    \n",
    "    add = [i for i in add if i != '']\n",
    "    POI = [i for i in POI if i != '']\n",
    "    street = [i for i in street if i != '']\n",
    "    \n",
    "    add_fl = ['O' for i in add]\n",
    "    \n",
    "    #print(add)\n",
    "    \n",
    "    for p in range(len(POI)):\n",
    "        try:\n",
    "            if p == 0:\n",
    "                add_fl[add.index(POI[0])] = 'B-POI'\n",
    "            else:\n",
    "                add_fl[add.index(POI[0])+p] = 'I-POI'\n",
    "        except:\n",
    "            pass\n",
    "        \n",
    "    for s in range(len(street)):\n",
    "        try:\n",
    "            if s == 0:\n",
    "                add_fl[add.index(street[0])] = 'B-STREET'\n",
    "            else:\n",
    "                add_fl[add.index(street[0])+s] = 'I-STREET'\n",
    "        except:\n",
    "            pass\n",
    "    \n",
    "    #print(add_fl)\n",
    "    \n",
    "    return add, add_fl"
   ]
  },
  {
   "cell_type": "code",
   "execution_count": 22,
   "metadata": {},
   "outputs": [],
   "source": [
    "with open(r\"C:\\Users\\1993s\\Downloads\\scl-2021-ds\\train_80_file.txt\", \"a\", encoding='utf-8') as file:\n",
    "    for i,r in train_80_data.iterrows():\n",
    "        add_full, add_op = text_file_gen(r['raw_address'], r['POI/street'])\n",
    "\n",
    "        for j in range(len(add_op)):\n",
    "            string = add_full[j]+ \" \" + add_op[j]\n",
    "            file.write(string+ '\\n')\n",
    "            \n",
    "        file.write('\\n')"
   ]
  },
  {
   "cell_type": "code",
   "execution_count": 23,
   "metadata": {},
   "outputs": [],
   "source": [
    "with open(r\"C:\\Users\\1993s\\Downloads\\scl-2021-ds\\val_20_file.txt\", \"a\", encoding='utf-8') as file:\n",
    "    for i,r in val_20_data.iterrows():\n",
    "        add_full, add_op = text_file_gen(r['raw_address'], r['POI/street'])\n",
    "\n",
    "        for j in range(len(add_op)):\n",
    "            string = add_full[j]+ \" \" + add_op[j]\n",
    "            file.write(string+ '\\n')\n",
    "            \n",
    "        file.write('\\n')"
   ]
  },
  {
   "cell_type": "code",
   "execution_count": 24,
   "metadata": {},
   "outputs": [],
   "source": [
    "def test_text_file_gen(address):\n",
    "    #print(address)\n",
    "    #print(ps)\n",
    "    address = address.lower()\n",
    "    \n",
    "    add = re.split('[ ]',address)\n",
    "    \n",
    "    add = [i for i in add if i != '']\n",
    "    \n",
    "    add_fl = ['O' for i in add]\n",
    "    \n",
    "    \n",
    "    return add, add_fl"
   ]
  },
  {
   "cell_type": "code",
   "execution_count": 25,
   "metadata": {},
   "outputs": [],
   "source": [
    "with open(r\"C:\\Users\\1993s\\Downloads\\scl-2021-ds\\test_file.txt\", \"a\", encoding='utf-8') as file:\n",
    "    for i,r in test_data.iterrows():\n",
    "        add_full, add_op = test_text_file_gen(r['raw_address'])\n",
    "\n",
    "        for j in range(len(add_op)):\n",
    "            string = add_full[j]+ \" \" + add_op[j]\n",
    "            file.write(string+ '\\n')\n",
    "            \n",
    "        file.write('\\n')"
   ]
  },
  {
   "cell_type": "code",
   "execution_count": null,
   "metadata": {},
   "outputs": [],
   "source": []
  }
 ],
 "metadata": {
  "kernelspec": {
   "display_name": "Python 3",
   "language": "python",
   "name": "python3"
  },
  "language_info": {
   "codemirror_mode": {
    "name": "ipython",
    "version": 3
   },
   "file_extension": ".py",
   "mimetype": "text/x-python",
   "name": "python",
   "nbconvert_exporter": "python",
   "pygments_lexer": "ipython3",
   "version": "3.8.8"
  }
 },
 "nbformat": 4,
 "nbformat_minor": 2
}

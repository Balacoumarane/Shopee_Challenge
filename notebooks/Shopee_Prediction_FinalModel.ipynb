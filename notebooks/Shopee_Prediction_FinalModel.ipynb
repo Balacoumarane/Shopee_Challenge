{
 "cells": [
  {
   "cell_type": "code",
   "execution_count": 2,
   "id": "framed-bahrain",
   "metadata": {},
   "outputs": [],
   "source": [
    "import os\n",
    "import sys\n",
    "import inspect"
   ]
  },
  {
   "cell_type": "code",
   "execution_count": 3,
   "id": "rational-works",
   "metadata": {},
   "outputs": [],
   "source": [
    "# set current notebook path\n",
    "current_dir = os.path.dirname(os.path.abspath(inspect.getfile(inspect.currentframe())))\n",
    "parent_dir = os.path.dirname(current_dir)\n",
    "sys.path.insert(0, parent_dir)"
   ]
  },
  {
   "cell_type": "code",
   "execution_count": 4,
   "id": "intellectual-overview",
   "metadata": {},
   "outputs": [],
   "source": [
    "from NER_Module import execute_main"
   ]
  },
  {
   "cell_type": "markdown",
   "id": "grand-northern",
   "metadata": {},
   "source": [
    "## Training mode"
   ]
  },
  {
   "cell_type": "code",
   "execution_count": 5,
   "id": "activated-scroll",
   "metadata": {},
   "outputs": [],
   "source": [
    "## datapath \n",
    "# data =\"F:\\\\Bala_EU_DSVM_BACKUP\\\\Shopee_challenge\\\\Shopee_Challenge\\\\NER_Module\\\\test\\\\data\"\n",
    "# train_file = 'shopee_train.txt'\n",
    "# validation_file ='shopee_test.txt'\n",
    "# test_file = 'test_file.txt'"
   ]
  },
  {
   "cell_type": "code",
   "execution_count": 6,
   "id": "typical-comment",
   "metadata": {},
   "outputs": [],
   "source": [
    "model_path = 'F:\\\\Bala_EU_DSVM_BACKUP\\\\Shopee_challenge\\\\Shopee_Challenge\\\\model'\n",
    "data = \"F:\\\\Bala_EU_DSVM_BACKUP\\\\Shopee_challenge\\\\Shopee_Challenge\\\\data_3\"\n",
    "test_data = \"F:\\\\Bala_EU_DSVM_BACKUP\\\\Shopee_challenge\\\\Shopee_Challenge\\\\NER_Module\\\\test\\\\data\""
   ]
  },
  {
   "cell_type": "code",
   "execution_count": 11,
   "id": "defined-export",
   "metadata": {},
   "outputs": [],
   "source": [
    "# shoppee dataset\n",
    "train_file = 'train_file_95000.txt'\n",
    "validation_file ='val_file_15000.txt'\n",
    "test_file = 'test_file.txt'"
   ]
  },
  {
   "cell_type": "code",
   "execution_count": 12,
   "id": "polar-warning",
   "metadata": {},
   "outputs": [],
   "source": [
    "train_data_path = os.path.join(data,train_file)\n",
    "validation_data_path = os.path.join(data,validation_file)\n",
    "test_data_path = os.path.join(data,test_file)"
   ]
  },
  {
   "cell_type": "code",
   "execution_count": null,
   "id": "colonial-wheat",
   "metadata": {},
   "outputs": [
    {
     "name": "stderr",
     "output_type": "stream",
     "text": [
      "2021-03-20 05:37:19,384 [NER_Module.executor] [INFO] Training mode....\n",
      "2021-03-20 05:37:19,385 [NER_Module.model.model] [INFO] Loading pretrained indobert model.....\n",
      "Some weights of BertForWordClassification were not initialized from the model checkpoint at indobenchmark/indobert-base-p1 and are newly initialized: ['classifier.weight', 'classifier.bias']\n",
      "You should probably TRAIN this model on a down-stream task to be able to use it for predictions and inference.\n",
      "2021-03-20 05:37:27,890 [NER_Module.model.model] [INFO] Initialised model with indo-bert!!!!\n",
      "2021-03-20 05:37:31,961 [NER_Module.model.model] [INFO] Loading pretrained indobert model.....\n",
      "Some weights of BertForWordClassification were not initialized from the model checkpoint at indobenchmark/indobert-base-p1 and are newly initialized: ['classifier.weight', 'classifier.bias']\n",
      "You should probably TRAIN this model on a down-stream task to be able to use it for predictions and inference.\n",
      "2021-03-20 05:37:40,455 [NER_Module.model.model] [INFO] Initialised model with indo-bert!!!!\n",
      "2021-03-20 05:37:40,457 [NER_Module.model.model] [INFO] Device: cuda\n",
      "2021-03-20 05:37:40,460 [NER_Module.model.model] [INFO] Starting Training.....\n",
      "2021-03-20 05:37:40,462 [NER_Module.model.model] [INFO] Device is set at cuda\n",
      "2021-03-20 05:37:40,462 [NER_Module.model.model] [INFO] The model device is cuda:0\n",
      "(Epoch 1) TRAIN LOSS:0.4061 LR:0.00002000: 100%|█████████████████████████████████| 17813/17813 [26:47<00:00, 11.08it/s]\n",
      "2021-03-20 06:04:37,685 [NER_Module.model.model] [INFO] (Epoch 1) TRAIN LOSS:0.4061 ACC:0.89 F1:0.69 REC:0.74 PRE:0.64 LR:0.00002000\n",
      "2021-03-20 06:04:37,687 [NER_Module.model.model] [INFO] Saving model....\n",
      "2021-03-20 06:04:37,687 [NER_Module.model.model] [INFO] Saving model with exp_id\n",
      "(Epoch 2) TRAIN LOSS:0.2785 LR:0.00002000: 100%|█████████████████████████████████| 17813/17813 [26:30<00:00, 11.20it/s]\n",
      "2021-03-20 06:31:21,250 [NER_Module.model.model] [INFO] (Epoch 2) TRAIN LOSS:0.2785 ACC:0.92 F1:0.78 REC:0.84 PRE:0.73 LR:0.00002000\n",
      "2021-03-20 06:31:21,251 [NER_Module.model.model] [INFO] Saving model....\n",
      "2021-03-20 06:31:21,252 [NER_Module.model.model] [INFO] Saving model with exp_id\n",
      "VALID LOSS:0.2832 ACC:0.91 F1:0.77 REC:0.83 PRE:0.73: 100%|██████████████████████████| 938/938 [04:21<00:00,  3.58it/s]\n",
      "2021-03-20 06:36:41,977 [NER_Module.model.model] [INFO] (Epoch 2) VAL_METRIC :0.7738\n",
      "(Epoch 3) TRAIN LOSS:0.2440 LR:0.00002000: 100%|█████████████████████████████████| 17813/17813 [26:45<00:00, 11.09it/s]\n",
      "2021-03-20 07:03:37,532 [NER_Module.model.model] [INFO] (Epoch 3) TRAIN LOSS:0.2440 ACC:0.93 F1:0.81 REC:0.87 PRE:0.76 LR:0.00002000\n",
      "2021-03-20 07:03:37,533 [NER_Module.model.model] [INFO] Saving model....\n",
      "2021-03-20 07:03:37,533 [NER_Module.model.model] [INFO] Saving model with exp_id\n",
      "(Epoch 4) TRAIN LOSS:0.2205 LR:0.00002000: 100%|█████████████████████████████████| 17813/17813 [26:35<00:00, 11.16it/s]\n",
      "2021-03-20 07:30:26,196 [NER_Module.model.model] [INFO] (Epoch 4) TRAIN LOSS:0.2205 ACC:0.93 F1:0.84 REC:0.90 PRE:0.79 LR:0.00002000\n",
      "2021-03-20 07:30:26,197 [NER_Module.model.model] [INFO] Saving model....\n",
      "2021-03-20 07:30:26,198 [NER_Module.model.model] [INFO] Saving model with exp_id\n",
      "VALID LOSS:0.2901 ACC:0.92 F1:0.79 REC:0.84 PRE:0.74: 100%|██████████████████████████| 938/938 [04:21<00:00,  3.59it/s]\n",
      "2021-03-20 07:35:48,749 [NER_Module.model.model] [INFO] (Epoch 4) VAL_METRIC :0.7892\n",
      "(Epoch 5) TRAIN LOSS:0.2009 LR:0.00002000: 100%|█████████████████████████████████| 17813/17813 [26:13<00:00, 11.32it/s]\n",
      "2021-03-20 08:02:11,676 [NER_Module.model.model] [INFO] (Epoch 5) TRAIN LOSS:0.2009 ACC:0.94 F1:0.86 REC:0.91 PRE:0.81 LR:0.00002000\n",
      "2021-03-20 08:02:11,677 [NER_Module.model.model] [INFO] Saving model....\n",
      "2021-03-20 08:02:11,678 [NER_Module.model.model] [INFO] Saving model with exp_id\n",
      "(Epoch 6) TRAIN LOSS:0.1813 LR:0.00002000: 100%|█████████████████████████████████| 17813/17813 [38:15<00:00,  7.76it/s]\n",
      "2021-03-20 08:40:40,427 [NER_Module.model.model] [INFO] (Epoch 6) TRAIN LOSS:0.1813 ACC:0.94 F1:0.87 REC:0.92 PRE:0.82 LR:0.00002000\n",
      "2021-03-20 08:40:40,428 [NER_Module.model.model] [INFO] Saving model....\n",
      "2021-03-20 08:40:40,429 [NER_Module.model.model] [INFO] Saving model with exp_id\n",
      "VALID LOSS:0.3188 ACC:0.91 F1:0.79 REC:0.84 PRE:0.75: 100%|██████████████████████████| 938/938 [04:36<00:00,  3.39it/s]\n",
      "2021-03-20 08:46:17,539 [NER_Module.model.model] [INFO] (Epoch 6) VAL_METRIC :0.7899\n",
      "(Epoch 7) TRAIN LOSS:0.1646 LR:0.00002000: 100%|█████████████████████████████████| 17813/17813 [41:27<00:00,  7.16it/s]\n",
      "2021-03-20 09:27:55,275 [NER_Module.model.model] [INFO] (Epoch 7) TRAIN LOSS:0.1646 ACC:0.95 F1:0.88 REC:0.93 PRE:0.84 LR:0.00002000\n",
      "2021-03-20 09:27:55,276 [NER_Module.model.model] [INFO] Saving model....\n",
      "2021-03-20 09:27:55,277 [NER_Module.model.model] [INFO] Saving model with exp_id\n",
      "(Epoch 8) TRAIN LOSS:0.1491 LR:0.00002000: 100%|█████████████████████████████████| 17813/17813 [43:26<00:00,  6.83it/s]\n",
      "2021-03-20 10:11:34,755 [NER_Module.model.model] [INFO] (Epoch 8) TRAIN LOSS:0.1491 ACC:0.95 F1:0.89 REC:0.93 PRE:0.86 LR:0.00002000\n",
      "2021-03-20 10:11:34,756 [NER_Module.model.model] [INFO] Saving model....\n",
      "2021-03-20 10:11:34,756 [NER_Module.model.model] [INFO] Saving model with exp_id\n",
      "VALID LOSS:0.3792 ACC:0.91 F1:0.78 REC:0.82 PRE:0.75: 100%|██████████████████████████| 938/938 [04:34<00:00,  3.41it/s]\n",
      "2021-03-20 10:17:10,450 [NER_Module.model.model] [INFO] (Epoch 8) VAL_METRIC :0.7839\n",
      "2021-03-20 10:17:10,451 [NER_Module.model.model] [INFO] The best val is :0.7899367540371391 and val_metric is 0.7838994341214578\n",
      "2021-03-20 10:17:10,452 [NER_Module.model.model] [INFO] count stop: 1\n",
      "(Epoch 9) TRAIN LOSS:0.1354 LR:0.00002000: 100%|█████████████████████████████████| 17813/17813 [30:26<00:00,  9.75it/s]\n",
      "2021-03-20 10:47:46,956 [NER_Module.model.model] [INFO] (Epoch 9) TRAIN LOSS:0.1354 ACC:0.96 F1:0.90 REC:0.94 PRE:0.87 LR:0.00002000\n",
      "2021-03-20 10:47:46,957 [NER_Module.model.model] [INFO] Saving model....\n",
      "2021-03-20 10:47:46,957 [NER_Module.model.model] [INFO] Saving model with exp_id\n",
      "(Epoch 10) TRAIN LOSS:0.1231 LR:0.00002000: 100%|████████████████████████████████| 17813/17813 [26:35<00:00, 11.17it/s]\n",
      "2021-03-20 11:14:35,213 [NER_Module.model.model] [INFO] (Epoch 10) TRAIN LOSS:0.1231 ACC:0.96 F1:0.91 REC:0.94 PRE:0.88 LR:0.00002000\n",
      "2021-03-20 11:14:35,214 [NER_Module.model.model] [INFO] Saving model....\n",
      "2021-03-20 11:14:35,215 [NER_Module.model.model] [INFO] Saving model with exp_id\n",
      "VALID LOSS:0.4530 ACC:0.90 F1:0.78 REC:0.80 PRE:0.75: 100%|██████████████████████████| 938/938 [04:21<00:00,  3.58it/s]\n",
      "2021-03-20 11:19:57,203 [NER_Module.model.model] [INFO] (Epoch 10) VAL_METRIC :0.7759\n",
      "2021-03-20 11:19:57,204 [NER_Module.model.model] [INFO] The best val is :0.7899367540371391 and val_metric is 0.7758947741544266\n",
      "2021-03-20 11:19:57,204 [NER_Module.model.model] [INFO] count stop: 2\n",
      "(Epoch 11) TRAIN LOSS:0.1129 LR:0.00002000: 100%|████████████████████████████████| 17813/17813 [26:41<00:00, 11.12it/s]\n",
      "2021-03-20 11:46:48,628 [NER_Module.model.model] [INFO] (Epoch 11) TRAIN LOSS:0.1129 ACC:0.97 F1:0.92 REC:0.95 PRE:0.89 LR:0.00002000\n",
      "2021-03-20 11:46:48,629 [NER_Module.model.model] [INFO] Saving model....\n",
      "2021-03-20 11:46:48,630 [NER_Module.model.model] [INFO] Saving model with exp_id\n",
      "(Epoch 12) TRAIN LOSS:0.0950 LR:0.00002000:  34%|███████████▏                     | 6022/17813 [09:56<16:21, 12.01it/s]"
     ]
    }
   ],
   "source": [
    "## model initialisation\n",
    "result_df = execute_main(train_dataset_path=train_data_path, valid_dataset_path=validation_data_path,\n",
    "                          test_dataset_path=test_data_path, model_dir=model_path, model_filename=None,\n",
    "                          predict_only=False, n_epochs=12, exp_id='pipeline_final_model', random_state=33, device='cuda',\n",
    "                          validate_epoch=2, early_stop=3, criteria='F1',\n",
    "                          result_path=model_path, result_filename='shopee_pipeline_final')"
   ]
  },
  {
   "cell_type": "code",
   "execution_count": null,
   "id": "sweet-longer",
   "metadata": {},
   "outputs": [],
   "source": [
    "result_df.head()"
   ]
  },
  {
   "cell_type": "markdown",
   "id": "satellite-ranch",
   "metadata": {},
   "source": [
    "## Load model and predict (No training)"
   ]
  },
  {
   "cell_type": "code",
   "execution_count": null,
   "id": "advance-kansas",
   "metadata": {},
   "outputs": [],
   "source": [
    "## model_path \n",
    "model_folder = './'\n",
    "filename = 'best_model_pipeline_final_model.th'\n",
    "trained_model_path = os.path.join(model_folder,filename)"
   ]
  },
  {
   "cell_type": "code",
   "execution_count": null,
   "id": "czech-difficulty",
   "metadata": {},
   "outputs": [],
   "source": [
    "result_path ='F:\\\\Bala_EU_DSVM_BACKUP\\\\Shopee_challenge\\\\Shopee_Challenge\\\\model'"
   ]
  },
  {
   "cell_type": "code",
   "execution_count": 14,
   "id": "endangered-control",
   "metadata": {},
   "outputs": [
    {
     "name": "stderr",
     "output_type": "stream",
     "text": [
      "2021-03-20 05:19:22,028 [NER_Module.model.model] [INFO] Loading pretrained indobert model.....\n",
      "Some weights of BertForWordClassification were not initialized from the model checkpoint at indobenchmark/indobert-base-p1 and are newly initialized: ['classifier.bias', 'classifier.weight']\n",
      "You should probably TRAIN this model on a down-stream task to be able to use it for predictions and inference.\n",
      "2021-03-20 05:19:30,862 [NER_Module.model.model] [INFO] Initialised model with indo-bert!!!!\n",
      "2021-03-20 05:19:30,863 [NER_Module.model.model] [INFO] Device: cuda\n",
      "2021-03-20 05:19:30,864 [NER_Module.model.model] [INFO] Loading model from local path in cuda device\n",
      "2021-03-20 05:19:31,351 [NER_Module.model.model] [INFO] Loading Tokenizer from indo-Bert\n",
      "2021-03-20 05:19:31,821 [NER_Module.model.model] [INFO] Prediction mode....\n",
      "2021-03-20 05:19:31,822 [NER_Module.model.model] [INFO] Total sentence to predict: 3125\n",
      "100%|██████████████████████████████████████████████████████████████████████████████| 3125/3125 [02:02<00:00, 25.55it/s]\n",
      "2021-03-20 05:21:34,344 [NER_Module.model.model] [INFO] Results saved in F:\\Bala_EU_DSVM_BACKUP\\Shopee_challenge\\Shopee_Challenge\\model\\shopee_pipeline_original_3.csv\n",
      "2021-03-20 05:21:34,345 [NER_Module.model.model] [INFO] Prediction completed!!!\n",
      "2021-03-20 05:21:34,346 [NER_Module.model.model] [INFO] Total prediction time is:122.52312517166138\n",
      "2021-03-20 05:21:34,348 [NER_Module.executor] [INFO] Results are not converted into shopee format\n"
     ]
    }
   ],
   "source": [
    "## model initialisation\n",
    "predict_df = execute_main(train_dataset_path=None, valid_dataset_path=None,\n",
    "                          test_dataset_path=test_data_path, model_dir=model_folder, model_filename=filename,\n",
    "                          predict_only=True, random_state=33, device='cuda',\n",
    "                          result_path=result_path, result_filename='shopee_pipeline_original_3',\n",
    "                          convert_shopee=False, shopee_prediction_file=None)"
   ]
  },
  {
   "cell_type": "code",
   "execution_count": 12,
   "id": "painful-chamber",
   "metadata": {},
   "outputs": [
    {
     "data": {
      "text/plain": [
       "(50000, 2)"
      ]
     },
     "execution_count": 12,
     "metadata": {},
     "output_type": "execute_result"
    }
   ],
   "source": [
    "predict_df.shape"
   ]
  },
  {
   "cell_type": "code",
   "execution_count": null,
   "id": "anticipated-resident",
   "metadata": {},
   "outputs": [],
   "source": []
  }
 ],
 "metadata": {
  "kernelspec": {
   "display_name": "Python(shopee)",
   "language": "python",
   "name": "shopee"
  },
  "language_info": {
   "codemirror_mode": {
    "name": "ipython",
    "version": 3
   },
   "file_extension": ".py",
   "mimetype": "text/x-python",
   "name": "python",
   "nbconvert_exporter": "python",
   "pygments_lexer": "ipython3",
   "version": "3.8.8"
  }
 },
 "nbformat": 4,
 "nbformat_minor": 5
}

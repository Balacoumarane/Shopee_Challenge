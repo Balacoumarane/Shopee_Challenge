{
 "cells": [
  {
   "cell_type": "code",
   "execution_count": null,
   "id": "framed-bahrain",
   "metadata": {},
   "outputs": [],
   "source": [
    "import random\n",
    "import numpy as np\n",
    "import pandas as pd\n",
    "import os\n",
    "import sys\n",
    "import inspect\n",
    "import torch\n",
    "from torch import optim\n",
    "from torch.optim.lr_scheduler import StepLR\n",
    "from tqdm import tqdm\n",
    "from transformers import BertConfig, BertTokenizer\n",
    "from nltk.tokenize import word_tokenize"
   ]
  },
  {
   "cell_type": "code",
   "execution_count": null,
   "id": "rational-works",
   "metadata": {},
   "outputs": [],
   "source": [
    "# set current notebook path\n",
    "current_dir = os.path.dirname(os.path.abspath(inspect.getfile(inspect.currentframe())))\n",
    "parent_dir = os.path.dirname(current_dir)\n",
    "sys.path.insert(0, parent_dir)"
   ]
  },
  {
   "cell_type": "code",
   "execution_count": null,
   "id": "intellectual-overview",
   "metadata": {},
   "outputs": [],
   "source": [
    "from transformers import BertConfig, BertTokenizer\n",
    "from nltk.tokenize import word_tokenize\n",
    "\n",
    "from NER_Module import load_pretrained_model, BertNerModel, NerGritDataset, NerDataLoader"
   ]
  },
  {
   "cell_type": "code",
   "execution_count": null,
   "id": "dependent-alberta",
   "metadata": {},
   "outputs": [],
   "source": [
    "# import nltk\n",
    "\n",
    "# nltk.download('punkt')"
   ]
  },
  {
   "cell_type": "markdown",
   "id": "dental-least",
   "metadata": {},
   "source": [
    "## Training mode"
   ]
  },
  {
   "cell_type": "code",
   "execution_count": null,
   "id": "activated-scroll",
   "metadata": {},
   "outputs": [],
   "source": [
    "## datapath \n",
    "data = \"F:\\\\Bala_EU_DSVM_BACKUP\\\\Shopee_challenge\\\\Shopee_Challenge\\\\NER_Module\\\\test\\\\data\"\n",
    "train_file = 'shopee_train.txt'\n",
    "validation_file ='shopee_test.txt'\n",
    "#test_file = 'test_file.txt'\n",
    "model_path = 'F:\\\\Bala_EU_DSVM_BACKUP\\\\Shopee_challenge\\\\Shopee_Challenge\\\\model'"
   ]
  },
  {
   "cell_type": "code",
   "execution_count": null,
   "id": "stable-siemens",
   "metadata": {},
   "outputs": [],
   "source": [
    "train_data_path = os.path.join(data,train_file)\n",
    "validation_data_path = os.path.join(data,validation_file)\n",
    "#test_data_path = os.path.join(data,test_file)"
   ]
  },
  {
   "cell_type": "code",
   "execution_count": null,
   "id": "basic-xerox",
   "metadata": {},
   "outputs": [],
   "source": [
    "## load pretrained model\n",
    "base_model,tokenizer = load_pretrained_model(num_labels=NerGritDataset.NUM_LABELS, is_cuda=True)"
   ]
  },
  {
   "cell_type": "code",
   "execution_count": null,
   "id": "dental-norman",
   "metadata": {},
   "outputs": [],
   "source": [
    "base_model.device"
   ]
  },
  {
   "cell_type": "code",
   "execution_count": null,
   "id": "found-savings",
   "metadata": {},
   "outputs": [],
   "source": [
    "# load data\n",
    "train_dataset = NerGritDataset(train_data_path, tokenizer, lowercase=True)\n",
    "valid_dataset = NerGritDataset(validation_data_path, tokenizer, lowercase=True)\n",
    "#test_dataset = NerGritDataset(test_data_path, tokenizer, lowercase=True)\n",
    "\n",
    "train_loader = NerDataLoader(dataset=train_dataset, max_seq_len=512, batch_size=16, num_workers=16, shuffle=True)  \n",
    "valid_loader = NerDataLoader(dataset=valid_dataset, max_seq_len=512, batch_size=16, num_workers=16, shuffle=False)  \n",
    "#test_loader = NerDataLoader(dataset=test_dataset, max_seq_len=512, batch_size=16, num_workers=16, shuffle=False)"
   ]
  },
  {
   "cell_type": "code",
   "execution_count": null,
   "id": "regular-poverty",
   "metadata": {},
   "outputs": [],
   "source": [
    "NerGritDataset.NUM_LABELS"
   ]
  },
  {
   "cell_type": "code",
   "execution_count": null,
   "id": "rational-methodology",
   "metadata": {},
   "outputs": [],
   "source": [
    "w2i, i2w = NerGritDataset.LABEL2INDEX, NerGritDataset.INDEX2LABEL\n",
    "# print(w2i)\n",
    "# print(i2w)"
   ]
  },
  {
   "cell_type": "code",
   "execution_count": null,
   "id": "specialized-tokyo",
   "metadata": {},
   "outputs": [],
   "source": [
    "print(type(i2w))"
   ]
  },
  {
   "cell_type": "code",
   "execution_count": null,
   "id": "undefined-secretariat",
   "metadata": {},
   "outputs": [],
   "source": [
    "## model initialisation\n",
    "bert_model = BertNerModel(num_classes=NerGritDataset.NUM_LABELS, i2w=i2w, exp_id='test_3', random_state=33, device='cuda')"
   ]
  },
  {
   "cell_type": "code",
   "execution_count": null,
   "id": "rapid-enemy",
   "metadata": {},
   "outputs": [],
   "source": [
    "bert_model.train(train_loader=train_loader, val_loader=valid_loader, model_dir=model_path, num_epochs=10, \n",
    "                 evaluate_every=2, early_stop=3, valid_criterion='F1')"
   ]
  },
  {
   "cell_type": "code",
   "execution_count": null,
   "id": "academic-writer",
   "metadata": {},
   "outputs": [],
   "source": [
    "result_df = bert_model.predict(test_loader=test_loader, save_path= model_path, filename='result_test_2')"
   ]
  },
  {
   "cell_type": "markdown",
   "id": "satellite-ranch",
   "metadata": {},
   "source": [
    "## Load model and predict (No training)"
   ]
  },
  {
   "cell_type": "code",
   "execution_count": null,
   "id": "inside-credits",
   "metadata": {},
   "outputs": [],
   "source": [
    "## model_path \n",
    "model_folder = './'\n",
    "filename = 'best_model_test_2.th'\n",
    "model_path = os.path.join(model_folder,filename)"
   ]
  },
  {
   "cell_type": "code",
   "execution_count": null,
   "id": "enormous-madagascar",
   "metadata": {},
   "outputs": [],
   "source": [
    "w2i, i2w = NerGritDataset.LABEL2INDEX, NerGritDataset.INDEX2LABEL"
   ]
  },
  {
   "cell_type": "code",
   "execution_count": null,
   "id": "correct-cooperation",
   "metadata": {},
   "outputs": [],
   "source": [
    "## model initialisation\n",
    "bert_predict_model = BertNerModel(num_classes=NerGritDataset.NUM_LABELS, i2w=i2w, exp_id='test_2', random_state=33, device='cuda')"
   ]
  },
  {
   "cell_type": "code",
   "execution_count": null,
   "id": "abandoned-portugal",
   "metadata": {},
   "outputs": [],
   "source": [
    "## load custom model\n",
    "bert_predict_model, bert_predict_tokenizer=bert__predict_model.load_modellocal(path=model_path, load_tokenizer= True)"
   ]
  },
  {
   "cell_type": "code",
   "execution_count": null,
   "id": "considerable-volume",
   "metadata": {},
   "outputs": [],
   "source": [
    "## load test_data\n",
    "predict_dataset = NerGritDataset(test_data_path, bert_predict_tokenizer, lowercase=True)"
   ]
  },
  {
   "cell_type": "code",
   "execution_count": null,
   "id": "regional-safety",
   "metadata": {},
   "outputs": [],
   "source": [
    "## load data trainer\n",
    "predict_loader = NerDataLoader(dataset=predict_dataset, max_seq_len=512, batch_size=16, num_workers=16, shuffle=False)"
   ]
  },
  {
   "cell_type": "code",
   "execution_count": null,
   "id": "twelve-chile",
   "metadata": {},
   "outputs": [],
   "source": [
    "bert_predict_model.device"
   ]
  },
  {
   "cell_type": "code",
   "execution_count": null,
   "id": "sexual-monkey",
   "metadata": {},
   "outputs": [],
   "source": [
    "result_path ='F:\\\\Bala_EU_DSVM_BACKUP\\\\Shopee_challenge\\\\Shopee_Challenge\\\\model'"
   ]
  },
  {
   "cell_type": "code",
   "execution_count": null,
   "id": "applicable-migration",
   "metadata": {},
   "outputs": [],
   "source": [
    "predict_df = bert_predict_model.predict(test_loader=train_loader, save_path= None, filename='predict_test_2')"
   ]
  },
  {
   "cell_type": "code",
   "execution_count": null,
   "id": "adverse-hamilton",
   "metadata": {},
   "outputs": [],
   "source": [
    "## Compare two dataframes are equal \n",
    "predict_df.equals(result_df)"
   ]
  },
  {
   "cell_type": "code",
   "execution_count": null,
   "id": "potential-family",
   "metadata": {},
   "outputs": [],
   "source": [
    "len(train_loader)"
   ]
  },
  {
   "cell_type": "code",
   "execution_count": null,
   "id": "raised-cornwall",
   "metadata": {},
   "outputs": [],
   "source": [
    "predict_df.head()"
   ]
  },
  {
   "cell_type": "code",
   "execution_count": null,
   "id": "closed-addiction",
   "metadata": {},
   "outputs": [],
   "source": []
  }
 ],
 "metadata": {
  "kernelspec": {
   "display_name": "Python(shopee)",
   "language": "python",
   "name": "shopee"
  },
  "language_info": {
   "codemirror_mode": {
    "name": "ipython",
    "version": 3
   },
   "file_extension": ".py",
   "mimetype": "text/x-python",
   "name": "python",
   "nbconvert_exporter": "python",
   "pygments_lexer": "ipython3",
   "version": "3.8.8"
  }
 },
 "nbformat": 4,
 "nbformat_minor": 5
}

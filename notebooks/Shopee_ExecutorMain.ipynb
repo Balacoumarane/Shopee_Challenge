{
 "cells": [
  {
   "cell_type": "code",
   "execution_count": 1,
   "id": "framed-bahrain",
   "metadata": {},
   "outputs": [],
   "source": [
    "import os\n",
    "import sys\n",
    "import inspect"
   ]
  },
  {
   "cell_type": "code",
   "execution_count": 2,
   "id": "rational-works",
   "metadata": {},
   "outputs": [],
   "source": [
    "# set current notebook path\n",
    "current_dir = os.path.dirname(os.path.abspath(inspect.getfile(inspect.currentframe())))\n",
    "parent_dir = os.path.dirname(current_dir)\n",
    "sys.path.insert(0, parent_dir)"
   ]
  },
  {
   "cell_type": "code",
   "execution_count": 3,
   "id": "intellectual-overview",
   "metadata": {},
   "outputs": [],
   "source": [
    "from NER_Module import execute_main"
   ]
  },
  {
   "cell_type": "markdown",
   "id": "grand-northern",
   "metadata": {},
   "source": [
    "## Training mode"
   ]
  },
  {
   "cell_type": "code",
   "execution_count": 4,
   "id": "activated-scroll",
   "metadata": {},
   "outputs": [],
   "source": [
    "## datapath \n",
    "# data =\"F:\\\\Bala_EU_DSVM_BACKUP\\\\Shopee_challenge\\\\Shopee_Challenge\\\\NER_Module\\\\test\\\\data\"\n",
    "# train_file = 'shopee_train.txt'\n",
    "# validation_file ='shopee_test.txt'\n",
    "# test_file = 'test_file.txt'"
   ]
  },
  {
   "cell_type": "code",
   "execution_count": 9,
   "id": "typical-comment",
   "metadata": {},
   "outputs": [],
   "source": [
    "model_path = 'F:\\\\Bala_EU_DSVM_BACKUP\\\\Shopee_challenge\\\\Shopee_Challenge\\\\model'\n",
    "data = \"F:\\\\Bala_EU_DSVM_BACKUP\\\\Shopee_challenge\\\\Shopee_Challenge\\\\data_org\"\n",
    "test_data = \"F:\\\\Bala_EU_DSVM_BACKUP\\\\Shopee_challenge\\\\Shopee_Challenge\\\\NER_Module\\\\test\\\\data\""
   ]
  },
  {
   "cell_type": "code",
   "execution_count": 6,
   "id": "defined-export",
   "metadata": {},
   "outputs": [],
   "source": [
    "# shoppee dataset\n",
    "train_file = 'train_80_file.txt'\n",
    "validation_file ='val_20_file.txt'\n",
    "test_file = 'test_file.txt'"
   ]
  },
  {
   "cell_type": "code",
   "execution_count": 10,
   "id": "polar-warning",
   "metadata": {},
   "outputs": [],
   "source": [
    "train_data_path = os.path.join(data,train_file)\n",
    "validation_data_path = os.path.join(data,validation_file)\n",
    "test_data_path = os.path.join(data,test_file)"
   ]
  },
  {
   "cell_type": "code",
   "execution_count": null,
   "id": "colonial-wheat",
   "metadata": {},
   "outputs": [
    {
     "name": "stderr",
     "output_type": "stream",
     "text": [
      "2021-03-19 03:39:43,820 [NER_Module.executor] [INFO] Training mode....\n",
      "2021-03-19 03:39:43,821 [NER_Module.model.model] [INFO] Loading pretrained indobert model.....\n",
      "Some weights of BertForWordClassification were not initialized from the model checkpoint at indobenchmark/indobert-base-p1 and are newly initialized: ['classifier.bias', 'classifier.weight']\n",
      "You should probably TRAIN this model on a down-stream task to be able to use it for predictions and inference.\n",
      "2021-03-19 03:39:52,305 [NER_Module.model.model] [INFO] Initialised model with indo-bert!!!!\n",
      "2021-03-19 03:39:59,626 [NER_Module.model.model] [INFO] Loading pretrained indobert model.....\n",
      "Some weights of BertForWordClassification were not initialized from the model checkpoint at indobenchmark/indobert-base-p1 and are newly initialized: ['classifier.bias', 'classifier.weight']\n",
      "You should probably TRAIN this model on a down-stream task to be able to use it for predictions and inference.\n",
      "2021-03-19 03:40:08,035 [NER_Module.model.model] [INFO] Initialised model with indo-bert!!!!\n",
      "2021-03-19 03:40:08,036 [NER_Module.model.model] [INFO] Device: cuda\n",
      "2021-03-19 03:40:08,039 [NER_Module.model.model] [INFO] Starting Training.....\n",
      "2021-03-19 03:40:08,041 [NER_Module.model.model] [INFO] Device is set at cuda\n",
      "2021-03-19 03:40:08,042 [NER_Module.model.model] [INFO] The model device is cuda:0\n",
      "(Epoch 1) TRAIN LOSS:0.3485 LR:0.00002000: 100%|█████████████████████████████████| 30000/30000 [43:09<00:00, 11.59it/s]\n",
      "2021-03-19 04:23:33,395 [NER_Module.model.model] [INFO] (Epoch 1) TRAIN LOSS:0.3485 ACC:0.90 F1:0.74 REC:0.79 PRE:0.69 LR:0.00002000\n",
      "(Epoch 2) TRAIN LOSS:0.2406 LR:0.00002000: 100%|█████████████████████████████████| 30000/30000 [43:01<00:00, 11.62it/s]\n",
      "2021-03-19 05:06:51,195 [NER_Module.model.model] [INFO] (Epoch 2) TRAIN LOSS:0.2406 ACC:0.93 F1:0.82 REC:0.88 PRE:0.77 LR:0.00002000\n",
      "VALID LOSS:0.2347 ACC:0.93 F1:0.83 REC:0.88 PRE:0.78: 100%|██████████████████████| 7500/7500 [4:13:18<00:00,  2.03s/it]\n",
      "2021-03-19 09:20:58,410 [NER_Module.model.model] [INFO] (Epoch 2) VAL_METRIC :0.8257\n",
      "2021-03-19 09:20:58,412 [NER_Module.model.model] [INFO] Saving model with exp_id\n",
      "(Epoch 3) TRAIN LOSS:0.2056 LR:0.00002000: 100%|█████████████████████████████████| 30000/30000 [42:50<00:00, 11.67it/s]\n",
      "2021-03-19 10:04:07,775 [NER_Module.model.model] [INFO] (Epoch 3) TRAIN LOSS:0.2056 ACC:0.94 F1:0.85 REC:0.91 PRE:0.80 LR:0.00002000\n",
      "(Epoch 4) TRAIN LOSS:0.1771 LR:0.00002000: 100%|█████████████████████████████████| 30000/30000 [42:58<00:00, 11.64it/s]\n",
      "2021-03-19 10:47:22,013 [NER_Module.model.model] [INFO] (Epoch 4) TRAIN LOSS:0.1771 ACC:0.95 F1:0.87 REC:0.92 PRE:0.83 LR:0.00002000\n",
      "VALID LOSS:0.2075 ACC:0.94 F1:0.85 REC:0.90 PRE:0.81: 100%|██████████████████████| 7500/7500 [4:14:18<00:00,  2.03s/it]\n",
      "2021-03-19 15:02:29,456 [NER_Module.model.model] [INFO] (Epoch 4) VAL_METRIC :0.8521\n",
      "2021-03-19 15:02:29,457 [NER_Module.model.model] [INFO] Saving model with exp_id\n",
      "(Epoch 5) TRAIN LOSS:0.1513 LR:0.00002000: 100%|█████████████████████████████████| 30000/30000 [44:40<00:00, 11.19it/s]\n",
      "2021-03-19 15:47:29,398 [NER_Module.model.model] [INFO] (Epoch 5) TRAIN LOSS:0.1513 ACC:0.95 F1:0.89 REC:0.93 PRE:0.85 LR:0.00002000\n",
      "(Epoch 6) TRAIN LOSS:0.1301 LR:0.00002000: 100%|█████████████████████████████████| 30000/30000 [43:13<00:00, 11.57it/s]\n",
      "2021-03-19 16:30:58,705 [NER_Module.model.model] [INFO] (Epoch 6) TRAIN LOSS:0.1301 ACC:0.96 F1:0.90 REC:0.94 PRE:0.87 LR:0.00002000\n",
      "VALID LOSS:0.1976 ACC:0.95 F1:0.88 REC:0.91 PRE:0.85: 100%|██████████████████████| 7500/7500 [4:13:16<00:00,  2.03s/it]\n",
      "2021-03-19 20:45:17,072 [NER_Module.model.model] [INFO] (Epoch 6) VAL_METRIC :0.8784\n",
      "2021-03-19 20:45:17,073 [NER_Module.model.model] [INFO] Saving model with exp_id\n",
      "(Epoch 7) TRAIN LOSS:0.1114 LR:0.00002000: 100%|█████████████████████████████████| 30000/30000 [42:34<00:00, 11.74it/s]\n",
      "2021-03-19 21:28:10,903 [NER_Module.model.model] [INFO] (Epoch 7) TRAIN LOSS:0.1114 ACC:0.97 F1:0.92 REC:0.94 PRE:0.89 LR:0.00002000\n",
      "(Epoch 8) TRAIN LOSS:0.0960 LR:0.00002000: 100%|█████████████████████████████████| 30000/30000 [42:30<00:00, 11.76it/s]\n",
      "2021-03-19 22:10:57,841 [NER_Module.model.model] [INFO] (Epoch 8) TRAIN LOSS:0.0960 ACC:0.97 F1:0.93 REC:0.95 PRE:0.91 LR:0.00002000\n",
      "VALID LOSS:0.1810 ACC:0.95 F1:0.89 REC:0.93 PRE:0.86: 100%|██████████████████████| 7500/7500 [4:12:48<00:00,  2.02s/it]\n",
      "2021-03-20 02:24:47,741 [NER_Module.model.model] [INFO] (Epoch 8) VAL_METRIC :0.8905\n",
      "2021-03-20 02:24:47,742 [NER_Module.model.model] [INFO] Saving model with exp_id\n",
      "(Epoch 9) TRAIN LOSS:0.0837 LR:0.00002000: 100%|█████████████████████████████████| 30000/30000 [42:49<00:00, 11.67it/s]\n",
      "2021-03-20 03:07:56,939 [NER_Module.model.model] [INFO] (Epoch 9) TRAIN LOSS:0.0837 ACC:0.97 F1:0.94 REC:0.95 PRE:0.92 LR:0.00002000\n",
      "(Epoch 10) TRAIN LOSS:0.0732 LR:0.00002000: 100%|████████████████████████████████| 30000/30000 [43:54<00:00, 11.39it/s]\n",
      "2021-03-20 03:52:07,289 [NER_Module.model.model] [INFO] (Epoch 10) TRAIN LOSS:0.0732 ACC:0.98 F1:0.94 REC:0.96 PRE:0.93 LR:0.00002000\n",
      "VALID LOSS:0.1814 ACC:0.96 F1:0.90 REC:0.93 PRE:0.87: 100%|██████████████████████| 7500/7500 [4:16:48<00:00,  2.05s/it]\n",
      "2021-03-20 08:10:00,681 [NER_Module.model.model] [INFO] (Epoch 10) VAL_METRIC :0.8995\n",
      "2021-03-20 08:10:00,682 [NER_Module.model.model] [INFO] Saving model with exp_id\n",
      "(Epoch 11) TRAIN LOSS:0.0646 LR:0.00002000: 100%|██████████████████████████████| 30000/30000 [1:09:30<00:00,  7.19it/s]\n",
      "2021-03-20 09:19:50,804 [NER_Module.model.model] [INFO] (Epoch 11) TRAIN LOSS:0.0646 ACC:0.98 F1:0.95 REC:0.96 PRE:0.94 LR:0.00002000\n",
      "(Epoch 12) TRAIN LOSS:0.0577 LR:0.00002000: 100%|██████████████████████████████| 30000/30000 [1:08:22<00:00,  7.31it/s]\n",
      "2021-03-20 10:28:28,997 [NER_Module.model.model] [INFO] (Epoch 12) TRAIN LOSS:0.0577 ACC:0.98 F1:0.95 REC:0.96 PRE:0.94 LR:0.00002000\n",
      "VALID LOSS:0.1889 ACC:0.96 F1:0.89 REC:0.91 PRE:0.88:  58%|███████████▌        | 4343/7500 [1:27:53<2:06:00,  2.39s/it]"
     ]
    }
   ],
   "source": [
    "## model initialisation\n",
    "result_df = execute_main(train_dataset_path=train_data_path, valid_dataset_path=validation_data_path,\n",
    "                          test_dataset_path=test_data_path, model_dir=model_path, model_filename=None,\n",
    "                          predict_only=False, n_epochs=12, exp_id='pipeline_original_model', random_state=33, device='cuda',\n",
    "                          validate_epoch=2, early_stop=3, criteria='F1',\n",
    "                          result_path=model_path, result_filename='shopee_pipeline_original')"
   ]
  },
  {
   "cell_type": "code",
   "execution_count": null,
   "id": "sweet-longer",
   "metadata": {},
   "outputs": [],
   "source": [
    "result_df.head()"
   ]
  },
  {
   "cell_type": "markdown",
   "id": "satellite-ranch",
   "metadata": {},
   "source": [
    "## Load model and predict (No training)"
   ]
  },
  {
   "cell_type": "code",
   "execution_count": null,
   "id": "advance-kansas",
   "metadata": {},
   "outputs": [],
   "source": [
    "## model_path \n",
    "model_folder = './'\n",
    "filename = 'best_model_pipeline_cleaned_model.th'\n",
    "trained_model_path = os.path.join(model_folder,filename)"
   ]
  },
  {
   "cell_type": "code",
   "execution_count": null,
   "id": "czech-difficulty",
   "metadata": {},
   "outputs": [],
   "source": [
    "result_path ='F:\\\\Bala_EU_DSVM_BACKUP\\\\Shopee_challenge\\\\Shopee_Challenge\\\\model'"
   ]
  },
  {
   "cell_type": "code",
   "execution_count": null,
   "id": "endangered-control",
   "metadata": {},
   "outputs": [],
   "source": [
    "## model initialisation\n",
    "predict_df = execute_main(train_dataset_path=None, valid_dataset_path=None,\n",
    "                          test_dataset_path=test_data_path, model_dir=model_folder, model_filename=filename,\n",
    "                          predict_only=True, random_state=33, device='cuda',\n",
    "                          result_path=result_path, result_filename='shopee_pipeline_result')"
   ]
  },
  {
   "cell_type": "code",
   "execution_count": null,
   "id": "painful-chamber",
   "metadata": {},
   "outputs": [],
   "source": [
    "predict_df.head()"
   ]
  },
  {
   "cell_type": "code",
   "execution_count": null,
   "id": "certified-lafayette",
   "metadata": {},
   "outputs": [],
   "source": [
    "predict_df.head()"
   ]
  },
  {
   "cell_type": "code",
   "execution_count": null,
   "id": "mysterious-doctrine",
   "metadata": {},
   "outputs": [],
   "source": [
    "## Compare two dataframes are equal \n",
    "predict_df.equals(result_df)"
   ]
  }
 ],
 "metadata": {
  "kernelspec": {
   "display_name": "Python(shopee)",
   "language": "python",
   "name": "shopee"
  },
  "language_info": {
   "codemirror_mode": {
    "name": "ipython",
    "version": 3
   },
   "file_extension": ".py",
   "mimetype": "text/x-python",
   "name": "python",
   "nbconvert_exporter": "python",
   "pygments_lexer": "ipython3",
   "version": "3.8.8"
  }
 },
 "nbformat": 4,
 "nbformat_minor": 5
}

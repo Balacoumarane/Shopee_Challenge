{
 "cells": [
  {
   "cell_type": "code",
   "execution_count": 1,
   "id": "framed-bahrain",
   "metadata": {},
   "outputs": [],
   "source": [
    "import os\n",
    "import sys\n",
    "import inspect"
   ]
  },
  {
   "cell_type": "code",
   "execution_count": 2,
   "id": "rational-works",
   "metadata": {},
   "outputs": [],
   "source": [
    "# set current notebook path\n",
    "current_dir = os.path.dirname(os.path.abspath(inspect.getfile(inspect.currentframe())))\n",
    "parent_dir = os.path.dirname(current_dir)\n",
    "sys.path.insert(0, parent_dir)"
   ]
  },
  {
   "cell_type": "code",
   "execution_count": 3,
   "id": "intellectual-overview",
   "metadata": {},
   "outputs": [],
   "source": [
    "from NER_Module import execute_main"
   ]
  },
  {
   "cell_type": "markdown",
   "id": "grand-northern",
   "metadata": {},
   "source": [
    "## Training mode"
   ]
  },
  {
   "cell_type": "code",
   "execution_count": 4,
   "id": "activated-scroll",
   "metadata": {},
   "outputs": [],
   "source": [
    "## datapath \n",
    "# data =\"F:\\\\Bala_EU_DSVM_BACKUP\\\\Shopee_challenge\\\\Shopee_Challenge\\\\NER_Module\\\\test\\\\data\"\n",
    "# train_file = 'shopee_train.txt'\n",
    "# validation_file ='shopee_test.txt'\n",
    "# test_file = 'test_file.txt'"
   ]
  },
  {
   "cell_type": "code",
   "execution_count": 5,
   "id": "determined-premises",
   "metadata": {},
   "outputs": [],
   "source": [
    "model_path = 'F:\\\\Bala_EU_DSVM_BACKUP\\\\Shopee_challenge\\\\Shopee_Challenge\\\\model'\n",
    "data = \"F:\\\\Bala_EU_DSVM_BACKUP\\\\Shopee_challenge\\\\Shopee_Challenge\\\\data\"\n",
    "test_data = \"F:\\\\Bala_EU_DSVM_BACKUP\\\\Shopee_challenge\\\\Shopee_Challenge\\\\NER_Module\\\\test\\\\data\""
   ]
  },
  {
   "cell_type": "code",
   "execution_count": 8,
   "id": "treated-bedroom",
   "metadata": {},
   "outputs": [],
   "source": [
    "# shoppee dataset\n",
    "train_file = 'train_80_file.txt'\n",
    "validation_file ='val_20_file.txt'\n",
    "test_file = 'test_file.txt'"
   ]
  },
  {
   "cell_type": "code",
   "execution_count": 9,
   "id": "polar-warning",
   "metadata": {},
   "outputs": [],
   "source": [
    "train_data_path = os.path.join(data,train_file)\n",
    "validation_data_path = os.path.join(data,validation_file)\n",
    "test_data_path = os.path.join(data,test_file)"
   ]
  },
  {
   "cell_type": "code",
   "execution_count": null,
   "id": "valuable-surface",
   "metadata": {},
   "outputs": [
    {
     "name": "stderr",
     "output_type": "stream",
     "text": [
      "2021-03-17 12:37:49,920 [NER_Module.executor] [INFO] Training mode....\n",
      "2021-03-17 12:37:49,924 [NER_Module.model.model] [INFO] Loading pretrained indobert model.....\n",
      "Some weights of BertForWordClassification were not initialized from the model checkpoint at indobenchmark/indobert-base-p1 and are newly initialized: ['classifier.weight', 'classifier.bias']\n",
      "You should probably TRAIN this model on a down-stream task to be able to use it for predictions and inference.\n",
      "2021-03-17 12:38:01,187 [NER_Module.model.model] [INFO] Initialised model with indo-bert!!!!\n",
      "2021-03-17 12:38:04,679 [NER_Module.model.model] [INFO] Loading pretrained indobert model.....\n",
      "Some weights of BertForWordClassification were not initialized from the model checkpoint at indobenchmark/indobert-base-p1 and are newly initialized: ['classifier.weight', 'classifier.bias']\n",
      "You should probably TRAIN this model on a down-stream task to be able to use it for predictions and inference.\n",
      "2021-03-17 12:38:13,174 [NER_Module.model.model] [INFO] Initialised model with indo-bert!!!!\n",
      "2021-03-17 12:38:13,175 [NER_Module.model.model] [INFO] Device: cuda\n",
      "2021-03-17 12:38:13,178 [NER_Module.model.model] [INFO] Starting Training.....\n",
      "2021-03-17 12:38:13,179 [NER_Module.model.model] [INFO] Device is set at cuda\n",
      "2021-03-17 12:38:13,179 [NER_Module.model.model] [INFO] The model device is cuda:0\n",
      "(Epoch 1) TRAIN LOSS:0.4243 LR:0.00002000: 100%|█████████████████████████████████| 15000/15000 [28:51<00:00,  8.66it/s]\n",
      "2021-03-17 13:07:13,110 [NER_Module.model.model] [INFO] (Epoch 1) TRAIN LOSS:0.4243 ACC:0.89 F1:0.68 REC:0.73 PRE:0.63 LR:0.00002000\n",
      "(Epoch 2) TRAIN LOSS:0.2857 LR:0.00002000: 100%|█████████████████████████████████| 15000/15000 [34:50<00:00,  7.18it/s]\n",
      "2021-03-17 13:42:11,693 [NER_Module.model.model] [INFO] (Epoch 2) TRAIN LOSS:0.2857 ACC:0.91 F1:0.77 REC:0.83 PRE:0.72 LR:0.00002000\n",
      "VALID LOSS:0.2878 ACC:0.91 F1:0.77 REC:0.83 PRE:0.72: 100%|██████████████████████| 3750/3750 [1:04:41<00:00,  1.04s/it]\n",
      "2021-03-17 14:47:38,051 [NER_Module.model.model] [INFO] (Epoch 2) VAL_METRIC :0.7722\n",
      "2021-03-17 14:47:38,052 [NER_Module.model.model] [INFO] Saving model with exp_id\n",
      "(Epoch 3) TRAIN LOSS:nan LR:0.00002000: 100%|████████████████████████████████████| 15000/15000 [21:26<00:00, 11.66it/s]\n",
      "2021-03-17 15:09:16,211 [NER_Module.model.model] [INFO] (Epoch 3) TRAIN LOSS:nan ACC:0.76 F1:0.63 REC:0.68 PRE:0.60 LR:0.00002000\n",
      "(Epoch 4) TRAIN LOSS:nan LR:0.00002000:  14%|█████                                | 2062/15000 [05:36<28:36,  7.54it/s]"
     ]
    }
   ],
   "source": [
    "## model initialisation\n",
    "result_df = execute_main(train_dataset_path=train_data_path, valid_dataset_path=validation_data_path,\n",
    "                          test_dataset_path=test_data_path, model_dir=model_path, model_filename=None,\n",
    "                          predict_only=False, n_epochs=12, exp_id='pipeline_model', random_state=33, device='cuda',\n",
    "                          validate_epoch=2, early_stop=3, criteria='F1',\n",
    "                          result_path=model_path, result_filename='shopee_pipeline')"
   ]
  },
  {
   "cell_type": "code",
   "execution_count": null,
   "id": "sweet-longer",
   "metadata": {},
   "outputs": [],
   "source": [
    "result_df.head()"
   ]
  },
  {
   "cell_type": "markdown",
   "id": "satellite-ranch",
   "metadata": {},
   "source": [
    "## Load model and predict (No training)"
   ]
  },
  {
   "cell_type": "code",
   "execution_count": 8,
   "id": "advance-kansas",
   "metadata": {},
   "outputs": [],
   "source": [
    "## model_path \n",
    "model_folder = './'\n",
    "filename = 'best_model_shopee_model_1.th'\n",
    "trained_model_path = os.path.join(model_folder,filename)"
   ]
  },
  {
   "cell_type": "code",
   "execution_count": 9,
   "id": "czech-difficulty",
   "metadata": {},
   "outputs": [],
   "source": [
    "result_path ='F:\\\\Bala_EU_DSVM_BACKUP\\\\Shopee_challenge\\\\Shopee_Challenge\\\\model'"
   ]
  },
  {
   "cell_type": "code",
   "execution_count": 29,
   "id": "endangered-control",
   "metadata": {},
   "outputs": [
    {
     "name": "stderr",
     "output_type": "stream",
     "text": [
      "2021-03-16 16:33:54,664 [NER_Module.model.model] [INFO] Loading pretrained indobert model.....\n",
      "Some weights of BertForWordClassification were not initialized from the model checkpoint at indobenchmark/indobert-base-p1 and are newly initialized: ['classifier.bias', 'classifier.weight']\n",
      "You should probably TRAIN this model on a down-stream task to be able to use it for predictions and inference.\n",
      "2021-03-16 16:34:03,305 [NER_Module.model.model] [INFO] Initialised model with indo-bert!!!!\n",
      "2021-03-16 16:34:03,306 [NER_Module.model.model] [INFO] Device: cuda\n",
      "2021-03-16 16:34:03,307 [NER_Module.model.model] [INFO] Loading model from local path in cuda device\n",
      "2021-03-16 16:34:03,801 [NER_Module.model.model] [INFO] Loading Tokenizer from indo-Bert\n",
      "2021-03-16 16:34:04,446 [NER_Module.model.model] [INFO] Prediction mode....\n",
      "2021-03-16 16:34:04,447 [NER_Module.model.model] [INFO] Total sentence to predict: 3125\n",
      "100%|██████████████████████████████████████████████████████████████████████████████| 3125/3125 [01:43<00:00, 30.12it/s]\n",
      "2021-03-16 16:35:48,402 [NER_Module.model.model] [INFO] Results saved in F:\\Bala_EU_DSVM_BACKUP\\Shopee_challenge\\Shopee_Challenge\\model\\shopee_test_result.csv\n",
      "2021-03-16 16:35:48,402 [NER_Module.model.model] [INFO] Prediction completed!!!\n",
      "2021-03-16 16:35:48,403 [NER_Module.model.model] [INFO] Total prediction time is:103.9552252292633\n"
     ]
    }
   ],
   "source": [
    "## model initialisation\n",
    "predict_df = execute_main(train_dataset_path=None, valid_dataset_path=None,\n",
    "                          test_dataset_path=test_data_path, model_dir=model_folder, model_filename=filename,\n",
    "                          predict_only=True, random_state=33, device='cuda',\n",
    "                          result_path=result_path, result_filename='shopee_test_result')"
   ]
  },
  {
   "cell_type": "code",
   "execution_count": 12,
   "id": "painful-chamber",
   "metadata": {},
   "outputs": [
    {
     "data": {
      "text/html": [
       "<div>\n",
       "<style scoped>\n",
       "    .dataframe tbody tr th:only-of-type {\n",
       "        vertical-align: middle;\n",
       "    }\n",
       "\n",
       "    .dataframe tbody tr th {\n",
       "        vertical-align: top;\n",
       "    }\n",
       "\n",
       "    .dataframe thead th {\n",
       "        text-align: right;\n",
       "    }\n",
       "</style>\n",
       "<table border=\"1\" class=\"dataframe\">\n",
       "  <thead>\n",
       "    <tr style=\"text-align: right;\">\n",
       "      <th></th>\n",
       "      <th>index</th>\n",
       "      <th>label</th>\n",
       "    </tr>\n",
       "  </thead>\n",
       "  <tbody>\n",
       "    <tr>\n",
       "      <th>0</th>\n",
       "      <td>0</td>\n",
       "      <td>[B-STREET, I-STREET, I-STREET]</td>\n",
       "    </tr>\n",
       "    <tr>\n",
       "      <th>1</th>\n",
       "      <td>1</td>\n",
       "      <td>[O, B-POI, I-POI, B-STREET, I-STREET, O, O, O]</td>\n",
       "    </tr>\n",
       "    <tr>\n",
       "      <th>2</th>\n",
       "      <td>2</td>\n",
       "      <td>[B-STREET, I-STREET, O, O, O, O, O]</td>\n",
       "    </tr>\n",
       "    <tr>\n",
       "      <th>3</th>\n",
       "      <td>3</td>\n",
       "      <td>[B-POI, I-POI, I-POI]</td>\n",
       "    </tr>\n",
       "    <tr>\n",
       "      <th>4</th>\n",
       "      <td>4</td>\n",
       "      <td>[O, O, O, O, B-STREET, I-STREET]</td>\n",
       "    </tr>\n",
       "  </tbody>\n",
       "</table>\n",
       "</div>"
      ],
      "text/plain": [
       "   index                                           label\n",
       "0      0                  [B-STREET, I-STREET, I-STREET]\n",
       "1      1  [O, B-POI, I-POI, B-STREET, I-STREET, O, O, O]\n",
       "2      2             [B-STREET, I-STREET, O, O, O, O, O]\n",
       "3      3                           [B-POI, I-POI, I-POI]\n",
       "4      4                [O, O, O, O, B-STREET, I-STREET]"
      ]
     },
     "execution_count": 12,
     "metadata": {},
     "output_type": "execute_result"
    }
   ],
   "source": [
    "predict_df.head()"
   ]
  },
  {
   "cell_type": "code",
   "execution_count": null,
   "id": "certified-lafayette",
   "metadata": {},
   "outputs": [],
   "source": [
    "predict_df.head()"
   ]
  },
  {
   "cell_type": "code",
   "execution_count": null,
   "id": "mysterious-doctrine",
   "metadata": {},
   "outputs": [],
   "source": [
    "## Compare two dataframes are equal \n",
    "predict_df.equals(result_df)"
   ]
  }
 ],
 "metadata": {
  "kernelspec": {
   "display_name": "Python(shopee)",
   "language": "python",
   "name": "shopee"
  },
  "language_info": {
   "codemirror_mode": {
    "name": "ipython",
    "version": 3
   },
   "file_extension": ".py",
   "mimetype": "text/x-python",
   "name": "python",
   "nbconvert_exporter": "python",
   "pygments_lexer": "ipython3",
   "version": "3.8.8"
  }
 },
 "nbformat": 4,
 "nbformat_minor": 5
}

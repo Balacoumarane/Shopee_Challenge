{
 "cells": [
  {
   "cell_type": "code",
   "execution_count": 1,
   "id": "framed-bahrain",
   "metadata": {},
   "outputs": [],
   "source": [
    "import os\n",
    "import sys\n",
    "import inspect"
   ]
  },
  {
   "cell_type": "code",
   "execution_count": 2,
   "id": "rational-works",
   "metadata": {},
   "outputs": [],
   "source": [
    "# set current notebook path\n",
    "current_dir = os.path.dirname(os.path.abspath(inspect.getfile(inspect.currentframe())))\n",
    "parent_dir = os.path.dirname(current_dir)\n",
    "sys.path.insert(0, parent_dir)"
   ]
  },
  {
   "cell_type": "code",
   "execution_count": 3,
   "id": "intellectual-overview",
   "metadata": {},
   "outputs": [],
   "source": [
    "from NER_Module import execute_main"
   ]
  },
  {
   "cell_type": "markdown",
   "id": "grand-northern",
   "metadata": {},
   "source": [
    "## Training mode"
   ]
  },
  {
   "cell_type": "code",
   "execution_count": 14,
   "id": "activated-scroll",
   "metadata": {},
   "outputs": [],
   "source": [
    "## datapath \n",
    "data = \"F:\\\\Bala_EU_DSVM_BACKUP\\\\Shopee_challenge\\\\Shopee_Challenge\\\\NER_Module\\\\test\\\\data\"\n",
    "train_file = 'train_preprocess.txt'\n",
    "validation_file ='valid_preprocess.txt'\n",
    "test_file = 'test_preprocess_masked_label.txt'\n",
    "model_path = 'F:\\\\Bala_EU_DSVM_BACKUP\\\\Shopee_challenge\\\\Shopee_Challenge\\\\model'"
   ]
  },
  {
   "cell_type": "code",
   "execution_count": 15,
   "id": "polar-warning",
   "metadata": {},
   "outputs": [],
   "source": [
    "train_data_path = os.path.join(data,train_file)\n",
    "validation_data_path = os.path.join(data,validation_file)\n",
    "test_data_path = os.path.join(data,test_file)"
   ]
  },
  {
   "cell_type": "code",
   "execution_count": 16,
   "id": "paperback-presence",
   "metadata": {},
   "outputs": [
    {
     "name": "stderr",
     "output_type": "stream",
     "text": [
      "2021-03-15 16:18:39,202 [NER_Module.executor] [INFO] Training mode....\n",
      "2021-03-15 16:18:39,203 [NER_Module.model.model] [INFO] Loading pretrained indobert model.....\n",
      "Some weights of BertForWordClassification were not initialized from the model checkpoint at indobenchmark/indobert-base-p1 and are newly initialized: ['classifier.bias', 'classifier.weight']\n",
      "You should probably TRAIN this model on a down-stream task to be able to use it for predictions and inference.\n",
      "2021-03-15 16:18:47,823 [NER_Module.model.model] [INFO] Initialised model with indo-bert!!!!\n",
      "2021-03-15 16:18:47,884 [NER_Module.model.model] [INFO] Loading pretrained indobert model.....\n",
      "Some weights of BertForWordClassification were not initialized from the model checkpoint at indobenchmark/indobert-base-p1 and are newly initialized: ['classifier.bias', 'classifier.weight']\n",
      "You should probably TRAIN this model on a down-stream task to be able to use it for predictions and inference.\n",
      "2021-03-15 16:18:56,328 [NER_Module.model.model] [INFO] Initialised model with indo-bert!!!!\n",
      "2021-03-15 16:18:56,329 [NER_Module.model.model] [INFO] Device: cuda\n",
      "2021-03-15 16:18:56,332 [NER_Module.model.model] [INFO] Starting Training.....\n",
      "2021-03-15 16:18:56,333 [NER_Module.model.model] [INFO] Device is set at cuda\n",
      "2021-03-15 16:18:56,334 [NER_Module.model.model] [INFO] The model device is cuda:0\n",
      "(Epoch 1) TRAIN LOSS:1.2204 LR:0.00002000: 100%|█████████████████████████████████████| 105/105 [01:02<00:00,  1.69it/s]\n",
      "2021-03-15 16:19:58,595 [NER_Module.model.model] [INFO] (Epoch 1) TRAIN LOSS:1.2204 ACC:0.84 F1:0.17 REC:0.14 PRE:0.23 LR:0.00002000\n",
      "(Epoch 2) TRAIN LOSS:0.9372 LR:0.00002000: 100%|█████████████████████████████████████| 105/105 [01:02<00:00,  1.69it/s]\n",
      "2021-03-15 16:21:00,943 [NER_Module.model.model] [INFO] (Epoch 2) TRAIN LOSS:0.9372 ACC:0.92 F1:0.49 REC:0.50 PRE:0.51 LR:0.00002000\n",
      "VALID LOSS:0.9434 ACC:0.93 F1:0.57 REC:0.60 PRE:0.55: 100%|████████████████████████████| 14/14 [00:01<00:00,  8.06it/s]\n",
      "2021-03-15 16:21:43,255 [NER_Module.model.model] [INFO] Saving model with exp_id\n",
      "(Epoch 3) TRAIN LOSS:0.8145 LR:0.00002000: 100%|█████████████████████████████████████| 105/105 [01:03<00:00,  1.67it/s]\n",
      "2021-03-15 16:22:48,991 [NER_Module.model.model] [INFO] (Epoch 3) TRAIN LOSS:0.8145 ACC:0.94 F1:0.65 REC:0.66 PRE:0.64 LR:0.00002000\n",
      "(Epoch 4) TRAIN LOSS:0.7194 LR:0.00002000: 100%|█████████████████████████████████████| 105/105 [01:01<00:00,  1.72it/s]\n",
      "2021-03-15 16:23:50,442 [NER_Module.model.model] [INFO] (Epoch 4) TRAIN LOSS:0.7194 ACC:0.96 F1:0.75 REC:0.76 PRE:0.73 LR:0.00002000\n",
      "VALID LOSS:0.8907 ACC:0.95 F1:0.71 REC:0.72 PRE:0.71: 100%|████████████████████████████| 14/14 [00:01<00:00,  8.32it/s]\n",
      "2021-03-15 16:24:31,247 [NER_Module.model.model] [INFO] Saving model with exp_id\n",
      "(Epoch 5) TRAIN LOSS:0.6515 LR:0.00002000: 100%|█████████████████████████████████████| 105/105 [01:02<00:00,  1.69it/s]\n",
      "2021-03-15 16:25:36,302 [NER_Module.model.model] [INFO] (Epoch 5) TRAIN LOSS:0.6515 ACC:0.97 F1:0.79 REC:0.81 PRE:0.78 LR:0.00002000\n",
      "(Epoch 6) TRAIN LOSS:0.5856 LR:0.00002000: 100%|█████████████████████████████████████| 105/105 [01:01<00:00,  1.71it/s]\n",
      "2021-03-15 16:26:37,867 [NER_Module.model.model] [INFO] (Epoch 6) TRAIN LOSS:0.5856 ACC:0.97 F1:0.84 REC:0.86 PRE:0.83 LR:0.00002000\n",
      "VALID LOSS:0.8821 ACC:0.94 F1:0.72 REC:0.76 PRE:0.69: 100%|████████████████████████████| 14/14 [00:01<00:00,  8.28it/s]\n",
      "2021-03-15 16:27:19,098 [NER_Module.model.model] [INFO] Saving model with exp_id\n",
      "(Epoch 7) TRAIN LOSS:0.5288 LR:0.00002000: 100%|█████████████████████████████████████| 105/105 [01:02<00:00,  1.67it/s]\n",
      "2021-03-15 16:28:24,912 [NER_Module.model.model] [INFO] (Epoch 7) TRAIN LOSS:0.5288 ACC:0.98 F1:0.87 REC:0.88 PRE:0.86 LR:0.00002000\n",
      "(Epoch 8) TRAIN LOSS:0.4775 LR:0.00002000: 100%|█████████████████████████████████████| 105/105 [01:01<00:00,  1.70it/s]\n",
      "2021-03-15 16:29:27,024 [NER_Module.model.model] [INFO] (Epoch 8) TRAIN LOSS:0.4775 ACC:0.98 F1:0.89 REC:0.90 PRE:0.88 LR:0.00002000\n",
      "VALID LOSS:0.5849 ACC:0.95 F1:0.73 REC:0.76 PRE:0.70: 100%|████████████████████████████| 14/14 [00:01<00:00,  8.07it/s]\n",
      "2021-03-15 16:30:08,033 [NER_Module.model.model] [INFO] Saving model with exp_id\n",
      "(Epoch 9) TRAIN LOSS:0.4440 LR:0.00002000: 100%|█████████████████████████████████████| 105/105 [01:03<00:00,  1.64it/s]\n",
      "2021-03-15 16:31:14,646 [NER_Module.model.model] [INFO] (Epoch 9) TRAIN LOSS:0.4440 ACC:0.98 F1:0.90 REC:0.91 PRE:0.89 LR:0.00002000\n",
      "(Epoch 10) TRAIN LOSS:0.4055 LR:0.00002000: 100%|████████████████████████████████████| 105/105 [01:02<00:00,  1.68it/s]\n",
      "2021-03-15 16:32:17,288 [NER_Module.model.model] [INFO] (Epoch 10) TRAIN LOSS:0.4055 ACC:0.99 F1:0.91 REC:0.92 PRE:0.90 LR:0.00002000\n",
      "VALID LOSS:0.8920 ACC:0.95 F1:0.73 REC:0.75 PRE:0.71: 100%|████████████████████████████| 14/14 [00:01<00:00,  8.39it/s]\n",
      "2021-03-15 16:32:58,299 [NER_Module.model.model] [INFO] Saving model with exp_id\n",
      "2021-03-15 16:33:00,757 [NER_Module.model.model] [INFO] Prediction mode....\n",
      "2021-03-15 16:33:00,758 [NER_Module.model.model] [INFO] Total sentence to predict: 14\n",
      "100%|██████████████████████████████████████████████████████████████████████████████████| 14/14 [00:42<00:00,  3.01s/it]\n",
      "2021-03-15 16:33:42,939 [NER_Module.model.model] [INFO] Results saved in F:\\Bala_EU_DSVM_BACKUP\\Shopee_challenge\\Shopee_Challenge\\model\\wrapper_result.csv\n",
      "2021-03-15 16:33:42,939 [NER_Module.model.model] [INFO] Prediction completed!!!\n",
      "2021-03-15 16:33:42,940 [NER_Module.model.model] [INFO] Total prediction time is:42.18177938461304\n"
     ]
    }
   ],
   "source": [
    "## model initialisation\n",
    "result_df = execute_main(train_dataset_path=train_data_path, valid_dataset_path=validation_data_path,\n",
    "                          test_dataset_path=test_data_path, model_dir=model_path, model_filename=None,\n",
    "                          predict_only=False, n_epochs=10, exp_id='wrapper_model', random_state=33, device='cuda',\n",
    "                          validate_epoch=2, early_stop=3, criteria='F1',\n",
    "                          result_path=model_path, result_filename='wrapper_result')"
   ]
  },
  {
   "cell_type": "code",
   "execution_count": 17,
   "id": "sweet-longer",
   "metadata": {},
   "outputs": [
    {
     "data": {
      "text/html": [
       "<div>\n",
       "<style scoped>\n",
       "    .dataframe tbody tr th:only-of-type {\n",
       "        vertical-align: middle;\n",
       "    }\n",
       "\n",
       "    .dataframe tbody tr th {\n",
       "        vertical-align: top;\n",
       "    }\n",
       "\n",
       "    .dataframe thead th {\n",
       "        text-align: right;\n",
       "    }\n",
       "</style>\n",
       "<table border=\"1\" class=\"dataframe\">\n",
       "  <thead>\n",
       "    <tr style=\"text-align: right;\">\n",
       "      <th></th>\n",
       "      <th>index</th>\n",
       "      <th>label</th>\n",
       "    </tr>\n",
       "  </thead>\n",
       "  <tbody>\n",
       "    <tr>\n",
       "      <th>0</th>\n",
       "      <td>0</td>\n",
       "      <td>[B-PERSON, I-PERSON, O, O, O, O, B-PLACE, O, O]</td>\n",
       "    </tr>\n",
       "    <tr>\n",
       "      <th>1</th>\n",
       "      <td>1</td>\n",
       "      <td>[O, O, O, O, O, O, O, B-PERSON, O, O, O, O, O,...</td>\n",
       "    </tr>\n",
       "    <tr>\n",
       "      <th>2</th>\n",
       "      <td>2</td>\n",
       "      <td>[O, O, O, O, O, O, O, O, B-ORGANISATION, I-ORG...</td>\n",
       "    </tr>\n",
       "    <tr>\n",
       "      <th>3</th>\n",
       "      <td>3</td>\n",
       "      <td>[O, O, O, O, O, O, O, O, O, O, O, O, O, O, O, ...</td>\n",
       "    </tr>\n",
       "    <tr>\n",
       "      <th>4</th>\n",
       "      <td>4</td>\n",
       "      <td>[O, O, O, O, O, O, B-PERSON, I-PERSON, O, O, O...</td>\n",
       "    </tr>\n",
       "  </tbody>\n",
       "</table>\n",
       "</div>"
      ],
      "text/plain": [
       "   index                                              label\n",
       "0      0    [B-PERSON, I-PERSON, O, O, O, O, B-PLACE, O, O]\n",
       "1      1  [O, O, O, O, O, O, O, B-PERSON, O, O, O, O, O,...\n",
       "2      2  [O, O, O, O, O, O, O, O, B-ORGANISATION, I-ORG...\n",
       "3      3  [O, O, O, O, O, O, O, O, O, O, O, O, O, O, O, ...\n",
       "4      4  [O, O, O, O, O, O, B-PERSON, I-PERSON, O, O, O..."
      ]
     },
     "execution_count": 17,
     "metadata": {},
     "output_type": "execute_result"
    }
   ],
   "source": [
    "result_df.head()"
   ]
  },
  {
   "cell_type": "markdown",
   "id": "satellite-ranch",
   "metadata": {},
   "source": [
    "## Load model and predict (No training)"
   ]
  },
  {
   "cell_type": "code",
   "execution_count": 5,
   "id": "advance-kansas",
   "metadata": {},
   "outputs": [],
   "source": [
    "## model_path \n",
    "model_folder = './'\n",
    "filename = 'best_model_test_2.th'\n",
    "trained_model_path = os.path.join(model_folder,filename)"
   ]
  },
  {
   "cell_type": "code",
   "execution_count": 6,
   "id": "czech-difficulty",
   "metadata": {},
   "outputs": [],
   "source": [
    "result_path ='F:\\\\Bala_EU_DSVM_BACKUP\\\\Shopee_challenge\\\\Shopee_Challenge\\\\model'"
   ]
  },
  {
   "cell_type": "code",
   "execution_count": 12,
   "id": "endangered-control",
   "metadata": {},
   "outputs": [
    {
     "name": "stderr",
     "output_type": "stream",
     "text": [
      "2021-03-15 16:10:48,019 [NER_Module.model.model] [INFO] Loading pretrained indobert model.....\n",
      "Some weights of BertForWordClassification were not initialized from the model checkpoint at indobenchmark/indobert-base-p1 and are newly initialized: ['classifier.bias', 'classifier.weight']\n",
      "You should probably TRAIN this model on a down-stream task to be able to use it for predictions and inference.\n",
      "2021-03-15 16:10:56,509 [NER_Module.model.model] [INFO] Initialised model with indo-bert!!!!\n",
      "2021-03-15 16:10:56,510 [NER_Module.model.model] [INFO] Device: cuda\n",
      "2021-03-15 16:10:56,511 [NER_Module.model.model] [INFO] Loading model from local path in cuda device\n",
      "2021-03-15 16:10:56,959 [NER_Module.model.model] [INFO] Loading Tokenizer from indo-Bert\n",
      "2021-03-15 16:10:56,966 [NER_Module.model.model] [INFO] Prediction mode....\n",
      "2021-03-15 16:10:56,967 [NER_Module.model.model] [INFO] Total sentence to predict: 14\n",
      "100%|██████████████████████████████████████████████████████████████████████████████████| 14/14 [00:41<00:00,  2.96s/it]\n",
      "2021-03-15 16:11:38,421 [NER_Module.model.model] [INFO] Results saved in F:\\Bala_EU_DSVM_BACKUP\\Shopee_challenge\\Shopee_Challenge\\model\\predict_test_2.csv\n",
      "2021-03-15 16:11:38,422 [NER_Module.model.model] [INFO] Prediction completed!!!\n",
      "2021-03-15 16:11:38,423 [NER_Module.model.model] [INFO] Total prediction time is:41.45652437210083\n"
     ]
    }
   ],
   "source": [
    "## model initialisation\n",
    "predict_df = execute_main(train_dataset_path=None, valid_dataset_path=None,\n",
    "                          test_dataset_path=test_data_path, model_dir=model_folder, model_filename=filename,\n",
    "                          predict_only=True, random_state=33, device='cuda',\n",
    "                          result_path=result_path, result_filename='predict_test_2')"
   ]
  },
  {
   "cell_type": "code",
   "execution_count": 34,
   "id": "painful-chamber",
   "metadata": {},
   "outputs": [
    {
     "data": {
      "text/html": [
       "<div>\n",
       "<style scoped>\n",
       "    .dataframe tbody tr th:only-of-type {\n",
       "        vertical-align: middle;\n",
       "    }\n",
       "\n",
       "    .dataframe tbody tr th {\n",
       "        vertical-align: top;\n",
       "    }\n",
       "\n",
       "    .dataframe thead th {\n",
       "        text-align: right;\n",
       "    }\n",
       "</style>\n",
       "<table border=\"1\" class=\"dataframe\">\n",
       "  <thead>\n",
       "    <tr style=\"text-align: right;\">\n",
       "      <th></th>\n",
       "      <th>index</th>\n",
       "      <th>label</th>\n",
       "    </tr>\n",
       "  </thead>\n",
       "  <tbody>\n",
       "    <tr>\n",
       "      <th>0</th>\n",
       "      <td>0</td>\n",
       "      <td>[O, O, B-PERSON, O, O, O, O, O, B-ORGANISATION...</td>\n",
       "    </tr>\n",
       "    <tr>\n",
       "      <th>1</th>\n",
       "      <td>1</td>\n",
       "      <td>[O, O, O, O, O, B-ORGANISATION, I-ORGANISATION...</td>\n",
       "    </tr>\n",
       "    <tr>\n",
       "      <th>2</th>\n",
       "      <td>2</td>\n",
       "      <td>[O, O, O, O, O, O, O, O, O, O, O, O, O, O, O, ...</td>\n",
       "    </tr>\n",
       "    <tr>\n",
       "      <th>3</th>\n",
       "      <td>3</td>\n",
       "      <td>[B-PLACE, I-PLACE, O, O, O, O, O, O, O, O, B-P...</td>\n",
       "    </tr>\n",
       "    <tr>\n",
       "      <th>4</th>\n",
       "      <td>4</td>\n",
       "      <td>[B-ORGANISATION, I-ORGANISATION, O, O, O, O, O...</td>\n",
       "    </tr>\n",
       "  </tbody>\n",
       "</table>\n",
       "</div>"
      ],
      "text/plain": [
       "   index                                              label\n",
       "0      0  [O, O, B-PERSON, O, O, O, O, O, B-ORGANISATION...\n",
       "1      1  [O, O, O, O, O, B-ORGANISATION, I-ORGANISATION...\n",
       "2      2  [O, O, O, O, O, O, O, O, O, O, O, O, O, O, O, ...\n",
       "3      3  [B-PLACE, I-PLACE, O, O, O, O, O, O, O, O, B-P...\n",
       "4      4  [B-ORGANISATION, I-ORGANISATION, O, O, O, O, O..."
      ]
     },
     "execution_count": 34,
     "metadata": {},
     "output_type": "execute_result"
    }
   ],
   "source": [
    "predict_df.head()"
   ]
  },
  {
   "cell_type": "code",
   "execution_count": 13,
   "id": "certified-lafayette",
   "metadata": {},
   "outputs": [
    {
     "data": {
      "text/html": [
       "<div>\n",
       "<style scoped>\n",
       "    .dataframe tbody tr th:only-of-type {\n",
       "        vertical-align: middle;\n",
       "    }\n",
       "\n",
       "    .dataframe tbody tr th {\n",
       "        vertical-align: top;\n",
       "    }\n",
       "\n",
       "    .dataframe thead th {\n",
       "        text-align: right;\n",
       "    }\n",
       "</style>\n",
       "<table border=\"1\" class=\"dataframe\">\n",
       "  <thead>\n",
       "    <tr style=\"text-align: right;\">\n",
       "      <th></th>\n",
       "      <th>index</th>\n",
       "      <th>label</th>\n",
       "    </tr>\n",
       "  </thead>\n",
       "  <tbody>\n",
       "    <tr>\n",
       "      <th>0</th>\n",
       "      <td>0</td>\n",
       "      <td>[B-PERSON, I-PERSON, O, O, O, O, B-PLACE, O, O]</td>\n",
       "    </tr>\n",
       "    <tr>\n",
       "      <th>1</th>\n",
       "      <td>1</td>\n",
       "      <td>[O, O, O, O, O, O, O, B-PERSON, O, O, O, O, O,...</td>\n",
       "    </tr>\n",
       "    <tr>\n",
       "      <th>2</th>\n",
       "      <td>2</td>\n",
       "      <td>[O, O, O, O, O, O, O, O, I-ORGANISATION, I-ORG...</td>\n",
       "    </tr>\n",
       "    <tr>\n",
       "      <th>3</th>\n",
       "      <td>3</td>\n",
       "      <td>[O, O, O, O, O, O, O, O, O, O, O, O, O, O, O, ...</td>\n",
       "    </tr>\n",
       "    <tr>\n",
       "      <th>4</th>\n",
       "      <td>4</td>\n",
       "      <td>[O, O, O, O, O, O, B-PERSON, I-PERSON, O, O, O...</td>\n",
       "    </tr>\n",
       "  </tbody>\n",
       "</table>\n",
       "</div>"
      ],
      "text/plain": [
       "   index                                              label\n",
       "0      0    [B-PERSON, I-PERSON, O, O, O, O, B-PLACE, O, O]\n",
       "1      1  [O, O, O, O, O, O, O, B-PERSON, O, O, O, O, O,...\n",
       "2      2  [O, O, O, O, O, O, O, O, I-ORGANISATION, I-ORG...\n",
       "3      3  [O, O, O, O, O, O, O, O, O, O, O, O, O, O, O, ...\n",
       "4      4  [O, O, O, O, O, O, B-PERSON, I-PERSON, O, O, O..."
      ]
     },
     "execution_count": 13,
     "metadata": {},
     "output_type": "execute_result"
    }
   ],
   "source": [
    "predict_df.head()"
   ]
  },
  {
   "cell_type": "code",
   "execution_count": null,
   "id": "mysterious-doctrine",
   "metadata": {},
   "outputs": [],
   "source": [
    "## Compare two dataframes are equal \n",
    "predict_df.equals(result_df)"
   ]
  }
 ],
 "metadata": {
  "kernelspec": {
   "display_name": "Python(shopee)",
   "language": "python",
   "name": "shopee"
  },
  "language_info": {
   "codemirror_mode": {
    "name": "ipython",
    "version": 3
   },
   "file_extension": ".py",
   "mimetype": "text/x-python",
   "name": "python",
   "nbconvert_exporter": "python",
   "pygments_lexer": "ipython3",
   "version": "3.8.8"
  }
 },
 "nbformat": 4,
 "nbformat_minor": 5
}

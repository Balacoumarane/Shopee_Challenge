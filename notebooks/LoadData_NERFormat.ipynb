{
 "cells": [
  {
   "cell_type": "code",
   "execution_count": 60,
   "id": "framed-bahrain",
   "metadata": {},
   "outputs": [],
   "source": [
    "import pandas as pd\n",
    "import numpy as np\n",
    "import os\n",
    "from pathlib import Path\n",
    "import inspect\n",
    "import sys\n",
    "from sklearn.model_selection import train_test_split"
   ]
  },
  {
   "cell_type": "code",
   "execution_count": 61,
   "id": "rational-works",
   "metadata": {},
   "outputs": [],
   "source": [
    "# set current notebook path\n",
    "current_dir = os.path.dirname(os.path.abspath(inspect.getfile(inspect.currentframe())))\n",
    "parent_dir = os.path.dirname(current_dir)\n",
    "sys.path.insert(0, parent_dir)"
   ]
  },
  {
   "cell_type": "code",
   "execution_count": 62,
   "id": "activated-scroll",
   "metadata": {},
   "outputs": [],
   "source": [
    "## datapath \n",
    "data = 'F:\\Bala_EU_DSVM_BACKUP\\Shopee_challenge\\Shopee_Challenge\\data'\n",
    "train_file = 'train.csv'\n",
    "test_file = 'test.csv'\n",
    "train_data_path = os.path.join(data,train_file)\n",
    "test_data_path = os.path.join(data,test_file)"
   ]
  },
  {
   "cell_type": "code",
   "execution_count": 63,
   "id": "found-savings",
   "metadata": {},
   "outputs": [],
   "source": [
    "# load train data\n",
    "train_data = pd.read_csv(train_data_path)"
   ]
  },
  {
   "cell_type": "code",
   "execution_count": 64,
   "id": "commercial-gazette",
   "metadata": {},
   "outputs": [
    {
     "data": {
      "text/html": [
       "<div>\n",
       "<style scoped>\n",
       "    .dataframe tbody tr th:only-of-type {\n",
       "        vertical-align: middle;\n",
       "    }\n",
       "\n",
       "    .dataframe tbody tr th {\n",
       "        vertical-align: top;\n",
       "    }\n",
       "\n",
       "    .dataframe thead th {\n",
       "        text-align: right;\n",
       "    }\n",
       "</style>\n",
       "<table border=\"1\" class=\"dataframe\">\n",
       "  <thead>\n",
       "    <tr style=\"text-align: right;\">\n",
       "      <th></th>\n",
       "      <th>id</th>\n",
       "      <th>raw_address</th>\n",
       "      <th>POI/street</th>\n",
       "    </tr>\n",
       "  </thead>\n",
       "  <tbody>\n",
       "    <tr>\n",
       "      <th>0</th>\n",
       "      <td>0</td>\n",
       "      <td>jl kapuk timur delta sili iii lippo cika 11 a ...</td>\n",
       "      <td>/jl kapuk timur delta sili iii lippo cika</td>\n",
       "    </tr>\n",
       "    <tr>\n",
       "      <th>1</th>\n",
       "      <td>1</td>\n",
       "      <td>aye, jati sampurna</td>\n",
       "      <td>/</td>\n",
       "    </tr>\n",
       "    <tr>\n",
       "      <th>2</th>\n",
       "      <td>2</td>\n",
       "      <td>setu siung 119 rt 5 1 13880 cipayung</td>\n",
       "      <td>/siung</td>\n",
       "    </tr>\n",
       "    <tr>\n",
       "      <th>3</th>\n",
       "      <td>3</td>\n",
       "      <td>toko dita, kertosono</td>\n",
       "      <td>toko dita/</td>\n",
       "    </tr>\n",
       "    <tr>\n",
       "      <th>4</th>\n",
       "      <td>4</td>\n",
       "      <td>jl. orde baru</td>\n",
       "      <td>/jl. orde baru</td>\n",
       "    </tr>\n",
       "  </tbody>\n",
       "</table>\n",
       "</div>"
      ],
      "text/plain": [
       "   id                                        raw_address  \\\n",
       "0   0  jl kapuk timur delta sili iii lippo cika 11 a ...   \n",
       "1   1                                 aye, jati sampurna   \n",
       "2   2               setu siung 119 rt 5 1 13880 cipayung   \n",
       "3   3                               toko dita, kertosono   \n",
       "4   4                                      jl. orde baru   \n",
       "\n",
       "                                  POI/street  \n",
       "0  /jl kapuk timur delta sili iii lippo cika  \n",
       "1                                          /  \n",
       "2                                     /siung  \n",
       "3                                 toko dita/  \n",
       "4                             /jl. orde baru  "
      ]
     },
     "execution_count": 64,
     "metadata": {},
     "output_type": "execute_result"
    }
   ],
   "source": [
    "train_data.head()"
   ]
  },
  {
   "cell_type": "code",
   "execution_count": 72,
   "id": "dress-bracket",
   "metadata": {},
   "outputs": [],
   "source": [
    "def parse_iob_format(data=None, is_test: bool = False, rm_na: bool = False, valid_split:int = 0.2) -> pd.DataFrame:\n",
    "    \"\"\"\n",
    "    \"\"\"\n",
    "    df=data.copy()\n",
    "    if not is_test:\n",
    "        print('Processing data for NER format....')\n",
    "        if rm_na:\n",
    "            print('Removing na in the data')\n",
    "            df['POI/street']=df['POI/street'].replace('/', np.nan)\n",
    "            df = df.dropna(subset=['POI/street'])\n",
    "        df[['poi', 'street']]= df['POI/street'].str.split('/',expand=True)\n",
    "        train_df, valid_df = train_test_split(df, test_size=valid_split, random_state=33)\n",
    "        return train_df, valid_df\n",
    "    else:\n",
    "        print('Loading data for prediction...')"
   ]
  },
  {
   "cell_type": "code",
   "execution_count": 73,
   "id": "annoying-investigator",
   "metadata": {},
   "outputs": [
    {
     "name": "stdout",
     "output_type": "stream",
     "text": [
      "Processing data for NER format....\n",
      "Removing na in the data\n"
     ]
    }
   ],
   "source": [
    "train_df, test_df=parse_iob_format(data=train_data, is_test=False, rm_na=True)"
   ]
  },
  {
   "cell_type": "code",
   "execution_count": 74,
   "id": "sacred-joint",
   "metadata": {},
   "outputs": [
    {
     "data": {
      "text/html": [
       "<div>\n",
       "<style scoped>\n",
       "    .dataframe tbody tr th:only-of-type {\n",
       "        vertical-align: middle;\n",
       "    }\n",
       "\n",
       "    .dataframe tbody tr th {\n",
       "        vertical-align: top;\n",
       "    }\n",
       "\n",
       "    .dataframe thead th {\n",
       "        text-align: right;\n",
       "    }\n",
       "</style>\n",
       "<table border=\"1\" class=\"dataframe\">\n",
       "  <thead>\n",
       "    <tr style=\"text-align: right;\">\n",
       "      <th></th>\n",
       "      <th>id</th>\n",
       "      <th>raw_address</th>\n",
       "      <th>POI/street</th>\n",
       "      <th>poi</th>\n",
       "      <th>street</th>\n",
       "    </tr>\n",
       "  </thead>\n",
       "  <tbody>\n",
       "    <tr>\n",
       "      <th>214485</th>\n",
       "      <td>214485</td>\n",
       "      <td>rusun kapuk muara blokg lantai 2 no 8</td>\n",
       "      <td>rusun kapuk muara/</td>\n",
       "      <td>rusun kapuk muara</td>\n",
       "      <td></td>\n",
       "    </tr>\n",
       "    <tr>\n",
       "      <th>298399</th>\n",
       "      <td>298399</td>\n",
       "      <td>jatikarya raya kal 80 rt 2 6 17435 jati sampurna</td>\n",
       "      <td>/raya kal</td>\n",
       "      <td></td>\n",
       "      <td>raya kal</td>\n",
       "    </tr>\n",
       "    <tr>\n",
       "      <th>125142</th>\n",
       "      <td>125142</td>\n",
       "      <td>mess dirgantara skadik 602 lanud suryadarma ka...</td>\n",
       "      <td>lanud suryadarma kalijati/</td>\n",
       "      <td>lanud suryadarma kalijati</td>\n",
       "      <td></td>\n",
       "    </tr>\n",
       "    <tr>\n",
       "      <th>139240</th>\n",
       "      <td>139240</td>\n",
       "      <td>raden wij no 258 64182 ngasem</td>\n",
       "      <td>/raden wij</td>\n",
       "      <td></td>\n",
       "      <td>raden wij</td>\n",
       "    </tr>\n",
       "    <tr>\n",
       "      <th>134484</th>\n",
       "      <td>134484</td>\n",
       "      <td>orindo man, kawa mega mas sario</td>\n",
       "      <td>orindo manado/kawa mega mas</td>\n",
       "      <td>orindo manado</td>\n",
       "      <td>kawa mega mas</td>\n",
       "    </tr>\n",
       "  </tbody>\n",
       "</table>\n",
       "</div>"
      ],
      "text/plain": [
       "            id                                        raw_address  \\\n",
       "214485  214485              rusun kapuk muara blokg lantai 2 no 8   \n",
       "298399  298399   jatikarya raya kal 80 rt 2 6 17435 jati sampurna   \n",
       "125142  125142  mess dirgantara skadik 602 lanud suryadarma ka...   \n",
       "139240  139240                      raden wij no 258 64182 ngasem   \n",
       "134484  134484                    orindo man, kawa mega mas sario   \n",
       "\n",
       "                         POI/street                        poi         street  \n",
       "214485           rusun kapuk muara/          rusun kapuk muara                 \n",
       "298399                    /raya kal                                  raya kal  \n",
       "125142   lanud suryadarma kalijati/  lanud suryadarma kalijati                 \n",
       "139240                   /raden wij                                 raden wij  \n",
       "134484  orindo manado/kawa mega mas              orindo manado  kawa mega mas  "
      ]
     },
     "execution_count": 74,
     "metadata": {},
     "output_type": "execute_result"
    }
   ],
   "source": [
    "test_df.head()"
   ]
  },
  {
   "cell_type": "code",
   "execution_count": null,
   "id": "close-liquid",
   "metadata": {},
   "outputs": [],
   "source": []
  }
 ],
 "metadata": {
  "kernelspec": {
   "display_name": "Python(shopee)",
   "language": "python",
   "name": "shopee"
  },
  "language_info": {
   "codemirror_mode": {
    "name": "ipython",
    "version": 3
   },
   "file_extension": ".py",
   "mimetype": "text/x-python",
   "name": "python",
   "nbconvert_exporter": "python",
   "pygments_lexer": "ipython3",
   "version": "3.8.8"
  }
 },
 "nbformat": 4,
 "nbformat_minor": 5
}

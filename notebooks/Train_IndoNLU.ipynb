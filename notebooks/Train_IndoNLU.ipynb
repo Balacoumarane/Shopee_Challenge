{
 "cells": [
  {
   "cell_type": "code",
   "execution_count": 1,
   "id": "framed-bahrain",
   "metadata": {},
   "outputs": [],
   "source": [
    "import random\n",
    "import numpy as np\n",
    "import pandas as pd\n",
    "import os\n",
    "import sys\n",
    "import inspect\n",
    "import torch\n",
    "from torch import optim\n",
    "from torch.optim.lr_scheduler import StepLR\n",
    "from tqdm import tqdm\n",
    "from transformers import BertConfig, BertTokenizer\n",
    "from nltk.tokenize import word_tokenize"
   ]
  },
  {
   "cell_type": "code",
   "execution_count": 2,
   "id": "rational-works",
   "metadata": {},
   "outputs": [],
   "source": [
    "# set current notebook path\n",
    "current_dir = os.path.dirname(os.path.abspath(inspect.getfile(inspect.currentframe())))\n",
    "parent_dir = os.path.dirname(current_dir)\n",
    "sys.path.insert(0, parent_dir)"
   ]
  },
  {
   "cell_type": "code",
   "execution_count": 3,
   "id": "intellectual-overview",
   "metadata": {},
   "outputs": [],
   "source": [
    "from transformers import BertConfig, BertTokenizer\n",
    "from nltk.tokenize import word_tokenize\n",
    "\n",
    "from NER_Module.model import BertForWordClassification, forward_word_classification\n",
    "from NER_Module.utils import ner_metrics_fn, get_lr, metrics_to_string, count_param, set_seed\n",
    "from NER_Module.data import NerGritDataset, NerDataLoader"
   ]
  },
  {
   "cell_type": "code",
   "execution_count": 4,
   "id": "living-woman",
   "metadata": {},
   "outputs": [
    {
     "name": "stderr",
     "output_type": "stream",
     "text": [
      "[nltk_data] Downloading package punkt to\n",
      "[nltk_data]     C:\\Users\\n167574\\AppData\\Roaming\\nltk_data...\n",
      "[nltk_data]   Package punkt is already up-to-date!\n"
     ]
    },
    {
     "data": {
      "text/plain": [
       "True"
      ]
     },
     "execution_count": 4,
     "metadata": {},
     "output_type": "execute_result"
    }
   ],
   "source": [
    "import nltk\n",
    "nltk.download('punkt')"
   ]
  },
  {
   "cell_type": "markdown",
   "id": "eleven-modification",
   "metadata": {},
   "source": [
    "## Initilaise model"
   ]
  },
  {
   "cell_type": "code",
   "execution_count": 5,
   "id": "flying-mistress",
   "metadata": {},
   "outputs": [
    {
     "data": {
      "text/plain": [
       "33"
      ]
     },
     "execution_count": 5,
     "metadata": {},
     "output_type": "execute_result"
    }
   ],
   "source": [
    "# Set random seed\n",
    "set_seed(33)"
   ]
  },
  {
   "cell_type": "code",
   "execution_count": 6,
   "id": "patient-toolbox",
   "metadata": {},
   "outputs": [
    {
     "data": {
      "text/plain": [
       "7"
      ]
     },
     "execution_count": 6,
     "metadata": {},
     "output_type": "execute_result"
    }
   ],
   "source": [
    "NerGritDataset.NUM_LABELS"
   ]
  },
  {
   "cell_type": "code",
   "execution_count": 7,
   "id": "italic-bangkok",
   "metadata": {},
   "outputs": [
    {
     "name": "stderr",
     "output_type": "stream",
     "text": [
      "Some weights of BertForWordClassification were not initialized from the model checkpoint at indobenchmark/indobert-base-p1 and are newly initialized: ['classifier.bias', 'classifier.weight']\n",
      "You should probably TRAIN this model on a down-stream task to be able to use it for predictions and inference.\n"
     ]
    }
   ],
   "source": [
    "# Load Tokenizer and Config\n",
    "tokenizer = BertTokenizer.from_pretrained('indobenchmark/indobert-base-p1')\n",
    "config = BertConfig.from_pretrained('indobenchmark/indobert-base-p1')\n",
    "config.num_labels = NerGritDataset.NUM_LABELS\n",
    "\n",
    "# Instantiate model\n",
    "model = BertForWordClassification.from_pretrained('indobenchmark/indobert-base-p1', config=config)\n",
    "model= model.cuda()"
   ]
  },
  {
   "cell_type": "code",
   "execution_count": 8,
   "id": "wicked-arctic",
   "metadata": {},
   "outputs": [
    {
     "name": "stdout",
     "output_type": "stream",
     "text": [
      "{'I-PERSON': 0, 'B-ORGANISATION': 1, 'I-ORGANISATION': 2, 'B-PLACE': 3, 'I-PLACE': 4, 'O': 5, 'B-PERSON': 6}\n",
      "{0: 'I-PERSON', 1: 'B-ORGANISATION', 2: 'I-ORGANISATION', 3: 'B-PLACE', 4: 'I-PLACE', 5: 'O', 6: 'B-PERSON'}\n"
     ]
    }
   ],
   "source": [
    "w2i, i2w = NerGritDataset.LABEL2INDEX, NerGritDataset.INDEX2LABEL\n",
    "print(w2i)\n",
    "print(i2w)"
   ]
  },
  {
   "cell_type": "code",
   "execution_count": 9,
   "id": "upset-fisher",
   "metadata": {},
   "outputs": [
    {
     "data": {
      "text/plain": [
       "device(type='cuda', index=0)"
      ]
     },
     "execution_count": 9,
     "metadata": {},
     "output_type": "execute_result"
    }
   ],
   "source": [
    "model.device"
   ]
  },
  {
   "cell_type": "markdown",
   "id": "technical-exploration",
   "metadata": {},
   "source": [
    "## Test on sample data"
   ]
  },
  {
   "cell_type": "code",
   "execution_count": 10,
   "id": "italian-remedy",
   "metadata": {},
   "outputs": [],
   "source": [
    "def word_subword_tokenize(sentence, tokenizer):\n",
    "    # Add CLS token\n",
    "    subwords = [tokenizer.cls_token_id]\n",
    "    subword_to_word_indices = [-1] # For CLS\n",
    "\n",
    "    # Add subwords\n",
    "    for word_idx, word in enumerate(sentence):\n",
    "        subword_list = tokenizer.encode(word, add_special_tokens=False)\n",
    "        subword_to_word_indices += [word_idx for i in range(len(subword_list))]\n",
    "        subwords += subword_list\n",
    "\n",
    "    # Add last SEP token\n",
    "    subwords += [tokenizer.sep_token_id]\n",
    "    subword_to_word_indices += [-1]\n",
    "\n",
    "    return subwords, subword_to_word_indices"
   ]
  },
  {
   "cell_type": "code",
   "execution_count": 11,
   "id": "detailed-classics",
   "metadata": {},
   "outputs": [
    {
     "data": {
      "text/html": [
       "<div>\n",
       "<style scoped>\n",
       "    .dataframe tbody tr th:only-of-type {\n",
       "        vertical-align: middle;\n",
       "    }\n",
       "\n",
       "    .dataframe tbody tr th {\n",
       "        vertical-align: top;\n",
       "    }\n",
       "\n",
       "    .dataframe thead th {\n",
       "        text-align: right;\n",
       "    }\n",
       "</style>\n",
       "<table border=\"1\" class=\"dataframe\">\n",
       "  <thead>\n",
       "    <tr style=\"text-align: right;\">\n",
       "      <th></th>\n",
       "      <th>words</th>\n",
       "      <th>label</th>\n",
       "    </tr>\n",
       "  </thead>\n",
       "  <tbody>\n",
       "    <tr>\n",
       "      <th>0</th>\n",
       "      <td>setu</td>\n",
       "      <td>O</td>\n",
       "    </tr>\n",
       "    <tr>\n",
       "      <th>1</th>\n",
       "      <td>siung</td>\n",
       "      <td>O</td>\n",
       "    </tr>\n",
       "    <tr>\n",
       "      <th>2</th>\n",
       "      <td>119</td>\n",
       "      <td>I-PERSON</td>\n",
       "    </tr>\n",
       "    <tr>\n",
       "      <th>3</th>\n",
       "      <td>rt</td>\n",
       "      <td>B-PERSON</td>\n",
       "    </tr>\n",
       "    <tr>\n",
       "      <th>4</th>\n",
       "      <td>5</td>\n",
       "      <td>I-PLACE</td>\n",
       "    </tr>\n",
       "    <tr>\n",
       "      <th>5</th>\n",
       "      <td>1</td>\n",
       "      <td>O</td>\n",
       "    </tr>\n",
       "    <tr>\n",
       "      <th>6</th>\n",
       "      <td>13880</td>\n",
       "      <td>B-PLACE</td>\n",
       "    </tr>\n",
       "    <tr>\n",
       "      <th>7</th>\n",
       "      <td>cipayung</td>\n",
       "      <td>O</td>\n",
       "    </tr>\n",
       "  </tbody>\n",
       "</table>\n",
       "</div>"
      ],
      "text/plain": [
       "      words     label\n",
       "0      setu         O\n",
       "1     siung         O\n",
       "2       119  I-PERSON\n",
       "3        rt  B-PERSON\n",
       "4         5   I-PLACE\n",
       "5         1         O\n",
       "6     13880   B-PLACE\n",
       "7  cipayung         O"
      ]
     },
     "execution_count": 11,
     "metadata": {},
     "output_type": "execute_result"
    }
   ],
   "source": [
    "text = word_tokenize('setu siung 119 rt 5 1 13880 cipayung')\n",
    "subwords, subword_to_word_indices = word_subword_tokenize(text, tokenizer)\n",
    "\n",
    "subwords = torch.LongTensor(subwords).view(1, -1).to(model.device)\n",
    "subword_to_word_indices = torch.LongTensor(subword_to_word_indices).view(1, -1).to(model.device)\n",
    "logits = model(subwords, subword_to_word_indices)[0]\n",
    "\n",
    "preds = torch.topk(logits, k=1, dim=-1)[1].cpu().squeeze().numpy()\n",
    "labels = [i2w[preds[i]] for i in range(len(preds))]\n",
    "\n",
    "pd.DataFrame({'words': text, 'label': labels})"
   ]
  },
  {
   "cell_type": "markdown",
   "id": "ideal-composer",
   "metadata": {},
   "source": [
    "## Load data"
   ]
  },
  {
   "cell_type": "code",
   "execution_count": 12,
   "id": "activated-scroll",
   "metadata": {},
   "outputs": [],
   "source": [
    "## datapath \n",
    "data = \"F:\\\\Bala_EU_DSVM_BACKUP\\\\Shopee_challenge\\\\Shopee_Challenge\\\\NER_Module\\\\test\\\\data\"\n",
    "train_file = 'train_preprocess.txt'\n",
    "validation_file ='valid_preprocess.txt'\n",
    "test_file = 'test_preprocess_masked_label.txt'\n",
    "train_data_path = os.path.join(data,train_file)\n",
    "validation_data_path = os.path.join(data,validation_file)\n",
    "test_data_path = os.path.join(data,test_file)"
   ]
  },
  {
   "cell_type": "code",
   "execution_count": 13,
   "id": "arranged-camcorder",
   "metadata": {},
   "outputs": [],
   "source": [
    "# data = \"F:\\\\Bala_EU_DSVM_BACKUP\\\\Shopee_challenge\\\\Shopee_Challenge\\\\NER_Module\\\\test\\\\data\"\n",
    "# train_file = 'shopee_train.txt'\n",
    "# validation_file ='shopee_test.txt'\n",
    "# test_file = 'test_file.txt'\n",
    "# model_path = 'F:\\\\Bala_EU_DSVM_BACKUP\\\\Shopee_challenge\\\\Shopee_Challenge\\\\model'"
   ]
  },
  {
   "cell_type": "code",
   "execution_count": 14,
   "id": "banner-upgrade",
   "metadata": {},
   "outputs": [],
   "source": [
    "# shoppee dataset\n",
    "# model_path = 'F:\\\\Bala_EU_DSVM_BACKUP\\\\Shopee_challenge\\\\Shopee_Challenge\\\\model'\n",
    "# data = \"F:\\\\Bala_EU_DSVM_BACKUP\\\\Shopee_challenge\\\\Shopee_Challenge\\\\data\"\n",
    "# test_data = \"F:\\\\Bala_EU_DSVM_BACKUP\\\\Shopee_challenge\\\\Shopee_Challenge\\\\NER_Module\\\\test\\\\data\"\n",
    "# train_file = 'train_80_file.txt'\n",
    "# validation_file ='val_20_file.txt'\n",
    "# test_file = 'test_file.txt'"
   ]
  },
  {
   "cell_type": "code",
   "execution_count": 15,
   "id": "colored-bench",
   "metadata": {},
   "outputs": [],
   "source": [
    "train_data_path = os.path.join(data,train_file)\n",
    "validation_data_path = os.path.join(data,validation_file)\n",
    "test_data_path = os.path.join(data,test_file)"
   ]
  },
  {
   "cell_type": "code",
   "execution_count": 16,
   "id": "healthy-background",
   "metadata": {},
   "outputs": [],
   "source": [
    "model_dir = 'F:\\\\Bala_EU_DSVM_BACKUP\\\\Shopee_challenge\\\\Shopee_Challenge\\\\model'\n",
    "if not os.path.exists(model_dir):\n",
    "    os.makedirs(model_dir, exist_ok=True)"
   ]
  },
  {
   "cell_type": "code",
   "execution_count": 17,
   "id": "found-savings",
   "metadata": {},
   "outputs": [],
   "source": [
    "# load data\n",
    "train_dataset = NerGritDataset(train_data_path, tokenizer, lowercase=True)\n",
    "valid_dataset = NerGritDataset(validation_data_path, tokenizer, lowercase=True)\n",
    "#test_dataset = NerGritDataset(test_data_path, tokenizer, lowercase=True)\n",
    "\n",
    "train_loader = NerDataLoader(dataset=train_dataset, max_seq_len=512, batch_size=16, num_workers=16, shuffle=True)  \n",
    "valid_loader = NerDataLoader(dataset=valid_dataset, max_seq_len=512, batch_size=16, num_workers=16, shuffle=False)  \n",
    "#test_loader = NerDataLoader(dataset=test_dataset, max_seq_len=512, batch_size=16, num_workers=16, shuffle=False)"
   ]
  },
  {
   "cell_type": "code",
   "execution_count": 18,
   "id": "commercial-gazette",
   "metadata": {},
   "outputs": [
    {
     "data": {
      "text/plain": [
       "<NER_Module.data.dataset.NerGritDataset at 0x127005e95b0>"
      ]
     },
     "execution_count": 18,
     "metadata": {},
     "output_type": "execute_result"
    }
   ],
   "source": [
    "train_dataset"
   ]
  },
  {
   "cell_type": "code",
   "execution_count": 1,
   "id": "literary-immune",
   "metadata": {},
   "outputs": [
    {
     "ename": "NameError",
     "evalue": "name 'train_dataset' is not defined",
     "output_type": "error",
     "traceback": [
      "\u001b[1;31m---------------------------------------------------------------------------\u001b[0m",
      "\u001b[1;31mNameError\u001b[0m                                 Traceback (most recent call last)",
      "\u001b[1;32m<ipython-input-1-b242c0dcc46f>\u001b[0m in \u001b[0;36m<module>\u001b[1;34m\u001b[0m\n\u001b[1;32m----> 1\u001b[1;33m \u001b[0mprint\u001b[0m\u001b[1;33m(\u001b[0m\u001b[0mlen\u001b[0m\u001b[1;33m(\u001b[0m\u001b[0mtrain_dataset\u001b[0m\u001b[1;33m)\u001b[0m\u001b[1;33m)\u001b[0m\u001b[1;33m\u001b[0m\u001b[1;33m\u001b[0m\u001b[0m\n\u001b[0m\u001b[0;32m      2\u001b[0m \u001b[0mprint\u001b[0m\u001b[1;33m(\u001b[0m\u001b[0mlen\u001b[0m\u001b[1;33m(\u001b[0m\u001b[0mvalid_dataset\u001b[0m\u001b[1;33m)\u001b[0m\u001b[1;33m)\u001b[0m\u001b[1;33m\u001b[0m\u001b[1;33m\u001b[0m\u001b[0m\n\u001b[0;32m      3\u001b[0m \u001b[0mprint\u001b[0m\u001b[1;33m(\u001b[0m\u001b[0mlen\u001b[0m\u001b[1;33m(\u001b[0m\u001b[0mtest_dataset\u001b[0m\u001b[1;33m)\u001b[0m\u001b[1;33m)\u001b[0m\u001b[1;33m\u001b[0m\u001b[1;33m\u001b[0m\u001b[0m\n",
      "\u001b[1;31mNameError\u001b[0m: name 'train_dataset' is not defined"
     ]
    }
   ],
   "source": [
    "print(len(train_dataset))\n",
    "print(len(valid_dataset))\n",
    "print(len(test_dataset))"
   ]
  },
  {
   "cell_type": "markdown",
   "id": "postal-forty",
   "metadata": {},
   "source": [
    "## Train model"
   ]
  },
  {
   "cell_type": "code",
   "execution_count": 20,
   "id": "pacific-junior",
   "metadata": {},
   "outputs": [],
   "source": [
    "best_val_metric = -100\n",
    "count_stop = 0\n",
    "exp_id = 'notebook_test_model'\n",
    "evaluate_every=5\n",
    "step_size=1\n",
    "gamma=0.5\n",
    "early_stop = 3\n",
    "valid_criterion= 'F1'\n",
    "epochs=15"
   ]
  },
  {
   "cell_type": "code",
   "execution_count": 21,
   "id": "treated-tactics",
   "metadata": {},
   "outputs": [],
   "source": [
    "optimizer = optim.Adam(model.parameters(), lr=2e-5)"
   ]
  },
  {
   "cell_type": "code",
   "execution_count": 22,
   "id": "fixed-collar",
   "metadata": {},
   "outputs": [],
   "source": [
    "## validation evaluate\n",
    "# Evaluate function for validation and test\n",
    "def evaluate(model, data_loader, i2w, is_test=False, device='cpu'):\n",
    "    model.eval()\n",
    "    torch.set_grad_enabled(False)\n",
    "    total_loss, total_correct, total_labels = 0, 0, 0\n",
    "\n",
    "    list_hyp, list_label, list_seq = [], [], []\n",
    "\n",
    "    pbar = tqdm(iter(data_loader), leave=True, total=len(data_loader))\n",
    "    for i, batch_data in enumerate(pbar):\n",
    "        batch_seq = batch_data[-1]        \n",
    "        loss, batch_hyp, batch_label = forward_word_classification(model, batch_data[:-1], i2w=i2w, device= device)\n",
    "\n",
    "        \n",
    "        # Calculate total loss\n",
    "        test_loss = loss.item()\n",
    "        total_loss = total_loss + test_loss\n",
    "\n",
    "        # Calculate evaluation metrics\n",
    "        list_hyp += batch_hyp\n",
    "        list_label += batch_label\n",
    "        list_seq += batch_seq\n",
    "        metrics = ner_metrics_fn(list_hyp, list_label)\n",
    "\n",
    "        if not is_test:\n",
    "            pbar.set_description(\"VALID LOSS:{:.4f} {}\".format(total_loss/(i+1), metrics_to_string(metrics)))\n",
    "        else:\n",
    "            pbar.set_description(\"TEST LOSS:{:.4f} {}\".format(total_loss/(i+1), metrics_to_string(metrics)))\n",
    "    \n",
    "    if is_test:\n",
    "        return total_loss, metrics, list_hyp, list_label, list_seq\n",
    "    else:\n",
    "        return total_loss, metrics"
   ]
  },
  {
   "cell_type": "code",
   "execution_count": 23,
   "id": "understood-scene",
   "metadata": {
    "scrolled": false
   },
   "outputs": [
    {
     "name": "stderr",
     "output_type": "stream",
     "text": [
      "\r",
      "  0%|                                                                                          | 0/105 [00:00<?, ?it/s]"
     ]
    },
    {
     "name": "stdout",
     "output_type": "stream",
     "text": [
      "The best val is :-100\n"
     ]
    },
    {
     "name": "stderr",
     "output_type": "stream",
     "text": [
      "(Epoch 1) TRAIN LOSS:1.1704 LR:0.00002000: 100%|█████████████████████████████████████| 105/105 [01:03<00:00,  1.66it/s]\n",
      "  0%|                                                                                          | 0/105 [00:00<?, ?it/s]"
     ]
    },
    {
     "name": "stdout",
     "output_type": "stream",
     "text": [
      "(Epoch 1) TRAIN LOSS:1.1704 ACC:0.85 F1:0.19 REC:0.17 PRE:0.23 LR:0.00002000\n",
      "The best val is :-100\n"
     ]
    },
    {
     "name": "stderr",
     "output_type": "stream",
     "text": [
      "(Epoch 2) TRAIN LOSS:0.9327 LR:0.00002000: 100%|█████████████████████████████████████| 105/105 [01:02<00:00,  1.69it/s]\n",
      "  0%|                                                                                          | 0/105 [00:00<?, ?it/s]"
     ]
    },
    {
     "name": "stdout",
     "output_type": "stream",
     "text": [
      "(Epoch 2) TRAIN LOSS:0.9327 ACC:0.92 F1:0.50 REC:0.52 PRE:0.53 LR:0.00002000\n",
      "The best val is :-100\n"
     ]
    },
    {
     "name": "stderr",
     "output_type": "stream",
     "text": [
      "(Epoch 3) TRAIN LOSS:0.8053 LR:0.00002000: 100%|█████████████████████████████████████| 105/105 [01:02<00:00,  1.69it/s]\n",
      "  0%|                                                                                          | 0/105 [00:00<?, ?it/s]"
     ]
    },
    {
     "name": "stdout",
     "output_type": "stream",
     "text": [
      "(Epoch 3) TRAIN LOSS:0.8053 ACC:0.95 F1:0.67 REC:0.68 PRE:0.67 LR:0.00002000\n",
      "The best val is :-100\n"
     ]
    },
    {
     "name": "stderr",
     "output_type": "stream",
     "text": [
      "(Epoch 4) TRAIN LOSS:0.7144 LR:0.00002000: 100%|█████████████████████████████████████| 105/105 [01:02<00:00,  1.69it/s]\n",
      "  0%|                                                                                          | 0/105 [00:00<?, ?it/s]"
     ]
    },
    {
     "name": "stdout",
     "output_type": "stream",
     "text": [
      "(Epoch 4) TRAIN LOSS:0.7144 ACC:0.96 F1:0.76 REC:0.76 PRE:0.75 LR:0.00002000\n",
      "The best val is :-100\n"
     ]
    },
    {
     "name": "stderr",
     "output_type": "stream",
     "text": [
      "(Epoch 5) TRAIN LOSS:0.6442 LR:0.00002000: 100%|█████████████████████████████████████| 105/105 [01:05<00:00,  1.60it/s]\n"
     ]
    },
    {
     "name": "stdout",
     "output_type": "stream",
     "text": [
      "(Epoch 5) TRAIN LOSS:0.6442 ACC:0.97 F1:0.82 REC:0.83 PRE:0.81 LR:0.00002000\n"
     ]
    },
    {
     "name": "stderr",
     "output_type": "stream",
     "text": [
      "VALID LOSS:0.6505 ACC:0.95 F1:0.72 REC:0.77 PRE:0.69: 100%|████████████████████████████| 14/14 [00:01<00:00,  8.04it/s]\n"
     ]
    },
    {
     "name": "stdout",
     "output_type": "stream",
     "text": [
      "(Epoch 5) VAL_METRIC :0.7240\n"
     ]
    },
    {
     "name": "stderr",
     "output_type": "stream",
     "text": [
      "\r",
      "  0%|                                                                                          | 0/105 [00:00<?, ?it/s]"
     ]
    },
    {
     "name": "stdout",
     "output_type": "stream",
     "text": [
      "The best val is :0.7240414417972848\n"
     ]
    },
    {
     "name": "stderr",
     "output_type": "stream",
     "text": [
      "(Epoch 6) TRAIN LOSS:0.5789 LR:0.00002000: 100%|█████████████████████████████████████| 105/105 [01:02<00:00,  1.68it/s]\n",
      "  0%|                                                                                          | 0/105 [00:00<?, ?it/s]"
     ]
    },
    {
     "name": "stdout",
     "output_type": "stream",
     "text": [
      "(Epoch 6) TRAIN LOSS:0.5789 ACC:0.98 F1:0.85 REC:0.86 PRE:0.84 LR:0.00002000\n",
      "The best val is :0.7240414417972848\n"
     ]
    },
    {
     "name": "stderr",
     "output_type": "stream",
     "text": [
      "(Epoch 7) TRAIN LOSS:0.5214 LR:0.00002000: 100%|█████████████████████████████████████| 105/105 [01:03<00:00,  1.65it/s]\n",
      "  0%|                                                                                          | 0/105 [00:00<?, ?it/s]"
     ]
    },
    {
     "name": "stdout",
     "output_type": "stream",
     "text": [
      "(Epoch 7) TRAIN LOSS:0.5214 ACC:0.98 F1:0.87 REC:0.88 PRE:0.86 LR:0.00002000\n",
      "The best val is :0.7240414417972848\n"
     ]
    },
    {
     "name": "stderr",
     "output_type": "stream",
     "text": [
      "(Epoch 8) TRAIN LOSS:0.4830 LR:0.00002000: 100%|█████████████████████████████████████| 105/105 [01:02<00:00,  1.69it/s]\n",
      "  0%|                                                                                          | 0/105 [00:00<?, ?it/s]"
     ]
    },
    {
     "name": "stdout",
     "output_type": "stream",
     "text": [
      "(Epoch 8) TRAIN LOSS:0.4830 ACC:0.98 F1:0.89 REC:0.90 PRE:0.88 LR:0.00002000\n",
      "The best val is :0.7240414417972848\n"
     ]
    },
    {
     "name": "stderr",
     "output_type": "stream",
     "text": [
      "(Epoch 9) TRAIN LOSS:0.4378 LR:0.00002000: 100%|█████████████████████████████████████| 105/105 [01:02<00:00,  1.68it/s]\n",
      "  0%|                                                                                          | 0/105 [00:00<?, ?it/s]"
     ]
    },
    {
     "name": "stdout",
     "output_type": "stream",
     "text": [
      "(Epoch 9) TRAIN LOSS:0.4378 ACC:0.99 F1:0.91 REC:0.91 PRE:0.90 LR:0.00002000\n",
      "The best val is :0.7240414417972848\n"
     ]
    },
    {
     "name": "stderr",
     "output_type": "stream",
     "text": [
      "(Epoch 10) TRAIN LOSS:0.4067 LR:0.00002000: 100%|████████████████████████████████████| 105/105 [01:01<00:00,  1.70it/s]\n"
     ]
    },
    {
     "name": "stdout",
     "output_type": "stream",
     "text": [
      "(Epoch 10) TRAIN LOSS:0.4067 ACC:0.99 F1:0.90 REC:0.91 PRE:0.89 LR:0.00002000\n"
     ]
    },
    {
     "name": "stderr",
     "output_type": "stream",
     "text": [
      "VALID LOSS:0.6184 ACC:0.95 F1:0.72 REC:0.73 PRE:0.71: 100%|████████████████████████████| 14/14 [00:01<00:00,  8.12it/s]\n",
      "  0%|                                                                                          | 0/105 [00:00<?, ?it/s]"
     ]
    },
    {
     "name": "stdout",
     "output_type": "stream",
     "text": [
      "(Epoch 10) VAL_METRIC :0.7173\n",
      "The best val is :0.7240414417972848 and val_metric is 0.7172705870896974\n",
      "count stop: 1\n",
      "The best val is :0.7240414417972848\n"
     ]
    },
    {
     "name": "stderr",
     "output_type": "stream",
     "text": [
      "(Epoch 11) TRAIN LOSS:0.3690 LR:0.00002000: 100%|████████████████████████████████████| 105/105 [01:02<00:00,  1.68it/s]\n",
      "  0%|                                                                                          | 0/105 [00:00<?, ?it/s]"
     ]
    },
    {
     "name": "stdout",
     "output_type": "stream",
     "text": [
      "(Epoch 11) TRAIN LOSS:0.3690 ACC:0.99 F1:0.92 REC:0.93 PRE:0.92 LR:0.00002000\n",
      "The best val is :0.7240414417972848\n"
     ]
    },
    {
     "name": "stderr",
     "output_type": "stream",
     "text": [
      "(Epoch 12) TRAIN LOSS:0.3382 LR:0.00002000: 100%|████████████████████████████████████| 105/105 [01:03<00:00,  1.66it/s]\n",
      "  0%|                                                                                          | 0/105 [00:00<?, ?it/s]"
     ]
    },
    {
     "name": "stdout",
     "output_type": "stream",
     "text": [
      "(Epoch 12) TRAIN LOSS:0.3382 ACC:0.99 F1:0.94 REC:0.95 PRE:0.94 LR:0.00002000\n",
      "The best val is :0.7240414417972848\n"
     ]
    },
    {
     "name": "stderr",
     "output_type": "stream",
     "text": [
      "(Epoch 13) TRAIN LOSS:0.3231 LR:0.00002000: 100%|████████████████████████████████████| 105/105 [01:02<00:00,  1.68it/s]\n",
      "  0%|                                                                                          | 0/105 [00:00<?, ?it/s]"
     ]
    },
    {
     "name": "stdout",
     "output_type": "stream",
     "text": [
      "(Epoch 13) TRAIN LOSS:0.3231 ACC:0.99 F1:0.91 REC:0.92 PRE:0.91 LR:0.00002000\n",
      "The best val is :0.7240414417972848\n"
     ]
    },
    {
     "name": "stderr",
     "output_type": "stream",
     "text": [
      "(Epoch 14) TRAIN LOSS:0.3071 LR:0.00002000: 100%|████████████████████████████████████| 105/105 [01:03<00:00,  1.67it/s]\n",
      "  0%|                                                                                          | 0/105 [00:00<?, ?it/s]"
     ]
    },
    {
     "name": "stdout",
     "output_type": "stream",
     "text": [
      "(Epoch 14) TRAIN LOSS:0.3071 ACC:0.99 F1:0.90 REC:0.91 PRE:0.88 LR:0.00002000\n",
      "The best val is :0.7240414417972848\n"
     ]
    },
    {
     "name": "stderr",
     "output_type": "stream",
     "text": [
      "(Epoch 15) TRAIN LOSS:0.2742 LR:0.00002000: 100%|████████████████████████████████████| 105/105 [01:02<00:00,  1.68it/s]\n"
     ]
    },
    {
     "name": "stdout",
     "output_type": "stream",
     "text": [
      "(Epoch 15) TRAIN LOSS:0.2742 ACC:0.99 F1:0.94 REC:0.95 PRE:0.93 LR:0.00002000\n"
     ]
    },
    {
     "name": "stderr",
     "output_type": "stream",
     "text": [
      "VALID LOSS:0.4746 ACC:0.95 F1:0.74 REC:0.78 PRE:0.71: 100%|████████████████████████████| 14/14 [00:01<00:00,  7.67it/s]\n"
     ]
    },
    {
     "name": "stdout",
     "output_type": "stream",
     "text": [
      "(Epoch 15) VAL_METRIC :0.7385\n"
     ]
    }
   ],
   "source": [
    "# Train\n",
    "scheduler = StepLR(optimizer, step_size=step_size, gamma=gamma)\n",
    "n_epochs = epochs\n",
    "for epoch in range(n_epochs):\n",
    "    print('The best val is :{}'.format(best_val_metric))\n",
    "    model.train()\n",
    "    torch.set_grad_enabled(True)\n",
    " \n",
    "    total_train_loss = 0\n",
    "    list_hyp, list_label = [], []\n",
    "\n",
    "    train_pbar = tqdm(train_loader, leave=True, total=len(train_loader))\n",
    "    for i, batch_data in enumerate(train_pbar):\n",
    "        # Forward model\n",
    "        loss, batch_hyp, batch_label = forward_word_classification(model, batch_data[:-1], i2w=i2w, device='cuda')\n",
    "\n",
    "        # Update model\n",
    "        optimizer.zero_grad()\n",
    "        loss.backward()\n",
    "        optimizer.step()\n",
    "\n",
    "        tr_loss = loss.item()\n",
    "        total_train_loss = total_train_loss + tr_loss\n",
    "\n",
    "        # Calculate metrics\n",
    "        list_hyp += batch_hyp\n",
    "        list_label += batch_label\n",
    "\n",
    "        train_pbar.set_description(\"(Epoch {}) TRAIN LOSS:{:.4f} LR:{:.8f}\".format((epoch+1),\n",
    "            total_train_loss/(i+1), get_lr(optimizer)))\n",
    "\n",
    "    # Calculate train metric\n",
    "    metrics = ner_metrics_fn(list_hyp, list_label)\n",
    "    print(\"(Epoch {}) TRAIN LOSS:{:.4f} {} LR:{:.8f}\".format((epoch+1),\n",
    "        total_train_loss/(i+1), metrics_to_string(metrics), get_lr(optimizer)))\n",
    "\n",
    "    # Evaluate on validation\n",
    "    # evaluate\n",
    "    if ((epoch+1) % evaluate_every) == 0:\n",
    "        val_loss, val_metrics = evaluate(model, valid_loader, i2w, is_test=False, device ='cuda')\n",
    "        print('(Epoch {}) VAL_METRIC :{:.4f}'.format((epoch+1),val_metrics[valid_criterion]))\n",
    "        # Early stopping\n",
    "        val_metric = val_metrics[valid_criterion]\n",
    "        if best_val_metric < val_metric:\n",
    "            best_val_metric = val_metric\n",
    "            # save model\n",
    "            if exp_id is not None:\n",
    "                torch.save(model.state_dict(), model_dir + \"/best_model_\" + str(exp_id) + \".th\")\n",
    "            else:\n",
    "                torch.save(model.state_dict(), model_dir + \"/best_model.th\")\n",
    "            count_stop = 0\n",
    "        else:\n",
    "            print('The best val is :{} and val_metric is {}'.format(best_val_metric,val_metric))\n",
    "            count_stop += 1\n",
    "            print(\"count stop: {}\".format(count_stop))\n",
    "            if count_stop == early_stop:\n",
    "                break"
   ]
  },
  {
   "cell_type": "markdown",
   "id": "lucky-trade",
   "metadata": {},
   "source": [
    "## Predict on test data"
   ]
  },
  {
   "cell_type": "code",
   "execution_count": null,
   "id": "advised-allergy",
   "metadata": {},
   "outputs": [],
   "source": [
    "## load model if not there\n",
    "\n",
    "# define model path \n",
    "# model_folder = './'\n",
    "# filename = 'best_model_1.th'\n",
    "# model_path = os.path.join(model_folder,filename)\n",
    "\n",
    "# def load_model(model_path):\n",
    "#     model.load_state_dict(torch.load(model_path))\n",
    "#     model = model.cuda()\n",
    "#     return model\n",
    "\n",
    "# trained_model = load_model(model_path)"
   ]
  },
  {
   "cell_type": "code",
   "execution_count": null,
   "id": "dress-bracket",
   "metadata": {},
   "outputs": [],
   "source": [
    "# Evaluate on test\n",
    "model.eval()\n",
    "torch.set_grad_enabled(False)\n",
    "\n",
    "total_loss, total_correct, total_labels = 0, 0, 0\n",
    "list_hyp, list_label = [], []\n",
    "\n",
    "pbar = tqdm(test_loader, leave=True, total=len(test_loader))\n",
    "for i, batch_data in enumerate(pbar):\n",
    "    _, batch_hyp, _ = forward_word_classification(model, batch_data[:-1], i2w=i2w, device='cuda')\n",
    "    list_hyp += batch_hyp\n",
    "\n",
    "# Save prediction\n",
    "result_df = pd.DataFrame({'label':list_hyp}).reset_index()\n",
    "print(result_df)"
   ]
  },
  {
   "cell_type": "markdown",
   "id": "encouraging-transaction",
   "metadata": {},
   "source": [
    "### Save result in csv "
   ]
  },
  {
   "cell_type": "code",
   "execution_count": null,
   "id": "median-samuel",
   "metadata": {},
   "outputs": [],
   "source": [
    "## path \n",
    "save_path = model_path\n",
    "filename = 'shopee_notebook'\n",
    "filename = filename + '.csv'\n",
    "result_path = os.path.join(save_path, filename)"
   ]
  },
  {
   "cell_type": "code",
   "execution_count": null,
   "id": "particular-peninsula",
   "metadata": {},
   "outputs": [],
   "source": [
    "result_df.to_csv(result_path, index=False)"
   ]
  },
  {
   "cell_type": "markdown",
   "id": "remarkable-wound",
   "metadata": {},
   "source": [
    "## Test on sample sentecnces"
   ]
  },
  {
   "cell_type": "code",
   "execution_count": null,
   "id": "alpha-christmas",
   "metadata": {},
   "outputs": [],
   "source": [
    "text = word_tokenize('Jalan Candi Panggung Barat. No 16 . RT 01 RW 18. Kelurahan Mojolangu, Kecamatan Lowokwaru Malang City , East Java')\n",
    "subwords, subword_to_word_indices = word_subword_tokenize(text, tokenizer)\n",
    "\n",
    "subwords = torch.LongTensor(subwords).view(1, -1).to(model.device)\n",
    "subword_to_word_indices = torch.LongTensor(subword_to_word_indices).view(1, -1).to(model.device)\n",
    "logits = model(subwords, subword_to_word_indices)[0]\n",
    "\n",
    "preds = torch.topk(logits, k=1, dim=-1)[1].squeeze().cpu().numpy()\n",
    "labels = [i2w[preds[i]] for i in range(len(preds))]\n",
    "\n",
    "pd.DataFrame({'words': text, 'label': labels})"
   ]
  },
  {
   "cell_type": "code",
   "execution_count": null,
   "id": "respective-beatles",
   "metadata": {},
   "outputs": [],
   "source": [
    "custom_model = load_model(model_path=model_path)"
   ]
  }
 ],
 "metadata": {
  "kernelspec": {
   "display_name": "Python(shopee)",
   "language": "python",
   "name": "shopee"
  },
  "language_info": {
   "codemirror_mode": {
    "name": "ipython",
    "version": 3
   },
   "file_extension": ".py",
   "mimetype": "text/x-python",
   "name": "python",
   "nbconvert_exporter": "python",
   "pygments_lexer": "ipython3",
   "version": "3.8.8"
  }
 },
 "nbformat": 4,
 "nbformat_minor": 5
}

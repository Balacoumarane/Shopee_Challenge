{
 "cells": [
  {
   "cell_type": "code",
   "execution_count": 1,
   "id": "framed-bahrain",
   "metadata": {},
   "outputs": [],
   "source": [
    "import random\n",
    "import numpy as np\n",
    "import pandas as pd\n",
    "import os\n",
    "import sys\n",
    "import inspect\n",
    "import torch\n",
    "from torch import optim\n",
    "from torch.optim.lr_scheduler import StepLR\n",
    "from tqdm import tqdm\n",
    "from transformers import BertConfig, BertTokenizer\n",
    "from nltk.tokenize import word_tokenize"
   ]
  },
  {
   "cell_type": "code",
   "execution_count": 2,
   "id": "rational-works",
   "metadata": {},
   "outputs": [],
   "source": [
    "# set current notebook path\n",
    "current_dir = os.path.dirname(os.path.abspath(inspect.getfile(inspect.currentframe())))\n",
    "parent_dir = os.path.dirname(current_dir)\n",
    "sys.path.insert(0, parent_dir)"
   ]
  },
  {
   "cell_type": "code",
   "execution_count": 3,
   "id": "intellectual-overview",
   "metadata": {},
   "outputs": [],
   "source": [
    "from transformers import BertConfig, BertTokenizer\n",
    "from nltk.tokenize import word_tokenize\n",
    "\n",
    "from NER_Module.model import BertForWordClassification, forward_word_classification\n",
    "from NER_Module.utils import ner_metrics_fn, get_lr, metrics_to_string, count_param, set_seed\n",
    "from NER_Module.data import NerGritDataset, NerDataLoader"
   ]
  },
  {
   "cell_type": "code",
   "execution_count": 4,
   "id": "gross-cable",
   "metadata": {},
   "outputs": [
    {
     "name": "stderr",
     "output_type": "stream",
     "text": [
      "[nltk_data] Downloading package punkt to\n",
      "[nltk_data]     C:\\Users\\n167574\\AppData\\Roaming\\nltk_data...\n",
      "[nltk_data]   Package punkt is already up-to-date!\n"
     ]
    },
    {
     "data": {
      "text/plain": [
       "True"
      ]
     },
     "execution_count": 4,
     "metadata": {},
     "output_type": "execute_result"
    }
   ],
   "source": [
    "import nltk\n",
    "nltk.download('punkt')"
   ]
  },
  {
   "cell_type": "code",
   "execution_count": 5,
   "id": "flying-mistress",
   "metadata": {},
   "outputs": [
    {
     "data": {
      "text/plain": [
       "33"
      ]
     },
     "execution_count": 5,
     "metadata": {},
     "output_type": "execute_result"
    }
   ],
   "source": [
    "# Set random seed\n",
    "set_seed(33)"
   ]
  },
  {
   "cell_type": "code",
   "execution_count": 6,
   "id": "postal-mouse",
   "metadata": {},
   "outputs": [
    {
     "data": {
      "text/plain": [
       "7"
      ]
     },
     "execution_count": 6,
     "metadata": {},
     "output_type": "execute_result"
    }
   ],
   "source": [
    "NerGritDataset.NUM_LABELS"
   ]
  },
  {
   "cell_type": "code",
   "execution_count": 7,
   "id": "italic-bangkok",
   "metadata": {},
   "outputs": [
    {
     "name": "stderr",
     "output_type": "stream",
     "text": [
      "Some weights of BertForWordClassification were not initialized from the model checkpoint at indobenchmark/indobert-base-p1 and are newly initialized: ['classifier.bias', 'classifier.weight']\n",
      "You should probably TRAIN this model on a down-stream task to be able to use it for predictions and inference.\n"
     ]
    }
   ],
   "source": [
    "# Load Tokenizer and Config\n",
    "tokenizer = BertTokenizer.from_pretrained('indobenchmark/indobert-base-p1')\n",
    "config = BertConfig.from_pretrained('indobenchmark/indobert-base-p1')\n",
    "config.num_labels = NerGritDataset.NUM_LABELS\n",
    "\n",
    "# Instantiate model\n",
    "model = BertForWordClassification.from_pretrained('indobenchmark/indobert-base-p1', config=config)"
   ]
  },
  {
   "cell_type": "code",
   "execution_count": 8,
   "id": "antique-kingston",
   "metadata": {},
   "outputs": [
    {
     "name": "stdout",
     "output_type": "stream",
     "text": [
      "{'I-PERSON': 0, 'B-ORGANISATION': 1, 'I-ORGANISATION': 2, 'B-PLACE': 3, 'I-PLACE': 4, 'O': 5, 'B-PERSON': 6}\n",
      "{0: 'I-PERSON', 1: 'B-ORGANISATION', 2: 'I-ORGANISATION', 3: 'B-PLACE', 4: 'I-PLACE', 5: 'O', 6: 'B-PERSON'}\n"
     ]
    }
   ],
   "source": [
    "w2i, i2w = NerGritDataset.LABEL2INDEX, NerGritDataset.INDEX2LABEL\n",
    "print(w2i)\n",
    "print(i2w)"
   ]
  },
  {
   "cell_type": "code",
   "execution_count": 9,
   "id": "extensive-answer",
   "metadata": {},
   "outputs": [],
   "source": [
    "model= model.cuda()"
   ]
  },
  {
   "cell_type": "code",
   "execution_count": 10,
   "id": "organized-mapping",
   "metadata": {},
   "outputs": [
    {
     "data": {
      "text/plain": [
       "transformers.models.bert.tokenization_bert.BertTokenizer"
      ]
     },
     "execution_count": 10,
     "metadata": {},
     "output_type": "execute_result"
    }
   ],
   "source": [
    "type(tokenizer)"
   ]
  },
  {
   "cell_type": "code",
   "execution_count": 25,
   "id": "concrete-maine",
   "metadata": {},
   "outputs": [
    {
     "data": {
      "text/plain": [
       "device(type='cuda', index=0)"
      ]
     },
     "execution_count": 25,
     "metadata": {},
     "output_type": "execute_result"
    }
   ],
   "source": [
    "model.device"
   ]
  },
  {
   "cell_type": "markdown",
   "id": "demographic-jungle",
   "metadata": {},
   "source": [
    "## Test on sample data"
   ]
  },
  {
   "cell_type": "code",
   "execution_count": 12,
   "id": "seeing-sister",
   "metadata": {},
   "outputs": [],
   "source": [
    "def word_subword_tokenize(sentence, tokenizer):\n",
    "    # Add CLS token\n",
    "    subwords = [tokenizer.cls_token_id]\n",
    "    subword_to_word_indices = [-1] # For CLS\n",
    "\n",
    "    # Add subwords\n",
    "    for word_idx, word in enumerate(sentence):\n",
    "        subword_list = tokenizer.encode(word, add_special_tokens=False)\n",
    "        subword_to_word_indices += [word_idx for i in range(len(subword_list))]\n",
    "        subwords += subword_list\n",
    "\n",
    "    # Add last SEP token\n",
    "    subwords += [tokenizer.sep_token_id]\n",
    "    subword_to_word_indices += [-1]\n",
    "\n",
    "    return subwords, subword_to_word_indices"
   ]
  },
  {
   "cell_type": "code",
   "execution_count": 13,
   "id": "scenic-volume",
   "metadata": {},
   "outputs": [
    {
     "data": {
      "text/html": [
       "<div>\n",
       "<style scoped>\n",
       "    .dataframe tbody tr th:only-of-type {\n",
       "        vertical-align: middle;\n",
       "    }\n",
       "\n",
       "    .dataframe tbody tr th {\n",
       "        vertical-align: top;\n",
       "    }\n",
       "\n",
       "    .dataframe thead th {\n",
       "        text-align: right;\n",
       "    }\n",
       "</style>\n",
       "<table border=\"1\" class=\"dataframe\">\n",
       "  <thead>\n",
       "    <tr style=\"text-align: right;\">\n",
       "      <th></th>\n",
       "      <th>words</th>\n",
       "      <th>label</th>\n",
       "    </tr>\n",
       "  </thead>\n",
       "  <tbody>\n",
       "    <tr>\n",
       "      <th>0</th>\n",
       "      <td>setu</td>\n",
       "      <td>B-PERSON</td>\n",
       "    </tr>\n",
       "    <tr>\n",
       "      <th>1</th>\n",
       "      <td>siung</td>\n",
       "      <td>I-PLACE</td>\n",
       "    </tr>\n",
       "    <tr>\n",
       "      <th>2</th>\n",
       "      <td>119</td>\n",
       "      <td>B-ORGANISATION</td>\n",
       "    </tr>\n",
       "    <tr>\n",
       "      <th>3</th>\n",
       "      <td>rt</td>\n",
       "      <td>B-ORGANISATION</td>\n",
       "    </tr>\n",
       "    <tr>\n",
       "      <th>4</th>\n",
       "      <td>5</td>\n",
       "      <td>B-ORGANISATION</td>\n",
       "    </tr>\n",
       "    <tr>\n",
       "      <th>5</th>\n",
       "      <td>1</td>\n",
       "      <td>I-PLACE</td>\n",
       "    </tr>\n",
       "    <tr>\n",
       "      <th>6</th>\n",
       "      <td>13880</td>\n",
       "      <td>I-PLACE</td>\n",
       "    </tr>\n",
       "    <tr>\n",
       "      <th>7</th>\n",
       "      <td>cipayung</td>\n",
       "      <td>I-PERSON</td>\n",
       "    </tr>\n",
       "  </tbody>\n",
       "</table>\n",
       "</div>"
      ],
      "text/plain": [
       "      words           label\n",
       "0      setu        B-PERSON\n",
       "1     siung         I-PLACE\n",
       "2       119  B-ORGANISATION\n",
       "3        rt  B-ORGANISATION\n",
       "4         5  B-ORGANISATION\n",
       "5         1         I-PLACE\n",
       "6     13880         I-PLACE\n",
       "7  cipayung        I-PERSON"
      ]
     },
     "execution_count": 13,
     "metadata": {},
     "output_type": "execute_result"
    }
   ],
   "source": [
    "text = word_tokenize('setu siung 119 rt 5 1 13880 cipayung')\n",
    "subwords, subword_to_word_indices = word_subword_tokenize(text, tokenizer)\n",
    "\n",
    "subwords = torch.LongTensor(subwords).view(1, -1).to(model.device)\n",
    "subword_to_word_indices = torch.LongTensor(subword_to_word_indices).view(1, -1).to(model.device)\n",
    "logits = model(subwords, subword_to_word_indices)[0]\n",
    "\n",
    "preds = torch.topk(logits, k=1, dim=-1)[1].cpu().squeeze().numpy()\n",
    "labels = [i2w[preds[i]] for i in range(len(preds))]\n",
    "\n",
    "pd.DataFrame({'words': text, 'label': labels})"
   ]
  },
  {
   "cell_type": "code",
   "execution_count": 14,
   "id": "short-district",
   "metadata": {},
   "outputs": [
    {
     "data": {
      "text/plain": [
       "device(type='cuda', index=0)"
      ]
     },
     "execution_count": 14,
     "metadata": {},
     "output_type": "execute_result"
    }
   ],
   "source": [
    "model.device"
   ]
  },
  {
   "cell_type": "code",
   "execution_count": 15,
   "id": "activated-scroll",
   "metadata": {},
   "outputs": [],
   "source": [
    "## datapath \n",
    "data = \"F:\\\\Bala_EU_DSVM_BACKUP\\\\Shopee_challenge\\\\Shopee_Challenge\\\\NER_Module\\\\test\\\\data\"\n",
    "train_file = 'train_preprocess.txt'\n",
    "validation_file ='valid_preprocess.txt'\n",
    "test_file = 'test_preprocess_masked_label.txt'\n",
    "train_data_path = os.path.join(data,train_file)\n",
    "validation_data_path = os.path.join(data,validation_file)\n",
    "test_data_path = os.path.join(data,test_file)"
   ]
  },
  {
   "cell_type": "code",
   "execution_count": 16,
   "id": "characteristic-carter",
   "metadata": {},
   "outputs": [],
   "source": [
    "model_dir = 'F:\\\\Bala_EU_DSVM_BACKUP\\\\Shopee_challenge\\\\Shopee_Challenge\\\\model'\n",
    "if not os.path.exists(model_dir):\n",
    "    os.makedirs(model_dir, exist_ok=True)"
   ]
  },
  {
   "cell_type": "code",
   "execution_count": 17,
   "id": "found-savings",
   "metadata": {},
   "outputs": [],
   "source": [
    "# load data\n",
    "train_dataset = NerGritDataset(train_data_path, tokenizer, lowercase=True)\n",
    "valid_dataset = NerGritDataset(validation_data_path, tokenizer, lowercase=True)\n",
    "test_dataset = NerGritDataset(test_data_path, tokenizer, lowercase=True)\n",
    "\n",
    "train_loader = NerDataLoader(dataset=train_dataset, max_seq_len=512, batch_size=16, num_workers=16, shuffle=True)  \n",
    "valid_loader = NerDataLoader(dataset=valid_dataset, max_seq_len=512, batch_size=16, num_workers=16, shuffle=False)  \n",
    "test_loader = NerDataLoader(dataset=test_dataset, max_seq_len=512, batch_size=16, num_workers=16, shuffle=False)"
   ]
  },
  {
   "cell_type": "code",
   "execution_count": 18,
   "id": "commercial-gazette",
   "metadata": {},
   "outputs": [
    {
     "data": {
      "text/plain": [
       "<NER_Module.data.dataset.NerGritDataset at 0x25d4e732520>"
      ]
     },
     "execution_count": 18,
     "metadata": {},
     "output_type": "execute_result"
    }
   ],
   "source": [
    "train_dataset"
   ]
  },
  {
   "cell_type": "code",
   "execution_count": 19,
   "id": "silver-relations",
   "metadata": {},
   "outputs": [
    {
     "data": {
      "text/plain": [
       "1672"
      ]
     },
     "execution_count": 19,
     "metadata": {},
     "output_type": "execute_result"
    }
   ],
   "source": [
    "len(train_dataset)"
   ]
  },
  {
   "cell_type": "code",
   "execution_count": 20,
   "id": "final-moldova",
   "metadata": {},
   "outputs": [],
   "source": [
    "## validation evaluate\n",
    "# Evaluate function for validation and test\n",
    "def evaluate(model, data_loader, i2w, is_test=False, device='cpu'):\n",
    "    model.eval()\n",
    "    total_loss, total_correct, total_labels = 0, 0, 0\n",
    "\n",
    "    list_hyp, list_label, list_seq = [], [], []\n",
    "\n",
    "    pbar = tqdm(iter(data_loader), leave=True, total=len(data_loader))\n",
    "    for i, batch_data in enumerate(pbar):\n",
    "        batch_seq = batch_data[-1]        \n",
    "        loss, batch_hyp, batch_label = forward_word_classification(model, batch_data[:-1], i2w=i2w, device= device)\n",
    "\n",
    "        \n",
    "        # Calculate total loss\n",
    "        test_loss = loss.item()\n",
    "        total_loss = total_loss + test_loss\n",
    "\n",
    "        # Calculate evaluation metrics\n",
    "        list_hyp += batch_hyp\n",
    "        list_label += batch_label\n",
    "        list_seq += batch_seq\n",
    "        metrics = ner_metrics_fn(list_hyp, list_label)\n",
    "\n",
    "        if not is_test:\n",
    "            pbar.set_description(\"VALID LOSS:{:.4f} {}\".format(total_loss/(i+1), metrics_to_string(metrics)))\n",
    "        else:\n",
    "            pbar.set_description(\"TEST LOSS:{:.4f} {}\".format(total_loss/(i+1), metrics_to_string(metrics)))\n",
    "    \n",
    "    if is_test:\n",
    "        return total_loss, metrics, list_hyp, list_label, list_seq\n",
    "    else:\n",
    "        return total_loss, metrics"
   ]
  },
  {
   "cell_type": "code",
   "execution_count": 21,
   "id": "detected-trademark",
   "metadata": {},
   "outputs": [],
   "source": [
    "best_val_metric = -100\n",
    "count_stop = 0\n",
    "exp_id =1\n",
    "evaluate_every=2\n",
    "step_size=1\n",
    "gamma=0.5\n",
    "valid_criterion= 'F1'"
   ]
  },
  {
   "cell_type": "code",
   "execution_count": 22,
   "id": "authentic-composition",
   "metadata": {},
   "outputs": [],
   "source": [
    "optimizer = optim.Adam(model.parameters(), lr=2e-5)"
   ]
  },
  {
   "cell_type": "code",
   "execution_count": 23,
   "id": "french-program",
   "metadata": {},
   "outputs": [
    {
     "name": "stderr",
     "output_type": "stream",
     "text": [
      "  0%|                                                                                          | 0/105 [00:00<?, ?it/s]2021-03-14 16:26:51,376 [NER_Module.model.backbone] [INFO] Device is set to cuda\n",
      "(Epoch 1) TRAIN LOSS:1.8965 LR:0.00002000:   1%|▎                                    | 1/105 [00:39<1:08:49, 39.70s/it]2021-03-14 16:26:51,715 [NER_Module.model.backbone] [INFO] Device is set to cuda\n",
      "(Epoch 1) TRAIN LOSS:1.8480 LR:0.00002000:   2%|▋                                      | 2/105 [00:39<47:49, 27.86s/it]2021-03-14 16:26:51,935 [NER_Module.model.backbone] [INFO] Device is set to cuda\n",
      "(Epoch 1) TRAIN LOSS:1.7927 LR:0.00002000:   3%|█                                      | 3/105 [00:40<33:15, 19.56s/it]2021-03-14 16:26:52,139 [NER_Module.model.backbone] [INFO] Device is set to cuda\n",
      "(Epoch 1) TRAIN LOSS:1.7075 LR:0.00002000:   4%|█▍                                     | 4/105 [00:40<23:15, 13.82s/it]2021-03-14 16:26:52,548 [NER_Module.model.backbone] [INFO] Device is set to cuda\n",
      "(Epoch 1) TRAIN LOSS:1.6871 LR:0.00002000:   5%|█▊                                     | 5/105 [00:40<16:11,  9.72s/it]2021-03-14 16:26:52,701 [NER_Module.model.backbone] [INFO] Device is set to cuda\n",
      "(Epoch 1) TRAIN LOSS:1.6827 LR:0.00002000:   6%|██▏                                    | 6/105 [00:40<11:20,  6.87s/it]2021-03-14 16:26:52,935 [NER_Module.model.backbone] [INFO] Device is set to cuda\n",
      "(Epoch 1) TRAIN LOSS:1.6219 LR:0.00002000:   7%|██▌                                    | 7/105 [00:41<08:04,  4.95s/it]2021-03-14 16:26:53,384 [NER_Module.model.backbone] [INFO] Device is set to cuda\n",
      "(Epoch 1) TRAIN LOSS:1.6015 LR:0.00002000:   8%|██▉                                    | 8/105 [00:41<05:40,  3.51s/it]2021-03-14 16:26:53,546 [NER_Module.model.backbone] [INFO] Device is set to cuda\n",
      "(Epoch 1) TRAIN LOSS:1.5869 LR:0.00002000:   9%|███▎                                   | 9/105 [00:41<04:01,  2.51s/it]2021-03-14 16:26:53,730 [NER_Module.model.backbone] [INFO] Device is set to cuda\n",
      "(Epoch 1) TRAIN LOSS:1.5728 LR:0.00002000:  10%|███▌                                  | 10/105 [00:41<02:54,  1.83s/it]2021-03-14 16:26:53,978 [NER_Module.model.backbone] [INFO] Device is set to cuda\n",
      "(Epoch 1) TRAIN LOSS:1.5616 LR:0.00002000:  10%|███▉                                  | 11/105 [00:42<02:06,  1.34s/it]2021-03-14 16:26:54,176 [NER_Module.model.backbone] [INFO] Device is set to cuda\n",
      "(Epoch 1) TRAIN LOSS:1.5478 LR:0.00002000:  11%|████▎                                 | 12/105 [00:42<01:32,  1.01it/s]2021-03-14 16:26:54,345 [NER_Module.model.backbone] [INFO] Device is set to cuda\n",
      "(Epoch 1) TRAIN LOSS:1.5414 LR:0.00002000:  12%|████▋                                 | 13/105 [00:42<01:10,  1.31it/s]2021-03-14 16:26:54,582 [NER_Module.model.backbone] [INFO] Device is set to cuda\n",
      "(Epoch 1) TRAIN LOSS:1.5366 LR:0.00002000:  13%|█████                                 | 14/105 [00:42<00:53,  1.70it/s]2021-03-14 16:26:54,759 [NER_Module.model.backbone] [INFO] Device is set to cuda\n",
      "(Epoch 1) TRAIN LOSS:1.5253 LR:0.00002000:  14%|█████▍                                | 15/105 [00:42<00:41,  2.15it/s]2021-03-14 16:26:54,933 [NER_Module.model.backbone] [INFO] Device is set to cuda\n",
      "(Epoch 1) TRAIN LOSS:1.5112 LR:0.00002000:  15%|█████▊                                | 16/105 [00:43<00:36,  2.42it/s]2021-03-14 16:26:55,227 [NER_Module.model.backbone] [INFO] Device is set to cuda\n",
      "(Epoch 1) TRAIN LOSS:1.4912 LR:0.00002000:  16%|██████▏                               | 17/105 [00:43<00:31,  2.81it/s]2021-03-14 16:26:55,452 [NER_Module.model.backbone] [INFO] Device is set to cuda\n",
      "(Epoch 1) TRAIN LOSS:1.4788 LR:0.00002000:  17%|██████▌                               | 18/105 [00:43<00:26,  3.30it/s]2021-03-14 16:26:55,631 [NER_Module.model.backbone] [INFO] Device is set to cuda\n",
      "(Epoch 1) TRAIN LOSS:1.4656 LR:0.00002000:  18%|██████▉                               | 19/105 [00:43<00:22,  3.79it/s]2021-03-14 16:26:55,803 [NER_Module.model.backbone] [INFO] Device is set to cuda\n",
      "(Epoch 1) TRAIN LOSS:1.4468 LR:0.00002000:  19%|███████▏                              | 20/105 [00:44<00:22,  3.76it/s]2021-03-14 16:26:56,073 [NER_Module.model.backbone] [INFO] Device is set to cuda\n",
      "(Epoch 1) TRAIN LOSS:1.4429 LR:0.00002000:  20%|███████▌                              | 21/105 [00:44<00:20,  4.14it/s]2021-03-14 16:26:56,258 [NER_Module.model.backbone] [INFO] Device is set to cuda\n",
      "(Epoch 1) TRAIN LOSS:1.4324 LR:0.00002000:  21%|███████▉                              | 22/105 [00:44<00:18,  4.44it/s]2021-03-14 16:26:56,448 [NER_Module.model.backbone] [INFO] Device is set to cuda\n",
      "(Epoch 1) TRAIN LOSS:1.4199 LR:0.00002000:  22%|████████▎                             | 23/105 [00:44<00:18,  4.55it/s]2021-03-14 16:26:56,651 [NER_Module.model.backbone] [INFO] Device is set to cuda\n",
      "(Epoch 1) TRAIN LOSS:1.4072 LR:0.00002000:  23%|████████▋                             | 24/105 [00:44<00:18,  4.38it/s]2021-03-14 16:26:56,900 [NER_Module.model.backbone] [INFO] Device is set to cuda\n",
      "(Epoch 1) TRAIN LOSS:1.4039 LR:0.00002000:  24%|█████████                             | 25/105 [00:45<00:17,  4.65it/s]2021-03-14 16:26:57,085 [NER_Module.model.backbone] [INFO] Device is set to cuda\n",
      "(Epoch 1) TRAIN LOSS:1.4001 LR:0.00002000:  25%|█████████▍                            | 26/105 [00:45<00:15,  5.07it/s]2021-03-14 16:26:57,240 [NER_Module.model.backbone] [INFO] Device is set to cuda\n",
      "(Epoch 1) TRAIN LOSS:1.3952 LR:0.00002000:  26%|█████████▊                            | 27/105 [00:45<00:14,  5.27it/s]2021-03-14 16:26:57,413 [NER_Module.model.backbone] [INFO] Device is set to cuda\n",
      "(Epoch 1) TRAIN LOSS:1.3884 LR:0.00002000:  27%|██████████▏                           | 28/105 [00:45<00:13,  5.54it/s]2021-03-14 16:26:57,571 [NER_Module.model.backbone] [INFO] Device is set to cuda\n",
      "(Epoch 1) TRAIN LOSS:1.3848 LR:0.00002000:  28%|██████████▍                           | 29/105 [00:45<00:14,  5.31it/s]2021-03-14 16:26:57,777 [NER_Module.model.backbone] [INFO] Device is set to cuda\n",
      "(Epoch 1) TRAIN LOSS:1.3801 LR:0.00002000:  29%|██████████▊                           | 30/105 [00:45<00:12,  5.81it/s]2021-03-14 16:26:57,912 [NER_Module.model.backbone] [INFO] Device is set to cuda\n",
      "(Epoch 1) TRAIN LOSS:1.3669 LR:0.00002000:  30%|███████████▏                          | 31/105 [00:46<00:19,  3.86it/s]2021-03-14 16:26:58,373 [NER_Module.model.backbone] [INFO] Device is set to cuda\n",
      "(Epoch 1) TRAIN LOSS:1.3635 LR:0.00002000:  30%|███████████▌                          | 32/105 [00:46<00:15,  4.61it/s]2021-03-14 16:26:58,493 [NER_Module.model.backbone] [INFO] Device is set to cuda\n",
      "(Epoch 1) TRAIN LOSS:1.3572 LR:0.00002000:  31%|███████████▉                          | 33/105 [00:46<00:14,  5.07it/s]2021-03-14 16:26:58,645 [NER_Module.model.backbone] [INFO] Device is set to cuda\n",
      "(Epoch 1) TRAIN LOSS:1.3510 LR:0.00002000:  32%|████████████▎                         | 34/105 [00:46<00:13,  5.17it/s]2021-03-14 16:26:58,829 [NER_Module.model.backbone] [INFO] Device is set to cuda\n",
      "(Epoch 1) TRAIN LOSS:1.3489 LR:0.00002000:  33%|████████████▋                         | 35/105 [00:46<00:12,  5.60it/s]2021-03-14 16:26:58,973 [NER_Module.model.backbone] [INFO] Device is set to cuda\n",
      "(Epoch 1) TRAIN LOSS:1.3447 LR:0.00002000:  34%|█████████████                         | 36/105 [00:47<00:13,  5.03it/s]2021-03-14 16:26:59,218 [NER_Module.model.backbone] [INFO] Device is set to cuda\n",
      "(Epoch 1) TRAIN LOSS:1.3381 LR:0.00002000:  35%|█████████████▍                        | 37/105 [00:47<00:12,  5.38it/s]2021-03-14 16:26:59,373 [NER_Module.model.backbone] [INFO] Device is set to cuda\n",
      "(Epoch 1) TRAIN LOSS:1.3295 LR:0.00002000:  36%|█████████████▊                        | 38/105 [00:47<00:13,  5.09it/s]2021-03-14 16:26:59,597 [NER_Module.model.backbone] [INFO] Device is set to cuda\n",
      "(Epoch 1) TRAIN LOSS:1.3238 LR:0.00002000:  37%|██████████████                        | 39/105 [00:47<00:13,  5.03it/s]2021-03-14 16:26:59,800 [NER_Module.model.backbone] [INFO] Device is set to cuda\n",
      "(Epoch 1) TRAIN LOSS:1.3184 LR:0.00002000:  38%|██████████████▍                       | 40/105 [00:48<00:14,  4.51it/s]2021-03-14 16:27:00,075 [NER_Module.model.backbone] [INFO] Device is set to cuda\n"
     ]
    },
    {
     "name": "stderr",
     "output_type": "stream",
     "text": [
      "(Epoch 1) TRAIN LOSS:1.3128 LR:0.00002000:  39%|██████████████▊                       | 41/105 [00:48<00:12,  4.93it/s]2021-03-14 16:27:00,234 [NER_Module.model.backbone] [INFO] Device is set to cuda\n",
      "(Epoch 1) TRAIN LOSS:1.3087 LR:0.00002000:  40%|███████████████▏                      | 42/105 [00:48<00:12,  5.10it/s]2021-03-14 16:27:00,414 [NER_Module.model.backbone] [INFO] Device is set to cuda\n",
      "(Epoch 1) TRAIN LOSS:1.3040 LR:0.00002000:  41%|███████████████▌                      | 43/105 [00:48<00:14,  4.23it/s]2021-03-14 16:27:00,745 [NER_Module.model.backbone] [INFO] Device is set to cuda\n",
      "(Epoch 1) TRAIN LOSS:1.3008 LR:0.00002000:  42%|███████████████▉                      | 44/105 [00:48<00:13,  4.60it/s]2021-03-14 16:27:00,917 [NER_Module.model.backbone] [INFO] Device is set to cuda\n",
      "(Epoch 1) TRAIN LOSS:1.2967 LR:0.00002000:  43%|████████████████▎                     | 45/105 [00:49<00:11,  5.13it/s]2021-03-14 16:27:01,060 [NER_Module.model.backbone] [INFO] Device is set to cuda\n",
      "(Epoch 1) TRAIN LOSS:1.2948 LR:0.00002000:  44%|████████████████▋                     | 46/105 [00:49<00:10,  5.76it/s]2021-03-14 16:27:01,184 [NER_Module.model.backbone] [INFO] Device is set to cuda\n",
      "(Epoch 1) TRAIN LOSS:1.2934 LR:0.00002000:  45%|█████████████████                     | 47/105 [00:49<00:10,  5.31it/s]2021-03-14 16:27:01,406 [NER_Module.model.backbone] [INFO] Device is set to cuda\n",
      "(Epoch 1) TRAIN LOSS:1.2879 LR:0.00002000:  46%|█████████████████▎                    | 48/105 [00:49<00:11,  5.05it/s]2021-03-14 16:27:01,627 [NER_Module.model.backbone] [INFO] Device is set to cuda\n",
      "(Epoch 1) TRAIN LOSS:1.2851 LR:0.00002000:  47%|█████████████████▋                    | 49/105 [00:49<00:11,  4.87it/s]2021-03-14 16:27:01,851 [NER_Module.model.backbone] [INFO] Device is set to cuda\n",
      "(Epoch 1) TRAIN LOSS:1.2834 LR:0.00002000:  48%|██████████████████                    | 50/105 [00:50<00:11,  4.87it/s]2021-03-14 16:27:02,055 [NER_Module.model.backbone] [INFO] Device is set to cuda\n",
      "(Epoch 1) TRAIN LOSS:1.2809 LR:0.00002000:  49%|██████████████████▍                   | 51/105 [00:50<00:10,  5.04it/s]2021-03-14 16:27:02,238 [NER_Module.model.backbone] [INFO] Device is set to cuda\n",
      "(Epoch 1) TRAIN LOSS:1.2784 LR:0.00002000:  50%|██████████████████▊                   | 52/105 [00:50<00:11,  4.80it/s]2021-03-14 16:27:02,469 [NER_Module.model.backbone] [INFO] Device is set to cuda\n",
      "(Epoch 1) TRAIN LOSS:1.2751 LR:0.00002000:  50%|███████████████████▏                  | 53/105 [00:50<00:11,  4.53it/s]2021-03-14 16:27:02,718 [NER_Module.model.backbone] [INFO] Device is set to cuda\n",
      "(Epoch 1) TRAIN LOSS:1.2729 LR:0.00002000:  51%|███████████████████▌                  | 54/105 [00:50<00:11,  4.58it/s]2021-03-14 16:27:02,933 [NER_Module.model.backbone] [INFO] Device is set to cuda\n",
      "(Epoch 1) TRAIN LOSS:1.2682 LR:0.00002000:  52%|███████████████████▉                  | 55/105 [00:51<00:10,  4.69it/s]2021-03-14 16:27:03,132 [NER_Module.model.backbone] [INFO] Device is set to cuda\n",
      "(Epoch 1) TRAIN LOSS:1.2624 LR:0.00002000:  53%|████████████████████▎                 | 56/105 [00:51<00:12,  4.00it/s]2021-03-14 16:27:03,468 [NER_Module.model.backbone] [INFO] Device is set to cuda\n",
      "(Epoch 1) TRAIN LOSS:1.2610 LR:0.00002000:  54%|████████████████████▋                 | 57/105 [00:51<00:11,  4.02it/s]2021-03-14 16:27:03,713 [NER_Module.model.backbone] [INFO] Device is set to cuda\n",
      "(Epoch 1) TRAIN LOSS:1.2584 LR:0.00002000:  55%|████████████████████▉                 | 58/105 [00:51<00:11,  4.23it/s]2021-03-14 16:27:03,921 [NER_Module.model.backbone] [INFO] Device is set to cuda\n",
      "(Epoch 1) TRAIN LOSS:1.2550 LR:0.00002000:  56%|█████████████████████▎                | 59/105 [00:52<00:10,  4.46it/s]2021-03-14 16:27:04,118 [NER_Module.model.backbone] [INFO] Device is set to cuda\n",
      "(Epoch 1) TRAIN LOSS:1.2531 LR:0.00002000:  57%|█████████████████████▋                | 60/105 [00:52<00:10,  4.49it/s]2021-03-14 16:27:04,337 [NER_Module.model.backbone] [INFO] Device is set to cuda\n",
      "(Epoch 1) TRAIN LOSS:1.2503 LR:0.00002000:  58%|██████████████████████                | 61/105 [00:52<00:09,  4.80it/s]2021-03-14 16:27:04,511 [NER_Module.model.backbone] [INFO] Device is set to cuda\n",
      "(Epoch 1) TRAIN LOSS:1.2473 LR:0.00002000:  59%|██████████████████████▍               | 62/105 [00:52<00:08,  5.05it/s]2021-03-14 16:27:04,685 [NER_Module.model.backbone] [INFO] Device is set to cuda\n",
      "(Epoch 1) TRAIN LOSS:1.2454 LR:0.00002000:  60%|██████████████████████▊               | 63/105 [00:52<00:07,  5.31it/s]2021-03-14 16:27:04,850 [NER_Module.model.backbone] [INFO] Device is set to cuda\n",
      "(Epoch 1) TRAIN LOSS:1.2423 LR:0.00002000:  61%|███████████████████████▏              | 64/105 [00:53<00:08,  4.91it/s]2021-03-14 16:27:05,090 [NER_Module.model.backbone] [INFO] Device is set to cuda\n",
      "(Epoch 1) TRAIN LOSS:1.2384 LR:0.00002000:  62%|███████████████████████▌              | 65/105 [00:53<00:08,  4.70it/s]2021-03-14 16:27:05,326 [NER_Module.model.backbone] [INFO] Device is set to cuda\n",
      "(Epoch 1) TRAIN LOSS:1.2341 LR:0.00002000:  63%|███████████████████████▉              | 66/105 [00:53<00:08,  4.65it/s]2021-03-14 16:27:05,544 [NER_Module.model.backbone] [INFO] Device is set to cuda\n",
      "(Epoch 1) TRAIN LOSS:1.2324 LR:0.00002000:  64%|████████████████████████▏             | 67/105 [00:53<00:07,  5.13it/s]2021-03-14 16:27:05,693 [NER_Module.model.backbone] [INFO] Device is set to cuda\n",
      "(Epoch 1) TRAIN LOSS:1.2326 LR:0.00002000:  65%|████████████████████████▌             | 68/105 [00:53<00:07,  4.90it/s]2021-03-14 16:27:05,918 [NER_Module.model.backbone] [INFO] Device is set to cuda\n",
      "(Epoch 1) TRAIN LOSS:1.2306 LR:0.00002000:  66%|████████████████████████▉             | 69/105 [00:54<00:06,  5.24it/s]2021-03-14 16:27:06,078 [NER_Module.model.backbone] [INFO] Device is set to cuda\n",
      "(Epoch 1) TRAIN LOSS:1.2285 LR:0.00002000:  67%|█████████████████████████▎            | 70/105 [00:54<00:06,  5.73it/s]2021-03-14 16:27:06,216 [NER_Module.model.backbone] [INFO] Device is set to cuda\n",
      "(Epoch 1) TRAIN LOSS:1.2278 LR:0.00002000:  68%|█████████████████████████▋            | 71/105 [00:54<00:05,  6.36it/s]2021-03-14 16:27:06,331 [NER_Module.model.backbone] [INFO] Device is set to cuda\n",
      "(Epoch 1) TRAIN LOSS:1.2257 LR:0.00002000:  69%|██████████████████████████            | 72/105 [00:54<00:05,  6.16it/s]2021-03-14 16:27:06,505 [NER_Module.model.backbone] [INFO] Device is set to cuda\n",
      "(Epoch 1) TRAIN LOSS:1.2219 LR:0.00002000:  70%|██████████████████████████▍           | 73/105 [00:54<00:05,  5.36it/s]2021-03-14 16:27:06,748 [NER_Module.model.backbone] [INFO] Device is set to cuda\n",
      "(Epoch 1) TRAIN LOSS:1.2196 LR:0.00002000:  70%|██████████████████████████▊           | 74/105 [00:54<00:05,  5.48it/s]2021-03-14 16:27:06,920 [NER_Module.model.backbone] [INFO] Device is set to cuda\n",
      "(Epoch 1) TRAIN LOSS:1.2177 LR:0.00002000:  71%|███████████████████████████▏          | 75/105 [00:55<00:05,  5.33it/s]2021-03-14 16:27:07,121 [NER_Module.model.backbone] [INFO] Device is set to cuda\n",
      "(Epoch 1) TRAIN LOSS:1.2158 LR:0.00002000:  72%|███████████████████████████▌          | 76/105 [00:55<00:05,  5.37it/s]2021-03-14 16:27:07,304 [NER_Module.model.backbone] [INFO] Device is set to cuda\n",
      "(Epoch 1) TRAIN LOSS:1.2145 LR:0.00002000:  73%|███████████████████████████▊          | 77/105 [00:55<00:05,  5.41it/s]2021-03-14 16:27:07,485 [NER_Module.model.backbone] [INFO] Device is set to cuda\n",
      "(Epoch 1) TRAIN LOSS:1.2147 LR:0.00002000:  74%|████████████████████████████▏         | 78/105 [00:55<00:05,  4.98it/s]2021-03-14 16:27:07,724 [NER_Module.model.backbone] [INFO] Device is set to cuda\n",
      "(Epoch 1) TRAIN LOSS:1.2124 LR:0.00002000:  75%|████████████████████████████▌         | 79/105 [00:55<00:05,  5.03it/s]2021-03-14 16:27:07,918 [NER_Module.model.backbone] [INFO] Device is set to cuda\n",
      "(Epoch 1) TRAIN LOSS:1.2107 LR:0.00002000:  76%|████████████████████████████▉         | 80/105 [00:56<00:05,  4.98it/s]2021-03-14 16:27:08,123 [NER_Module.model.backbone] [INFO] Device is set to cuda\n",
      "(Epoch 1) TRAIN LOSS:1.2077 LR:0.00002000:  77%|█████████████████████████████▎        | 81/105 [00:56<00:04,  5.09it/s]2021-03-14 16:27:08,310 [NER_Module.model.backbone] [INFO] Device is set to cuda\n"
     ]
    },
    {
     "name": "stderr",
     "output_type": "stream",
     "text": [
      "(Epoch 1) TRAIN LOSS:1.2066 LR:0.00002000:  78%|█████████████████████████████▋        | 82/105 [00:56<00:04,  4.93it/s]2021-03-14 16:27:08,527 [NER_Module.model.backbone] [INFO] Device is set to cuda\n",
      "(Epoch 1) TRAIN LOSS:1.2054 LR:0.00002000:  79%|██████████████████████████████        | 83/105 [00:56<00:04,  5.27it/s]2021-03-14 16:27:08,687 [NER_Module.model.backbone] [INFO] Device is set to cuda\n",
      "(Epoch 1) TRAIN LOSS:1.2020 LR:0.00002000:  80%|██████████████████████████████▍       | 84/105 [00:56<00:04,  4.67it/s]2021-03-14 16:27:08,957 [NER_Module.model.backbone] [INFO] Device is set to cuda\n",
      "(Epoch 1) TRAIN LOSS:1.2004 LR:0.00002000:  81%|██████████████████████████████▊       | 85/105 [00:57<00:03,  5.18it/s]2021-03-14 16:27:09,101 [NER_Module.model.backbone] [INFO] Device is set to cuda\n",
      "(Epoch 1) TRAIN LOSS:1.1996 LR:0.00002000:  82%|███████████████████████████████       | 86/105 [00:57<00:03,  5.24it/s]2021-03-14 16:27:09,289 [NER_Module.model.backbone] [INFO] Device is set to cuda\n",
      "(Epoch 1) TRAIN LOSS:1.1981 LR:0.00002000:  83%|███████████████████████████████▍      | 87/105 [00:57<00:03,  5.49it/s]2021-03-14 16:27:09,448 [NER_Module.model.backbone] [INFO] Device is set to cuda\n",
      "(Epoch 1) TRAIN LOSS:1.1972 LR:0.00002000:  84%|███████████████████████████████▊      | 88/105 [00:57<00:03,  4.80it/s]2021-03-14 16:27:09,717 [NER_Module.model.backbone] [INFO] Device is set to cuda\n",
      "(Epoch 1) TRAIN LOSS:1.1957 LR:0.00002000:  85%|████████████████████████████████▏     | 89/105 [00:57<00:03,  5.03it/s]2021-03-14 16:27:09,895 [NER_Module.model.backbone] [INFO] Device is set to cuda\n",
      "(Epoch 1) TRAIN LOSS:1.1936 LR:0.00002000:  86%|████████████████████████████████▌     | 90/105 [00:58<00:02,  5.13it/s]2021-03-14 16:27:10,081 [NER_Module.model.backbone] [INFO] Device is set to cuda\n",
      "(Epoch 1) TRAIN LOSS:1.1928 LR:0.00002000:  87%|████████████████████████████████▉     | 91/105 [00:58<00:02,  5.14it/s]2021-03-14 16:27:10,275 [NER_Module.model.backbone] [INFO] Device is set to cuda\n",
      "(Epoch 1) TRAIN LOSS:1.1925 LR:0.00002000:  88%|█████████████████████████████████▎    | 92/105 [00:58<00:02,  5.52it/s]2021-03-14 16:27:10,424 [NER_Module.model.backbone] [INFO] Device is set to cuda\n",
      "(Epoch 1) TRAIN LOSS:1.1908 LR:0.00002000:  89%|█████████████████████████████████▋    | 93/105 [00:58<00:02,  5.39it/s]2021-03-14 16:27:10,620 [NER_Module.model.backbone] [INFO] Device is set to cuda\n",
      "(Epoch 1) TRAIN LOSS:1.1896 LR:0.00002000:  90%|██████████████████████████████████    | 94/105 [00:58<00:02,  4.72it/s]2021-03-14 16:27:10,894 [NER_Module.model.backbone] [INFO] Device is set to cuda\n",
      "(Epoch 1) TRAIN LOSS:1.1864 LR:0.00002000:  90%|██████████████████████████████████▍   | 95/105 [00:59<00:02,  4.71it/s]2021-03-14 16:27:11,107 [NER_Module.model.backbone] [INFO] Device is set to cuda\n",
      "(Epoch 1) TRAIN LOSS:1.1858 LR:0.00002000:  91%|██████████████████████████████████▋   | 96/105 [00:59<00:01,  4.97it/s]2021-03-14 16:27:11,281 [NER_Module.model.backbone] [INFO] Device is set to cuda\n",
      "(Epoch 1) TRAIN LOSS:1.1835 LR:0.00002000:  92%|███████████████████████████████████   | 97/105 [00:59<00:01,  4.95it/s]2021-03-14 16:27:11,486 [NER_Module.model.backbone] [INFO] Device is set to cuda\n",
      "(Epoch 1) TRAIN LOSS:1.1824 LR:0.00002000:  93%|███████████████████████████████████▍  | 98/105 [00:59<00:01,  5.40it/s]2021-03-14 16:27:11,633 [NER_Module.model.backbone] [INFO] Device is set to cuda\n",
      "(Epoch 1) TRAIN LOSS:1.1815 LR:0.00002000:  94%|███████████████████████████████████▊  | 99/105 [00:59<00:01,  5.73it/s]2021-03-14 16:27:11,783 [NER_Module.model.backbone] [INFO] Device is set to cuda\n",
      "(Epoch 1) TRAIN LOSS:1.1796 LR:0.00002000:  95%|███████████████████████████████████▏ | 100/105 [00:59<00:00,  5.61it/s]2021-03-14 16:27:11,969 [NER_Module.model.backbone] [INFO] Device is set to cuda\n",
      "(Epoch 1) TRAIN LOSS:1.1803 LR:0.00002000:  96%|███████████████████████████████████▌ | 101/105 [01:00<00:00,  5.11it/s]2021-03-14 16:27:12,204 [NER_Module.model.backbone] [INFO] Device is set to cuda\n",
      "(Epoch 1) TRAIN LOSS:1.1797 LR:0.00002000:  97%|███████████████████████████████████▉ | 102/105 [01:00<00:00,  5.30it/s]2021-03-14 16:27:12,379 [NER_Module.model.backbone] [INFO] Device is set to cuda\n",
      "(Epoch 1) TRAIN LOSS:1.1771 LR:0.00002000:  98%|████████████████████████████████████▎| 103/105 [01:00<00:00,  4.99it/s]2021-03-14 16:27:12,605 [NER_Module.model.backbone] [INFO] Device is set to cuda\n",
      "(Epoch 1) TRAIN LOSS:1.1753 LR:0.00002000:  99%|████████████████████████████████████▋| 104/105 [01:00<00:00,  4.96it/s]2021-03-14 16:27:12,810 [NER_Module.model.backbone] [INFO] Device is set to cuda\n",
      "(Epoch 1) TRAIN LOSS:1.1730 LR:0.00002000: 100%|█████████████████████████████████████| 105/105 [01:01<00:00,  1.70it/s]\n",
      "  0%|                                                                                          | 0/105 [00:00<?, ?it/s]"
     ]
    },
    {
     "name": "stdout",
     "output_type": "stream",
     "text": [
      "(Epoch 1) TRAIN LOSS:1.1730 ACC:0.86 F1:0.24 REC:0.20 PRE:0.29 LR:0.00002000\n"
     ]
    },
    {
     "name": "stderr",
     "output_type": "stream",
     "text": [
      "2021-03-14 16:27:53,607 [NER_Module.model.backbone] [INFO] Device is set to cuda\n",
      "(Epoch 2) TRAIN LOSS:1.0367 LR:0.00002000:   1%|▎                                    | 1/105 [00:40<1:09:24, 40.04s/it]2021-03-14 16:27:53,879 [NER_Module.model.backbone] [INFO] Device is set to cuda\n",
      "(Epoch 2) TRAIN LOSS:1.1064 LR:0.00002000:   2%|▋                                      | 2/105 [00:40<48:12, 28.08s/it]2021-03-14 16:27:54,054 [NER_Module.model.backbone] [INFO] Device is set to cuda\n",
      "(Epoch 2) TRAIN LOSS:1.0315 LR:0.00002000:   3%|█                                      | 3/105 [00:40<33:31, 19.72s/it]2021-03-14 16:27:54,268 [NER_Module.model.backbone] [INFO] Device is set to cuda\n",
      "(Epoch 2) TRAIN LOSS:1.0064 LR:0.00002000:   4%|█▍                                     | 4/105 [00:40<23:19, 13.86s/it]2021-03-14 16:27:54,454 [NER_Module.model.backbone] [INFO] Device is set to cuda\n",
      "(Epoch 2) TRAIN LOSS:1.0368 LR:0.00002000:   5%|█▊                                     | 5/105 [00:40<16:14,  9.74s/it]2021-03-14 16:27:54,590 [NER_Module.model.backbone] [INFO] Device is set to cuda\n",
      "(Epoch 2) TRAIN LOSS:1.0890 LR:0.00002000:   6%|██▏                                    | 6/105 [00:40<11:21,  6.88s/it]2021-03-14 16:27:54,790 [NER_Module.model.backbone] [INFO] Device is set to cuda\n",
      "(Epoch 2) TRAIN LOSS:1.0845 LR:0.00002000:   7%|██▌                                    | 7/105 [00:41<07:56,  4.86s/it]2021-03-14 16:27:54,946 [NER_Module.model.backbone] [INFO] Device is set to cuda\n",
      "(Epoch 2) TRAIN LOSS:1.0725 LR:0.00002000:   8%|██▉                                    | 8/105 [00:41<05:35,  3.46s/it]2021-03-14 16:27:55,135 [NER_Module.model.backbone] [INFO] Device is set to cuda\n",
      "(Epoch 2) TRAIN LOSS:1.0707 LR:0.00002000:   9%|███▎                                   | 9/105 [00:41<03:56,  2.47s/it]2021-03-14 16:27:55,284 [NER_Module.model.backbone] [INFO] Device is set to cuda\n",
      "(Epoch 2) TRAIN LOSS:1.0642 LR:0.00002000:  10%|███▌                                  | 10/105 [00:41<02:51,  1.80s/it]2021-03-14 16:27:55,540 [NER_Module.model.backbone] [INFO] Device is set to cuda\n",
      "(Epoch 2) TRAIN LOSS:1.0532 LR:0.00002000:  10%|███▉                                  | 11/105 [00:41<02:04,  1.32s/it]2021-03-14 16:27:55,736 [NER_Module.model.backbone] [INFO] Device is set to cuda\n",
      "(Epoch 2) TRAIN LOSS:1.0490 LR:0.00002000:  11%|████▎                                 | 12/105 [00:42<01:31,  1.02it/s]2021-03-14 16:27:55,917 [NER_Module.model.backbone] [INFO] Device is set to cuda\n",
      "(Epoch 2) TRAIN LOSS:1.0413 LR:0.00002000:  12%|████▋                                 | 13/105 [00:42<01:08,  1.35it/s]2021-03-14 16:27:56,097 [NER_Module.model.backbone] [INFO] Device is set to cuda\n",
      "(Epoch 2) TRAIN LOSS:1.0344 LR:0.00002000:  13%|█████                                 | 14/105 [00:42<00:54,  1.67it/s]2021-03-14 16:27:56,369 [NER_Module.model.backbone] [INFO] Device is set to cuda\n",
      "(Epoch 2) TRAIN LOSS:1.0300 LR:0.00002000:  14%|█████▍                                | 15/105 [00:42<00:42,  2.12it/s]2021-03-14 16:27:56,546 [NER_Module.model.backbone] [INFO] Device is set to cuda\n",
      "(Epoch 2) TRAIN LOSS:1.0257 LR:0.00002000:  15%|█████▊                                | 16/105 [00:42<00:34,  2.61it/s]2021-03-14 16:27:56,720 [NER_Module.model.backbone] [INFO] Device is set to cuda\n",
      "(Epoch 2) TRAIN LOSS:1.0292 LR:0.00002000:  16%|██████▏                               | 17/105 [00:43<00:27,  3.21it/s]2021-03-14 16:27:56,863 [NER_Module.model.backbone] [INFO] Device is set to cuda\n",
      "(Epoch 2) TRAIN LOSS:1.0210 LR:0.00002000:  17%|██████▌                               | 18/105 [00:43<00:24,  3.59it/s]2021-03-14 16:27:57,066 [NER_Module.model.backbone] [INFO] Device is set to cuda\n",
      "(Epoch 2) TRAIN LOSS:1.0230 LR:0.00002000:  18%|██████▉                               | 19/105 [00:43<00:21,  4.03it/s]2021-03-14 16:27:57,243 [NER_Module.model.backbone] [INFO] Device is set to cuda\n",
      "(Epoch 2) TRAIN LOSS:1.0243 LR:0.00002000:  19%|███████▏                              | 20/105 [00:43<00:19,  4.37it/s]2021-03-14 16:27:57,426 [NER_Module.model.backbone] [INFO] Device is set to cuda\n",
      "(Epoch 2) TRAIN LOSS:1.0293 LR:0.00002000:  20%|███████▌                              | 21/105 [00:43<00:17,  4.87it/s]2021-03-14 16:27:57,577 [NER_Module.model.backbone] [INFO] Device is set to cuda\n",
      "(Epoch 2) TRAIN LOSS:1.0254 LR:0.00002000:  21%|███████▉                              | 22/105 [00:43<00:17,  4.64it/s]2021-03-14 16:27:57,817 [NER_Module.model.backbone] [INFO] Device is set to cuda\n",
      "(Epoch 2) TRAIN LOSS:1.0248 LR:0.00002000:  22%|████████▎                             | 23/105 [00:44<00:16,  5.04it/s]2021-03-14 16:27:57,976 [NER_Module.model.backbone] [INFO] Device is set to cuda\n",
      "(Epoch 2) TRAIN LOSS:1.0228 LR:0.00002000:  23%|████████▋                             | 24/105 [00:44<00:14,  5.46it/s]2021-03-14 16:27:58,122 [NER_Module.model.backbone] [INFO] Device is set to cuda\n",
      "(Epoch 2) TRAIN LOSS:1.0151 LR:0.00002000:  24%|█████████                             | 25/105 [00:44<00:15,  5.23it/s]2021-03-14 16:27:58,331 [NER_Module.model.backbone] [INFO] Device is set to cuda\n",
      "(Epoch 2) TRAIN LOSS:1.0156 LR:0.00002000:  25%|█████████▍                            | 26/105 [00:44<00:14,  5.56it/s]2021-03-14 16:27:58,488 [NER_Module.model.backbone] [INFO] Device is set to cuda\n",
      "(Epoch 2) TRAIN LOSS:1.0181 LR:0.00002000:  26%|█████████▊                            | 27/105 [00:44<00:13,  5.94it/s]2021-03-14 16:27:58,627 [NER_Module.model.backbone] [INFO] Device is set to cuda\n",
      "(Epoch 2) TRAIN LOSS:1.0181 LR:0.00002000:  27%|██████████▏                           | 28/105 [00:44<00:13,  5.77it/s]2021-03-14 16:27:58,811 [NER_Module.model.backbone] [INFO] Device is set to cuda\n",
      "(Epoch 2) TRAIN LOSS:1.0164 LR:0.00002000:  28%|██████████▍                           | 29/105 [00:45<00:13,  5.50it/s]2021-03-14 16:27:59,014 [NER_Module.model.backbone] [INFO] Device is set to cuda\n",
      "(Epoch 2) TRAIN LOSS:1.0184 LR:0.00002000:  29%|██████████▊                           | 30/105 [00:45<00:13,  5.74it/s]2021-03-14 16:27:59,171 [NER_Module.model.backbone] [INFO] Device is set to cuda\n",
      "(Epoch 2) TRAIN LOSS:1.0173 LR:0.00002000:  30%|███████████▏                          | 31/105 [00:45<00:13,  5.45it/s]2021-03-14 16:27:59,376 [NER_Module.model.backbone] [INFO] Device is set to cuda\n",
      "(Epoch 2) TRAIN LOSS:1.0128 LR:0.00002000:  30%|███████████▌                          | 32/105 [00:45<00:14,  5.14it/s]2021-03-14 16:27:59,595 [NER_Module.model.backbone] [INFO] Device is set to cuda\n",
      "(Epoch 2) TRAIN LOSS:1.0071 LR:0.00002000:  31%|███████████▉                          | 33/105 [00:46<00:15,  4.59it/s]2021-03-14 16:27:59,867 [NER_Module.model.backbone] [INFO] Device is set to cuda\n",
      "(Epoch 2) TRAIN LOSS:1.0010 LR:0.00002000:  32%|████████████▎                         | 34/105 [00:46<00:17,  3.95it/s]2021-03-14 16:28:00,201 [NER_Module.model.backbone] [INFO] Device is set to cuda\n",
      "(Epoch 2) TRAIN LOSS:0.9989 LR:0.00002000:  33%|████████████▋                         | 35/105 [00:46<00:16,  4.13it/s]2021-03-14 16:28:00,420 [NER_Module.model.backbone] [INFO] Device is set to cuda\n",
      "(Epoch 2) TRAIN LOSS:0.9962 LR:0.00002000:  34%|█████████████                         | 36/105 [00:46<00:15,  4.33it/s]2021-03-14 16:28:00,624 [NER_Module.model.backbone] [INFO] Device is set to cuda\n",
      "(Epoch 2) TRAIN LOSS:0.9981 LR:0.00002000:  35%|█████████████▍                        | 37/105 [00:46<00:13,  4.94it/s]2021-03-14 16:28:00,760 [NER_Module.model.backbone] [INFO] Device is set to cuda\n",
      "(Epoch 2) TRAIN LOSS:0.9963 LR:0.00002000:  36%|█████████████▊                        | 38/105 [00:47<00:14,  4.70it/s]2021-03-14 16:28:00,998 [NER_Module.model.backbone] [INFO] Device is set to cuda\n",
      "(Epoch 2) TRAIN LOSS:0.9922 LR:0.00002000:  37%|██████████████                        | 39/105 [00:47<00:15,  4.34it/s]2021-03-14 16:28:01,269 [NER_Module.model.backbone] [INFO] Device is set to cuda\n",
      "(Epoch 2) TRAIN LOSS:0.9914 LR:0.00002000:  38%|██████████████▍                       | 40/105 [00:47<00:13,  4.68it/s]2021-03-14 16:28:01,443 [NER_Module.model.backbone] [INFO] Device is set to cuda\n"
     ]
    },
    {
     "name": "stderr",
     "output_type": "stream",
     "text": [
      "(Epoch 2) TRAIN LOSS:0.9886 LR:0.00002000:  39%|██████████████▊                       | 41/105 [00:47<00:13,  4.67it/s]2021-03-14 16:28:01,658 [NER_Module.model.backbone] [INFO] Device is set to cuda\n",
      "(Epoch 2) TRAIN LOSS:0.9827 LR:0.00002000:  40%|███████████████▏                      | 42/105 [00:48<00:13,  4.52it/s]2021-03-14 16:28:01,898 [NER_Module.model.backbone] [INFO] Device is set to cuda\n",
      "(Epoch 2) TRAIN LOSS:0.9823 LR:0.00002000:  41%|███████████████▌                      | 43/105 [00:48<00:13,  4.73it/s]2021-03-14 16:28:02,083 [NER_Module.model.backbone] [INFO] Device is set to cuda\n",
      "(Epoch 2) TRAIN LOSS:0.9825 LR:0.00002000:  42%|███████████████▉                      | 44/105 [00:48<00:12,  4.94it/s]2021-03-14 16:28:02,266 [NER_Module.model.backbone] [INFO] Device is set to cuda\n",
      "(Epoch 2) TRAIN LOSS:0.9795 LR:0.00002000:  43%|████████████████▎                     | 45/105 [00:48<00:13,  4.40it/s]2021-03-14 16:28:02,550 [NER_Module.model.backbone] [INFO] Device is set to cuda\n",
      "(Epoch 2) TRAIN LOSS:0.9802 LR:0.00002000:  44%|████████████████▋                     | 46/105 [00:48<00:12,  4.75it/s]2021-03-14 16:28:02,723 [NER_Module.model.backbone] [INFO] Device is set to cuda\n",
      "(Epoch 2) TRAIN LOSS:0.9784 LR:0.00002000:  45%|█████████████████                     | 47/105 [00:49<00:13,  4.42it/s]2021-03-14 16:28:02,985 [NER_Module.model.backbone] [INFO] Device is set to cuda\n",
      "(Epoch 2) TRAIN LOSS:0.9777 LR:0.00002000:  46%|█████████████████▎                    | 48/105 [00:49<00:12,  4.73it/s]2021-03-14 16:28:03,161 [NER_Module.model.backbone] [INFO] Device is set to cuda\n",
      "(Epoch 2) TRAIN LOSS:0.9732 LR:0.00002000:  47%|█████████████████▋                    | 49/105 [00:49<00:12,  4.48it/s]2021-03-14 16:28:03,412 [NER_Module.model.backbone] [INFO] Device is set to cuda\n",
      "(Epoch 2) TRAIN LOSS:0.9735 LR:0.00002000:  48%|██████████████████                    | 50/105 [00:49<00:10,  5.00it/s]2021-03-14 16:28:03,558 [NER_Module.model.backbone] [INFO] Device is set to cuda\n",
      "(Epoch 2) TRAIN LOSS:0.9706 LR:0.00002000:  49%|██████████████████▍                   | 51/105 [00:49<00:11,  4.65it/s]2021-03-14 16:28:03,809 [NER_Module.model.backbone] [INFO] Device is set to cuda\n",
      "(Epoch 2) TRAIN LOSS:0.9692 LR:0.00002000:  50%|██████████████████▊                   | 52/105 [00:50<00:11,  4.79it/s]2021-03-14 16:28:04,003 [NER_Module.model.backbone] [INFO] Device is set to cuda\n",
      "(Epoch 2) TRAIN LOSS:0.9667 LR:0.00002000:  50%|███████████████████▏                  | 53/105 [00:50<00:11,  4.67it/s]2021-03-14 16:28:04,230 [NER_Module.model.backbone] [INFO] Device is set to cuda\n",
      "(Epoch 2) TRAIN LOSS:0.9672 LR:0.00002000:  51%|███████████████████▌                  | 54/105 [00:50<00:09,  5.16it/s]2021-03-14 16:28:04,376 [NER_Module.model.backbone] [INFO] Device is set to cuda\n",
      "(Epoch 2) TRAIN LOSS:0.9664 LR:0.00002000:  52%|███████████████████▉                  | 55/105 [00:50<00:09,  5.32it/s]2021-03-14 16:28:04,551 [NER_Module.model.backbone] [INFO] Device is set to cuda\n",
      "(Epoch 2) TRAIN LOSS:0.9643 LR:0.00002000:  53%|████████████████████▎                 | 56/105 [00:50<00:09,  5.22it/s]2021-03-14 16:28:04,750 [NER_Module.model.backbone] [INFO] Device is set to cuda\n",
      "(Epoch 2) TRAIN LOSS:0.9617 LR:0.00002000:  54%|████████████████████▋                 | 57/105 [00:51<00:13,  3.69it/s]2021-03-14 16:28:05,206 [NER_Module.model.backbone] [INFO] Device is set to cuda\n",
      "(Epoch 2) TRAIN LOSS:0.9619 LR:0.00002000:  55%|████████████████████▉                 | 58/105 [00:51<00:10,  4.29it/s]2021-03-14 16:28:05,351 [NER_Module.model.backbone] [INFO] Device is set to cuda\n",
      "(Epoch 2) TRAIN LOSS:0.9593 LR:0.00002000:  56%|█████████████████████▎                | 59/105 [00:51<00:09,  4.77it/s]2021-03-14 16:28:05,505 [NER_Module.model.backbone] [INFO] Device is set to cuda\n",
      "(Epoch 2) TRAIN LOSS:0.9582 LR:0.00002000:  57%|█████████████████████▋                | 60/105 [00:51<00:09,  4.77it/s]2021-03-14 16:28:05,715 [NER_Module.model.backbone] [INFO] Device is set to cuda\n",
      "(Epoch 2) TRAIN LOSS:0.9585 LR:0.00002000:  58%|██████████████████████                | 61/105 [00:52<00:08,  5.16it/s]2021-03-14 16:28:05,871 [NER_Module.model.backbone] [INFO] Device is set to cuda\n",
      "(Epoch 2) TRAIN LOSS:0.9575 LR:0.00002000:  59%|██████████████████████▍               | 62/105 [00:52<00:08,  5.26it/s]2021-03-14 16:28:06,053 [NER_Module.model.backbone] [INFO] Device is set to cuda\n",
      "(Epoch 2) TRAIN LOSS:0.9566 LR:0.00002000:  60%|██████████████████████▊               | 63/105 [00:52<00:07,  5.34it/s]2021-03-14 16:28:06,234 [NER_Module.model.backbone] [INFO] Device is set to cuda\n",
      "(Epoch 2) TRAIN LOSS:0.9558 LR:0.00002000:  61%|███████████████████████▏              | 64/105 [00:52<00:08,  5.07it/s]2021-03-14 16:28:06,454 [NER_Module.model.backbone] [INFO] Device is set to cuda\n",
      "(Epoch 2) TRAIN LOSS:0.9545 LR:0.00002000:  62%|███████████████████████▌              | 65/105 [00:52<00:08,  4.88it/s]2021-03-14 16:28:06,677 [NER_Module.model.backbone] [INFO] Device is set to cuda\n",
      "(Epoch 2) TRAIN LOSS:0.9539 LR:0.00002000:  63%|███████████████████████▉              | 66/105 [00:53<00:07,  5.06it/s]2021-03-14 16:28:06,857 [NER_Module.model.backbone] [INFO] Device is set to cuda\n",
      "(Epoch 2) TRAIN LOSS:0.9552 LR:0.00002000:  64%|████████████████████████▏             | 67/105 [00:53<00:06,  5.61it/s]2021-03-14 16:28:06,992 [NER_Module.model.backbone] [INFO] Device is set to cuda\n",
      "(Epoch 2) TRAIN LOSS:0.9531 LR:0.00002000:  65%|████████████████████████▌             | 68/105 [00:53<00:06,  5.49it/s]2021-03-14 16:28:07,181 [NER_Module.model.backbone] [INFO] Device is set to cuda\n",
      "(Epoch 2) TRAIN LOSS:0.9542 LR:0.00002000:  66%|████████████████████████▉             | 69/105 [00:53<00:06,  5.52it/s]2021-03-14 16:28:07,361 [NER_Module.model.backbone] [INFO] Device is set to cuda\n",
      "(Epoch 2) TRAIN LOSS:0.9536 LR:0.00002000:  67%|█████████████████████████▎            | 70/105 [00:53<00:06,  5.31it/s]2021-03-14 16:28:07,567 [NER_Module.model.backbone] [INFO] Device is set to cuda\n",
      "(Epoch 2) TRAIN LOSS:0.9552 LR:0.00002000:  68%|█████████████████████████▋            | 71/105 [00:53<00:06,  5.30it/s]2021-03-14 16:28:07,756 [NER_Module.model.backbone] [INFO] Device is set to cuda\n",
      "(Epoch 2) TRAIN LOSS:0.9553 LR:0.00002000:  69%|██████████████████████████            | 72/105 [00:54<00:05,  5.57it/s]2021-03-14 16:28:07,915 [NER_Module.model.backbone] [INFO] Device is set to cuda\n",
      "(Epoch 2) TRAIN LOSS:0.9533 LR:0.00002000:  70%|██████████████████████████▍           | 73/105 [00:54<00:05,  5.59it/s]2021-03-14 16:28:08,091 [NER_Module.model.backbone] [INFO] Device is set to cuda\n",
      "(Epoch 2) TRAIN LOSS:0.9542 LR:0.00002000:  70%|██████████████████████████▊           | 74/105 [00:54<00:05,  5.60it/s]2021-03-14 16:28:08,271 [NER_Module.model.backbone] [INFO] Device is set to cuda\n",
      "(Epoch 2) TRAIN LOSS:0.9544 LR:0.00002000:  71%|███████████████████████████▏          | 75/105 [00:54<00:05,  5.21it/s]2021-03-14 16:28:08,491 [NER_Module.model.backbone] [INFO] Device is set to cuda\n",
      "(Epoch 2) TRAIN LOSS:0.9542 LR:0.00002000:  72%|███████████████████████████▌          | 76/105 [00:54<00:05,  5.35it/s]2021-03-14 16:28:08,666 [NER_Module.model.backbone] [INFO] Device is set to cuda\n",
      "(Epoch 2) TRAIN LOSS:0.9547 LR:0.00002000:  73%|███████████████████████████▊          | 77/105 [00:54<00:05,  5.50it/s]2021-03-14 16:28:08,837 [NER_Module.model.backbone] [INFO] Device is set to cuda\n",
      "(Epoch 2) TRAIN LOSS:0.9547 LR:0.00002000:  74%|████████████████████████████▏         | 78/105 [00:55<00:04,  5.55it/s]2021-03-14 16:28:09,014 [NER_Module.model.backbone] [INFO] Device is set to cuda\n",
      "(Epoch 2) TRAIN LOSS:0.9533 LR:0.00002000:  75%|████████████████████████████▌         | 79/105 [00:55<00:04,  5.53it/s]2021-03-14 16:28:09,196 [NER_Module.model.backbone] [INFO] Device is set to cuda\n",
      "(Epoch 2) TRAIN LOSS:0.9538 LR:0.00002000:  76%|████████████████████████████▉         | 80/105 [00:55<00:04,  5.90it/s]2021-03-14 16:28:09,339 [NER_Module.model.backbone] [INFO] Device is set to cuda\n",
      "(Epoch 2) TRAIN LOSS:0.9537 LR:0.00002000:  77%|█████████████████████████████▎        | 81/105 [00:55<00:04,  5.92it/s]2021-03-14 16:28:09,507 [NER_Module.model.backbone] [INFO] Device is set to cuda\n"
     ]
    },
    {
     "name": "stderr",
     "output_type": "stream",
     "text": [
      "(Epoch 2) TRAIN LOSS:0.9533 LR:0.00002000:  78%|█████████████████████████████▋        | 82/105 [00:55<00:03,  6.16it/s]2021-03-14 16:28:09,653 [NER_Module.model.backbone] [INFO] Device is set to cuda\n",
      "(Epoch 2) TRAIN LOSS:0.9514 LR:0.00002000:  79%|██████████████████████████████        | 83/105 [00:56<00:03,  5.76it/s]2021-03-14 16:28:09,854 [NER_Module.model.backbone] [INFO] Device is set to cuda\n",
      "(Epoch 2) TRAIN LOSS:0.9501 LR:0.00002000:  80%|██████████████████████████████▍       | 84/105 [00:56<00:03,  5.74it/s]2021-03-14 16:28:10,029 [NER_Module.model.backbone] [INFO] Device is set to cuda\n",
      "(Epoch 2) TRAIN LOSS:0.9495 LR:0.00002000:  81%|██████████████████████████████▊       | 85/105 [00:56<00:03,  5.88it/s]2021-03-14 16:28:10,190 [NER_Module.model.backbone] [INFO] Device is set to cuda\n",
      "(Epoch 2) TRAIN LOSS:0.9479 LR:0.00002000:  82%|███████████████████████████████       | 86/105 [00:56<00:03,  5.32it/s]2021-03-14 16:28:10,419 [NER_Module.model.backbone] [INFO] Device is set to cuda\n",
      "(Epoch 2) TRAIN LOSS:0.9483 LR:0.00002000:  83%|███████████████████████████████▍      | 87/105 [00:56<00:03,  5.70it/s]2021-03-14 16:28:10,566 [NER_Module.model.backbone] [INFO] Device is set to cuda\n",
      "(Epoch 2) TRAIN LOSS:0.9475 LR:0.00002000:  84%|███████████████████████████████▊      | 88/105 [00:56<00:03,  5.10it/s]2021-03-14 16:28:10,810 [NER_Module.model.backbone] [INFO] Device is set to cuda\n",
      "(Epoch 2) TRAIN LOSS:0.9465 LR:0.00002000:  85%|████████████████████████████████▏     | 89/105 [00:57<00:02,  5.65it/s]2021-03-14 16:28:10,942 [NER_Module.model.backbone] [INFO] Device is set to cuda\n",
      "(Epoch 2) TRAIN LOSS:0.9458 LR:0.00002000:  86%|████████████████████████████████▌     | 90/105 [00:57<00:03,  4.49it/s]2021-03-14 16:28:11,274 [NER_Module.model.backbone] [INFO] Device is set to cuda\n",
      "(Epoch 2) TRAIN LOSS:0.9478 LR:0.00002000:  87%|████████████████████████████████▉     | 91/105 [00:57<00:03,  3.60it/s]2021-03-14 16:28:11,679 [NER_Module.model.backbone] [INFO] Device is set to cuda\n",
      "(Epoch 2) TRAIN LOSS:0.9464 LR:0.00002000:  88%|█████████████████████████████████▎    | 92/105 [00:58<00:03,  3.84it/s]2021-03-14 16:28:11,899 [NER_Module.model.backbone] [INFO] Device is set to cuda\n",
      "(Epoch 2) TRAIN LOSS:0.9457 LR:0.00002000:  89%|█████████████████████████████████▋    | 93/105 [00:58<00:02,  4.30it/s]2021-03-14 16:28:12,066 [NER_Module.model.backbone] [INFO] Device is set to cuda\n",
      "(Epoch 2) TRAIN LOSS:0.9452 LR:0.00002000:  90%|██████████████████████████████████    | 94/105 [00:58<00:02,  4.10it/s]2021-03-14 16:28:12,336 [NER_Module.model.backbone] [INFO] Device is set to cuda\n",
      "(Epoch 2) TRAIN LOSS:0.9456 LR:0.00002000:  90%|██████████████████████████████████▍   | 95/105 [00:58<00:02,  4.15it/s]2021-03-14 16:28:12,571 [NER_Module.model.backbone] [INFO] Device is set to cuda\n",
      "(Epoch 2) TRAIN LOSS:0.9452 LR:0.00002000:  91%|██████████████████████████████████▋   | 96/105 [00:58<00:02,  4.48it/s]2021-03-14 16:28:12,752 [NER_Module.model.backbone] [INFO] Device is set to cuda\n",
      "(Epoch 2) TRAIN LOSS:0.9426 LR:0.00002000:  92%|███████████████████████████████████   | 97/105 [00:59<00:02,  3.37it/s]2021-03-14 16:28:13,221 [NER_Module.model.backbone] [INFO] Device is set to cuda\n",
      "(Epoch 2) TRAIN LOSS:0.9418 LR:0.00002000:  93%|███████████████████████████████████▍  | 98/105 [00:59<00:01,  3.84it/s]2021-03-14 16:28:13,397 [NER_Module.model.backbone] [INFO] Device is set to cuda\n",
      "(Epoch 2) TRAIN LOSS:0.9417 LR:0.00002000:  94%|███████████████████████████████████▊  | 99/105 [00:59<00:01,  4.27it/s]2021-03-14 16:28:13,570 [NER_Module.model.backbone] [INFO] Device is set to cuda\n",
      "(Epoch 2) TRAIN LOSS:0.9411 LR:0.00002000:  95%|███████████████████████████████████▏ | 100/105 [00:59<00:01,  4.47it/s]2021-03-14 16:28:13,768 [NER_Module.model.backbone] [INFO] Device is set to cuda\n",
      "(Epoch 2) TRAIN LOSS:0.9411 LR:0.00002000:  96%|███████████████████████████████████▌ | 101/105 [01:00<00:00,  4.99it/s]2021-03-14 16:28:13,914 [NER_Module.model.backbone] [INFO] Device is set to cuda\n",
      "(Epoch 2) TRAIN LOSS:0.9411 LR:0.00002000:  97%|███████████████████████████████████▉ | 102/105 [01:00<00:00,  4.67it/s]2021-03-14 16:28:14,161 [NER_Module.model.backbone] [INFO] Device is set to cuda\n",
      "(Epoch 2) TRAIN LOSS:0.9411 LR:0.00002000:  98%|████████████████████████████████████▎| 103/105 [01:00<00:00,  5.15it/s]2021-03-14 16:28:14,309 [NER_Module.model.backbone] [INFO] Device is set to cuda\n",
      "(Epoch 2) TRAIN LOSS:0.9408 LR:0.00002000:  99%|████████████████████████████████████▋| 104/105 [01:00<00:00,  5.16it/s]2021-03-14 16:28:14,501 [NER_Module.model.backbone] [INFO] Device is set to cuda\n",
      "(Epoch 2) TRAIN LOSS:0.9381 LR:0.00002000: 100%|█████████████████████████████████████| 105/105 [01:01<00:00,  1.71it/s]\n"
     ]
    },
    {
     "name": "stdout",
     "output_type": "stream",
     "text": [
      "(Epoch 2) TRAIN LOSS:0.9381 ACC:0.92 F1:0.51 REC:0.52 PRE:0.53 LR:0.00002000\n"
     ]
    },
    {
     "name": "stderr",
     "output_type": "stream",
     "text": [
      "  0%|                                                                                           | 0/14 [00:00<?, ?it/s]2021-03-14 16:28:54,730 [NER_Module.model.backbone] [INFO] Device is set to cuda\n",
      "VALID LOSS:0.9242 ACC:0.94 F1:0.59 REC:0.61 PRE:0.59:   0%|                                     | 0/14 [00:00<?, ?it/s]2021-03-14 16:28:54,796 [NER_Module.model.backbone] [INFO] Device is set to cuda\n",
      "VALID LOSS:0.9163 ACC:0.95 F1:0.63 REC:0.65 PRE:0.63:  14%|████▏                        | 2/14 [00:00<00:00, 16.39it/s]2021-03-14 16:28:54,853 [NER_Module.model.backbone] [INFO] Device is set to cuda\n",
      "VALID LOSS:0.9366 ACC:0.94 F1:0.61 REC:0.62 PRE:0.61:  14%|████▏                        | 2/14 [00:00<00:00, 16.39it/s]2021-03-14 16:28:54,920 [NER_Module.model.backbone] [INFO] Device is set to cuda\n",
      "VALID LOSS:0.9398 ACC:0.93 F1:0.59 REC:0.59 PRE:0.59:  29%|████████▎                    | 4/14 [00:00<00:00, 16.20it/s]2021-03-14 16:28:54,979 [NER_Module.model.backbone] [INFO] Device is set to cuda\n",
      "VALID LOSS:0.9352 ACC:0.94 F1:0.62 REC:0.63 PRE:0.62:  29%|████████▎                    | 4/14 [00:00<00:00, 16.20it/s]2021-03-14 16:28:55,035 [NER_Module.model.backbone] [INFO] Device is set to cuda\n",
      "VALID LOSS:0.9297 ACC:0.94 F1:0.64 REC:0.65 PRE:0.64:  43%|████████████▍                | 6/14 [00:00<00:00, 16.50it/s]2021-03-14 16:28:55,096 [NER_Module.model.backbone] [INFO] Device is set to cuda\n",
      "VALID LOSS:0.9204 ACC:0.94 F1:0.64 REC:0.65 PRE:0.64:  43%|████████████▍                | 6/14 [00:00<00:00, 16.50it/s]2021-03-14 16:28:55,147 [NER_Module.model.backbone] [INFO] Device is set to cuda\n",
      "VALID LOSS:0.9035 ACC:0.94 F1:0.63 REC:0.65 PRE:0.63:  57%|████████████████▌            | 8/14 [00:00<00:00, 15.05it/s]2021-03-14 16:28:55,255 [NER_Module.model.backbone] [INFO] Device is set to cuda\n",
      "VALID LOSS:0.8987 ACC:0.94 F1:0.64 REC:0.65 PRE:0.64:  57%|████████████████▌            | 8/14 [00:00<00:00, 15.05it/s]2021-03-14 16:28:55,330 [NER_Module.model.backbone] [INFO] Device is set to cuda\n",
      "VALID LOSS:0.8796 ACC:0.94 F1:0.64 REC:0.65 PRE:0.65:  71%|████████████████████        | 10/14 [00:00<00:00, 13.66it/s]2021-03-14 16:28:55,432 [NER_Module.model.backbone] [INFO] Device is set to cuda\n",
      "VALID LOSS:0.8863 ACC:0.94 F1:0.64 REC:0.64 PRE:0.66:  71%|████████████████████        | 10/14 [00:00<00:00, 13.66it/s]2021-03-14 16:28:55,510 [NER_Module.model.backbone] [INFO] Device is set to cuda\n",
      "VALID LOSS:0.8830 ACC:0.94 F1:0.63 REC:0.64 PRE:0.65:  86%|████████████████████████    | 12/14 [00:00<00:00, 12.83it/s]2021-03-14 16:28:55,611 [NER_Module.model.backbone] [INFO] Device is set to cuda\n",
      "VALID LOSS:0.8778 ACC:0.94 F1:0.64 REC:0.65 PRE:0.64:  86%|████████████████████████    | 12/14 [00:01<00:00, 12.83it/s]2021-03-14 16:28:55,737 [NER_Module.model.backbone] [INFO] Device is set to cuda\n",
      "VALID LOSS:1.0290 ACC:0.94 F1:0.63 REC:0.64 PRE:0.64: 100%|████████████████████████████| 14/14 [00:01<00:00,  8.23it/s]\n",
      "  0%|                                                                                          | 0/105 [00:00<?, ?it/s]2021-03-14 16:29:39,722 [NER_Module.model.backbone] [INFO] Device is set to cuda\n",
      "(Epoch 3) TRAIN LOSS:0.8797 LR:0.00002000:   1%|▎                                    | 1/105 [00:41<1:11:22, 41.18s/it]2021-03-14 16:29:40,077 [NER_Module.model.backbone] [INFO] Device is set to cuda\n",
      "(Epoch 3) TRAIN LOSS:0.8961 LR:0.00002000:   2%|▋                                      | 2/105 [00:41<49:32, 28.86s/it]2021-03-14 16:29:40,212 [NER_Module.model.backbone] [INFO] Device is set to cuda\n",
      "(Epoch 3) TRAIN LOSS:0.8865 LR:0.00002000:   3%|█                                      | 3/105 [00:41<34:27, 20.27s/it]2021-03-14 16:29:40,442 [NER_Module.model.backbone] [INFO] Device is set to cuda\n",
      "(Epoch 3) TRAIN LOSS:0.8737 LR:0.00002000:   4%|█▍                                     | 4/105 [00:41<23:59, 14.25s/it]2021-03-14 16:29:40,653 [NER_Module.model.backbone] [INFO] Device is set to cuda\n",
      "(Epoch 3) TRAIN LOSS:0.8722 LR:0.00002000:   5%|█▊                                     | 5/105 [00:41<16:42, 10.02s/it]2021-03-14 16:29:40,798 [NER_Module.model.backbone] [INFO] Device is set to cuda\n",
      "(Epoch 3) TRAIN LOSS:0.8723 LR:0.00002000:   6%|██▏                                    | 6/105 [00:42<11:39,  7.06s/it]2021-03-14 16:29:40,958 [NER_Module.model.backbone] [INFO] Device is set to cuda\n",
      "(Epoch 3) TRAIN LOSS:0.8741 LR:0.00002000:   7%|██▌                                    | 7/105 [00:42<08:10,  5.00s/it]2021-03-14 16:29:41,154 [NER_Module.model.backbone] [INFO] Device is set to cuda\n",
      "(Epoch 3) TRAIN LOSS:0.8747 LR:0.00002000:   8%|██▉                                    | 8/105 [00:42<05:44,  3.55s/it]2021-03-14 16:29:41,302 [NER_Module.model.backbone] [INFO] Device is set to cuda\n",
      "(Epoch 3) TRAIN LOSS:0.8671 LR:0.00002000:   9%|███▎                                   | 9/105 [00:42<04:04,  2.54s/it]2021-03-14 16:29:41,502 [NER_Module.model.backbone] [INFO] Device is set to cuda\n",
      "(Epoch 3) TRAIN LOSS:0.8736 LR:0.00002000:  10%|███▌                                  | 10/105 [00:42<02:58,  1.88s/it]2021-03-14 16:29:41,833 [NER_Module.model.backbone] [INFO] Device is set to cuda\n",
      "(Epoch 3) TRAIN LOSS:0.8636 LR:0.00002000:  10%|███▉                                  | 11/105 [00:43<02:08,  1.37s/it]2021-03-14 16:29:42,020 [NER_Module.model.backbone] [INFO] Device is set to cuda\n",
      "(Epoch 3) TRAIN LOSS:0.8665 LR:0.00002000:  11%|████▎                                 | 12/105 [00:43<01:34,  1.01s/it]2021-03-14 16:29:42,193 [NER_Module.model.backbone] [INFO] Device is set to cuda\n",
      "(Epoch 3) TRAIN LOSS:0.8707 LR:0.00002000:  12%|████▋                                 | 13/105 [00:43<01:08,  1.34it/s]2021-03-14 16:29:42,315 [NER_Module.model.backbone] [INFO] Device is set to cuda\n",
      "(Epoch 3) TRAIN LOSS:0.8726 LR:0.00002000:  13%|█████                                 | 14/105 [00:43<00:51,  1.76it/s]2021-03-14 16:29:42,471 [NER_Module.model.backbone] [INFO] Device is set to cuda\n",
      "(Epoch 3) TRAIN LOSS:0.8675 LR:0.00002000:  14%|█████▍                                | 15/105 [00:43<00:42,  2.13it/s]2021-03-14 16:29:42,708 [NER_Module.model.backbone] [INFO] Device is set to cuda\n",
      "(Epoch 3) TRAIN LOSS:0.8699 LR:0.00002000:  15%|█████▊                                | 16/105 [00:43<00:33,  2.70it/s]2021-03-14 16:29:42,850 [NER_Module.model.backbone] [INFO] Device is set to cuda\n",
      "(Epoch 3) TRAIN LOSS:0.8626 LR:0.00002000:  16%|██████▏                               | 17/105 [00:44<00:29,  3.00it/s]2021-03-14 16:29:43,094 [NER_Module.model.backbone] [INFO] Device is set to cuda\n",
      "(Epoch 3) TRAIN LOSS:0.8643 LR:0.00002000:  17%|██████▌                               | 18/105 [00:44<00:25,  3.38it/s]2021-03-14 16:29:43,304 [NER_Module.model.backbone] [INFO] Device is set to cuda\n",
      "(Epoch 3) TRAIN LOSS:0.8605 LR:0.00002000:  18%|██████▉                               | 19/105 [00:44<00:23,  3.65it/s]2021-03-14 16:29:43,527 [NER_Module.model.backbone] [INFO] Device is set to cuda\n",
      "(Epoch 3) TRAIN LOSS:0.8605 LR:0.00002000:  19%|███████▏                              | 20/105 [00:44<00:21,  4.03it/s]2021-03-14 16:29:43,714 [NER_Module.model.backbone] [INFO] Device is set to cuda\n",
      "(Epoch 3) TRAIN LOSS:0.8598 LR:0.00002000:  20%|███████▌                              | 21/105 [00:44<00:18,  4.51it/s]2021-03-14 16:29:43,874 [NER_Module.model.backbone] [INFO] Device is set to cuda\n",
      "(Epoch 3) TRAIN LOSS:0.8632 LR:0.00002000:  21%|███████▉                              | 22/105 [00:45<00:16,  5.13it/s]2021-03-14 16:29:44,007 [NER_Module.model.backbone] [INFO] Device is set to cuda\n",
      "(Epoch 3) TRAIN LOSS:0.8683 LR:0.00002000:  22%|████████▎                             | 23/105 [00:45<00:14,  5.79it/s]2021-03-14 16:29:44,128 [NER_Module.model.backbone] [INFO] Device is set to cuda\n",
      "(Epoch 3) TRAIN LOSS:0.8657 LR:0.00002000:  23%|████████▋                             | 24/105 [00:45<00:15,  5.31it/s]2021-03-14 16:29:44,353 [NER_Module.model.backbone] [INFO] Device is set to cuda\n",
      "(Epoch 3) TRAIN LOSS:0.8658 LR:0.00002000:  24%|█████████                             | 25/105 [00:45<00:14,  5.35it/s]2021-03-14 16:29:44,538 [NER_Module.model.backbone] [INFO] Device is set to cuda\n"
     ]
    },
    {
     "name": "stderr",
     "output_type": "stream",
     "text": [
      "(Epoch 3) TRAIN LOSS:0.8593 LR:0.00002000:  25%|█████████▍                            | 26/105 [00:45<00:15,  5.05it/s]2021-03-14 16:29:44,760 [NER_Module.model.backbone] [INFO] Device is set to cuda\n",
      "(Epoch 3) TRAIN LOSS:0.8601 LR:0.00002000:  26%|█████████▊                            | 27/105 [00:46<00:14,  5.41it/s]2021-03-14 16:29:44,915 [NER_Module.model.backbone] [INFO] Device is set to cuda\n",
      "(Epoch 3) TRAIN LOSS:0.8594 LR:0.00002000:  27%|██████████▏                           | 28/105 [00:46<00:14,  5.40it/s]2021-03-14 16:29:45,100 [NER_Module.model.backbone] [INFO] Device is set to cuda\n",
      "(Epoch 3) TRAIN LOSS:0.8582 LR:0.00002000:  28%|██████████▍                           | 29/105 [00:46<00:13,  5.66it/s]2021-03-14 16:29:45,258 [NER_Module.model.backbone] [INFO] Device is set to cuda\n",
      "(Epoch 3) TRAIN LOSS:0.8560 LR:0.00002000:  29%|██████████▊                           | 30/105 [00:46<00:15,  4.86it/s]2021-03-14 16:29:45,531 [NER_Module.model.backbone] [INFO] Device is set to cuda\n",
      "(Epoch 3) TRAIN LOSS:0.8539 LR:0.00002000:  30%|███████████▏                          | 31/105 [00:46<00:15,  4.65it/s]2021-03-14 16:29:45,768 [NER_Module.model.backbone] [INFO] Device is set to cuda\n",
      "(Epoch 3) TRAIN LOSS:0.8533 LR:0.00002000:  30%|███████████▌                          | 32/105 [00:47<00:15,  4.87it/s]2021-03-14 16:29:45,951 [NER_Module.model.backbone] [INFO] Device is set to cuda\n",
      "(Epoch 3) TRAIN LOSS:0.8526 LR:0.00002000:  31%|███████████▉                          | 33/105 [00:47<00:14,  4.83it/s]2021-03-14 16:29:46,161 [NER_Module.model.backbone] [INFO] Device is set to cuda\n",
      "(Epoch 3) TRAIN LOSS:0.8502 LR:0.00002000:  32%|████████████▎                         | 34/105 [00:47<00:16,  4.43it/s]2021-03-14 16:29:46,431 [NER_Module.model.backbone] [INFO] Device is set to cuda\n",
      "(Epoch 3) TRAIN LOSS:0.8543 LR:0.00002000:  33%|████████████▋                         | 35/105 [00:47<00:14,  4.94it/s]2021-03-14 16:29:46,579 [NER_Module.model.backbone] [INFO] Device is set to cuda\n",
      "(Epoch 3) TRAIN LOSS:0.8511 LR:0.00002000:  34%|█████████████                         | 36/105 [00:47<00:14,  4.71it/s]2021-03-14 16:29:46,814 [NER_Module.model.backbone] [INFO] Device is set to cuda\n",
      "(Epoch 3) TRAIN LOSS:0.8491 LR:0.00002000:  35%|█████████████▍                        | 37/105 [00:48<00:14,  4.61it/s]2021-03-14 16:29:47,042 [NER_Module.model.backbone] [INFO] Device is set to cuda\n",
      "(Epoch 3) TRAIN LOSS:0.8473 LR:0.00002000:  36%|█████████████▊                        | 38/105 [00:48<00:14,  4.48it/s]2021-03-14 16:29:47,281 [NER_Module.model.backbone] [INFO] Device is set to cuda\n",
      "(Epoch 3) TRAIN LOSS:0.8461 LR:0.00002000:  37%|██████████████                        | 39/105 [00:48<00:16,  4.12it/s]2021-03-14 16:29:47,568 [NER_Module.model.backbone] [INFO] Device is set to cuda\n",
      "(Epoch 3) TRAIN LOSS:0.8473 LR:0.00002000:  38%|██████████████▍                       | 40/105 [00:48<00:13,  4.86it/s]2021-03-14 16:29:47,688 [NER_Module.model.backbone] [INFO] Device is set to cuda\n",
      "(Epoch 3) TRAIN LOSS:0.8488 LR:0.00002000:  39%|██████████████▊                       | 41/105 [00:48<00:12,  5.31it/s]2021-03-14 16:29:47,836 [NER_Module.model.backbone] [INFO] Device is set to cuda\n",
      "(Epoch 3) TRAIN LOSS:0.8478 LR:0.00002000:  40%|███████████████▏                      | 42/105 [00:49<00:12,  5.17it/s]2021-03-14 16:29:48,041 [NER_Module.model.backbone] [INFO] Device is set to cuda\n",
      "(Epoch 3) TRAIN LOSS:0.8477 LR:0.00002000:  41%|███████████████▌                      | 43/105 [00:49<00:11,  5.35it/s]2021-03-14 16:29:48,213 [NER_Module.model.backbone] [INFO] Device is set to cuda\n",
      "(Epoch 3) TRAIN LOSS:0.8465 LR:0.00002000:  42%|███████████████▉                      | 44/105 [00:49<00:11,  5.20it/s]2021-03-14 16:29:48,418 [NER_Module.model.backbone] [INFO] Device is set to cuda\n",
      "(Epoch 3) TRAIN LOSS:0.8418 LR:0.00002000:  43%|████████████████▎                     | 45/105 [00:49<00:16,  3.66it/s]2021-03-14 16:29:48,879 [NER_Module.model.backbone] [INFO] Device is set to cuda\n",
      "(Epoch 3) TRAIN LOSS:0.8452 LR:0.00002000:  44%|████████████████▋                     | 46/105 [00:50<00:13,  4.33it/s]2021-03-14 16:29:49,011 [NER_Module.model.backbone] [INFO] Device is set to cuda\n",
      "(Epoch 3) TRAIN LOSS:0.8447 LR:0.00002000:  45%|█████████████████                     | 47/105 [00:50<00:12,  4.76it/s]2021-03-14 16:29:49,173 [NER_Module.model.backbone] [INFO] Device is set to cuda\n",
      "(Epoch 3) TRAIN LOSS:0.8408 LR:0.00002000:  46%|█████████████████▎                    | 48/105 [00:50<00:12,  4.58it/s]2021-03-14 16:29:49,411 [NER_Module.model.backbone] [INFO] Device is set to cuda\n",
      "(Epoch 3) TRAIN LOSS:0.8388 LR:0.00002000:  47%|█████████████████▋                    | 49/105 [00:50<00:12,  4.54it/s]2021-03-14 16:29:49,635 [NER_Module.model.backbone] [INFO] Device is set to cuda\n",
      "(Epoch 3) TRAIN LOSS:0.8366 LR:0.00002000:  48%|██████████████████                    | 50/105 [00:50<00:11,  4.60it/s]2021-03-14 16:29:49,846 [NER_Module.model.backbone] [INFO] Device is set to cuda\n",
      "(Epoch 3) TRAIN LOSS:0.8367 LR:0.00002000:  49%|██████████████████▍                   | 51/105 [00:51<00:11,  4.86it/s]2021-03-14 16:29:50,024 [NER_Module.model.backbone] [INFO] Device is set to cuda\n",
      "(Epoch 3) TRAIN LOSS:0.8355 LR:0.00002000:  50%|██████████████████▊                   | 52/105 [00:51<00:11,  4.64it/s]2021-03-14 16:29:50,263 [NER_Module.model.backbone] [INFO] Device is set to cuda\n",
      "(Epoch 3) TRAIN LOSS:0.8366 LR:0.00002000:  50%|███████████████████▏                  | 53/105 [00:51<00:10,  5.07it/s]2021-03-14 16:29:50,417 [NER_Module.model.backbone] [INFO] Device is set to cuda\n",
      "(Epoch 3) TRAIN LOSS:0.8379 LR:0.00002000:  51%|███████████████████▌                  | 54/105 [00:51<00:10,  5.05it/s]2021-03-14 16:29:50,617 [NER_Module.model.backbone] [INFO] Device is set to cuda\n",
      "(Epoch 3) TRAIN LOSS:0.8366 LR:0.00002000:  52%|███████████████████▉                  | 55/105 [00:51<00:09,  5.06it/s]2021-03-14 16:29:50,812 [NER_Module.model.backbone] [INFO] Device is set to cuda\n",
      "(Epoch 3) TRAIN LOSS:0.8380 LR:0.00002000:  53%|████████████████████▎                 | 56/105 [00:52<00:08,  5.48it/s]2021-03-14 16:29:50,960 [NER_Module.model.backbone] [INFO] Device is set to cuda\n",
      "(Epoch 3) TRAIN LOSS:0.8385 LR:0.00002000:  54%|████████████████████▋                 | 57/105 [00:52<00:08,  5.56it/s]2021-03-14 16:29:51,135 [NER_Module.model.backbone] [INFO] Device is set to cuda\n",
      "(Epoch 3) TRAIN LOSS:0.8401 LR:0.00002000:  55%|████████████████████▉                 | 58/105 [00:52<00:08,  5.58it/s]2021-03-14 16:29:51,312 [NER_Module.model.backbone] [INFO] Device is set to cuda\n",
      "(Epoch 3) TRAIN LOSS:0.8381 LR:0.00002000:  56%|█████████████████████▎                | 59/105 [00:52<00:08,  5.32it/s]2021-03-14 16:29:51,521 [NER_Module.model.backbone] [INFO] Device is set to cuda\n",
      "(Epoch 3) TRAIN LOSS:0.8368 LR:0.00002000:  57%|█████████████████████▋                | 60/105 [00:52<00:08,  5.33it/s]2021-03-14 16:29:51,708 [NER_Module.model.backbone] [INFO] Device is set to cuda\n",
      "(Epoch 3) TRAIN LOSS:0.8352 LR:0.00002000:  58%|██████████████████████                | 61/105 [00:53<00:10,  4.31it/s]2021-03-14 16:29:52,043 [NER_Module.model.backbone] [INFO] Device is set to cuda\n",
      "(Epoch 3) TRAIN LOSS:0.8356 LR:0.00002000:  59%|██████████████████████▍               | 62/105 [00:53<00:09,  4.49it/s]2021-03-14 16:29:52,244 [NER_Module.model.backbone] [INFO] Device is set to cuda\n",
      "(Epoch 3) TRAIN LOSS:0.8365 LR:0.00002000:  60%|██████████████████████▊               | 63/105 [00:53<00:08,  5.00it/s]2021-03-14 16:29:52,391 [NER_Module.model.backbone] [INFO] Device is set to cuda\n",
      "(Epoch 3) TRAIN LOSS:0.8357 LR:0.00002000:  61%|███████████████████████▏              | 64/105 [00:53<00:07,  5.18it/s]2021-03-14 16:29:52,567 [NER_Module.model.backbone] [INFO] Device is set to cuda\n",
      "(Epoch 3) TRAIN LOSS:0.8349 LR:0.00002000:  62%|███████████████████████▌              | 65/105 [00:53<00:08,  4.99it/s]2021-03-14 16:29:52,785 [NER_Module.model.backbone] [INFO] Device is set to cuda\n",
      "(Epoch 3) TRAIN LOSS:0.8341 LR:0.00002000:  63%|███████████████████████▉              | 66/105 [00:54<00:08,  4.83it/s]2021-03-14 16:29:53,007 [NER_Module.model.backbone] [INFO] Device is set to cuda\n"
     ]
    },
    {
     "name": "stderr",
     "output_type": "stream",
     "text": [
      "(Epoch 3) TRAIN LOSS:0.8346 LR:0.00002000:  64%|████████████████████████▏             | 67/105 [00:54<00:07,  5.29it/s]2021-03-14 16:29:53,154 [NER_Module.model.backbone] [INFO] Device is set to cuda\n",
      "(Epoch 3) TRAIN LOSS:0.8340 LR:0.00002000:  65%|████████████████████████▌             | 68/105 [00:54<00:06,  5.33it/s]2021-03-14 16:29:53,339 [NER_Module.model.backbone] [INFO] Device is set to cuda\n",
      "(Epoch 3) TRAIN LOSS:0.8346 LR:0.00002000:  66%|████████████████████████▉             | 69/105 [00:54<00:06,  5.33it/s]2021-03-14 16:29:53,526 [NER_Module.model.backbone] [INFO] Device is set to cuda\n",
      "(Epoch 3) TRAIN LOSS:0.8327 LR:0.00002000:  67%|█████████████████████████▎            | 70/105 [00:54<00:07,  4.70it/s]2021-03-14 16:29:53,798 [NER_Module.model.backbone] [INFO] Device is set to cuda\n",
      "(Epoch 3) TRAIN LOSS:0.8304 LR:0.00002000:  68%|█████████████████████████▋            | 71/105 [00:55<00:07,  4.47it/s]2021-03-14 16:29:54,046 [NER_Module.model.backbone] [INFO] Device is set to cuda\n",
      "(Epoch 3) TRAIN LOSS:0.8294 LR:0.00002000:  69%|██████████████████████████            | 72/105 [00:55<00:07,  4.51it/s]2021-03-14 16:29:54,264 [NER_Module.model.backbone] [INFO] Device is set to cuda\n",
      "(Epoch 3) TRAIN LOSS:0.8288 LR:0.00002000:  70%|██████████████████████████▍           | 73/105 [00:55<00:06,  4.84it/s]2021-03-14 16:29:54,436 [NER_Module.model.backbone] [INFO] Device is set to cuda\n",
      "(Epoch 3) TRAIN LOSS:0.8266 LR:0.00002000:  70%|██████████████████████████▊           | 74/105 [00:55<00:08,  3.55it/s]2021-03-14 16:29:54,892 [NER_Module.model.backbone] [INFO] Device is set to cuda\n",
      "(Epoch 3) TRAIN LOSS:0.8263 LR:0.00002000:  71%|███████████████████████████▏          | 75/105 [00:56<00:07,  4.10it/s]2021-03-14 16:29:55,048 [NER_Module.model.backbone] [INFO] Device is set to cuda\n",
      "(Epoch 3) TRAIN LOSS:0.8248 LR:0.00002000:  72%|███████████████████████████▌          | 76/105 [00:56<00:06,  4.28it/s]2021-03-14 16:29:55,258 [NER_Module.model.backbone] [INFO] Device is set to cuda\n",
      "(Epoch 3) TRAIN LOSS:0.8248 LR:0.00002000:  73%|███████████████████████████▊          | 77/105 [00:56<00:05,  4.76it/s]2021-03-14 16:29:55,413 [NER_Module.model.backbone] [INFO] Device is set to cuda\n",
      "(Epoch 3) TRAIN LOSS:0.8248 LR:0.00002000:  74%|████████████████████████████▏         | 78/105 [00:56<00:05,  5.10it/s]2021-03-14 16:29:55,576 [NER_Module.model.backbone] [INFO] Device is set to cuda\n",
      "(Epoch 3) TRAIN LOSS:0.8239 LR:0.00002000:  75%|████████████████████████████▌         | 79/105 [00:56<00:05,  5.02it/s]2021-03-14 16:29:55,784 [NER_Module.model.backbone] [INFO] Device is set to cuda\n",
      "(Epoch 3) TRAIN LOSS:0.8242 LR:0.00002000:  76%|████████████████████████████▉         | 80/105 [00:57<00:04,  5.21it/s]2021-03-14 16:29:55,957 [NER_Module.model.backbone] [INFO] Device is set to cuda\n",
      "(Epoch 3) TRAIN LOSS:0.8261 LR:0.00002000:  77%|█████████████████████████████▎        | 81/105 [00:57<00:04,  5.35it/s]2021-03-14 16:29:56,132 [NER_Module.model.backbone] [INFO] Device is set to cuda\n",
      "(Epoch 3) TRAIN LOSS:0.8251 LR:0.00002000:  78%|█████████████████████████████▋        | 82/105 [00:57<00:04,  5.20it/s]2021-03-14 16:29:56,339 [NER_Module.model.backbone] [INFO] Device is set to cuda\n",
      "(Epoch 3) TRAIN LOSS:0.8244 LR:0.00002000:  79%|██████████████████████████████        | 83/105 [00:57<00:04,  5.31it/s]2021-03-14 16:29:56,517 [NER_Module.model.backbone] [INFO] Device is set to cuda\n",
      "(Epoch 3) TRAIN LOSS:0.8240 LR:0.00002000:  80%|██████████████████████████████▍       | 84/105 [00:57<00:03,  5.66it/s]2021-03-14 16:29:56,666 [NER_Module.model.backbone] [INFO] Device is set to cuda\n",
      "(Epoch 3) TRAIN LOSS:0.8232 LR:0.00002000:  81%|██████████████████████████████▊       | 85/105 [00:57<00:03,  5.69it/s]2021-03-14 16:29:56,839 [NER_Module.model.backbone] [INFO] Device is set to cuda\n",
      "(Epoch 3) TRAIN LOSS:0.8229 LR:0.00002000:  82%|███████████████████████████████       | 86/105 [00:58<00:03,  5.40it/s]2021-03-14 16:29:57,047 [NER_Module.model.backbone] [INFO] Device is set to cuda\n",
      "(Epoch 3) TRAIN LOSS:0.8225 LR:0.00002000:  83%|███████████████████████████████▍      | 87/105 [00:58<00:03,  5.36it/s]2021-03-14 16:29:57,236 [NER_Module.model.backbone] [INFO] Device is set to cuda\n",
      "(Epoch 3) TRAIN LOSS:0.8211 LR:0.00002000:  84%|███████████████████████████████▊      | 88/105 [00:58<00:03,  5.11it/s]2021-03-14 16:29:57,454 [NER_Module.model.backbone] [INFO] Device is set to cuda\n",
      "(Epoch 3) TRAIN LOSS:0.8206 LR:0.00002000:  85%|████████████████████████████████▏     | 89/105 [00:58<00:03,  5.07it/s]2021-03-14 16:29:57,656 [NER_Module.model.backbone] [INFO] Device is set to cuda\n",
      "(Epoch 3) TRAIN LOSS:0.8207 LR:0.00002000:  86%|████████████████████████████████▌     | 90/105 [00:58<00:02,  5.25it/s]2021-03-14 16:29:57,830 [NER_Module.model.backbone] [INFO] Device is set to cuda\n",
      "(Epoch 3) TRAIN LOSS:0.8213 LR:0.00002000:  87%|████████████████████████████████▉     | 91/105 [00:59<00:02,  5.54it/s]2021-03-14 16:29:57,987 [NER_Module.model.backbone] [INFO] Device is set to cuda\n",
      "(Epoch 3) TRAIN LOSS:0.8212 LR:0.00002000:  88%|█████████████████████████████████▎    | 92/105 [00:59<00:02,  5.55it/s]2021-03-14 16:29:58,166 [NER_Module.model.backbone] [INFO] Device is set to cuda\n",
      "(Epoch 3) TRAIN LOSS:0.8200 LR:0.00002000:  89%|█████████████████████████████████▋    | 93/105 [00:59<00:02,  5.03it/s]2021-03-14 16:29:58,410 [NER_Module.model.backbone] [INFO] Device is set to cuda\n",
      "(Epoch 3) TRAIN LOSS:0.8198 LR:0.00002000:  90%|██████████████████████████████████    | 94/105 [00:59<00:02,  5.14it/s]2021-03-14 16:29:58,593 [NER_Module.model.backbone] [INFO] Device is set to cuda\n",
      "(Epoch 3) TRAIN LOSS:0.8178 LR:0.00002000:  90%|██████████████████████████████████▍   | 95/105 [00:59<00:02,  4.61it/s]2021-03-14 16:29:58,863 [NER_Module.model.backbone] [INFO] Device is set to cuda\n",
      "(Epoch 3) TRAIN LOSS:0.8189 LR:0.00002000:  91%|██████████████████████████████████▋   | 96/105 [01:00<00:02,  3.62it/s]2021-03-14 16:29:59,275 [NER_Module.model.backbone] [INFO] Device is set to cuda\n",
      "(Epoch 3) TRAIN LOSS:0.8176 LR:0.00002000:  92%|███████████████████████████████████   | 97/105 [01:00<00:02,  3.72it/s]2021-03-14 16:29:59,529 [NER_Module.model.backbone] [INFO] Device is set to cuda\n",
      "(Epoch 3) TRAIN LOSS:0.8187 LR:0.00002000:  93%|███████████████████████████████████▍  | 98/105 [01:00<00:01,  4.10it/s]2021-03-14 16:29:59,715 [NER_Module.model.backbone] [INFO] Device is set to cuda\n",
      "(Epoch 3) TRAIN LOSS:0.8182 LR:0.00002000:  94%|███████████████████████████████████▊  | 99/105 [01:01<00:01,  4.25it/s]2021-03-14 16:29:59,930 [NER_Module.model.backbone] [INFO] Device is set to cuda\n",
      "(Epoch 3) TRAIN LOSS:0.8174 LR:0.00002000:  95%|███████████████████████████████████▏ | 100/105 [01:01<00:01,  4.52it/s]2021-03-14 16:30:00,117 [NER_Module.model.backbone] [INFO] Device is set to cuda\n",
      "(Epoch 3) TRAIN LOSS:0.8170 LR:0.00002000:  96%|███████████████████████████████████▌ | 101/105 [01:01<00:00,  4.94it/s]2021-03-14 16:30:00,277 [NER_Module.model.backbone] [INFO] Device is set to cuda\n",
      "(Epoch 3) TRAIN LOSS:0.8170 LR:0.00002000:  97%|███████████████████████████████████▉ | 102/105 [01:01<00:00,  5.12it/s]2021-03-14 16:30:00,456 [NER_Module.model.backbone] [INFO] Device is set to cuda\n",
      "(Epoch 3) TRAIN LOSS:0.8162 LR:0.00002000:  98%|████████████████████████████████████▎| 103/105 [01:01<00:00,  5.25it/s]2021-03-14 16:30:00,634 [NER_Module.model.backbone] [INFO] Device is set to cuda\n",
      "(Epoch 3) TRAIN LOSS:0.8154 LR:0.00002000:  99%|████████████████████████████████████▋| 104/105 [01:01<00:00,  5.38it/s]2021-03-14 16:30:00,810 [NER_Module.model.backbone] [INFO] Device is set to cuda\n",
      "(Epoch 3) TRAIN LOSS:0.8110 LR:0.00002000: 100%|█████████████████████████████████████| 105/105 [01:02<00:00,  1.68it/s]\n",
      "  0%|                                                                                          | 0/105 [00:00<?, ?it/s]"
     ]
    },
    {
     "name": "stdout",
     "output_type": "stream",
     "text": [
      "(Epoch 3) TRAIN LOSS:0.8110 ACC:0.95 F1:0.68 REC:0.70 PRE:0.67 LR:0.00002000\n"
     ]
    },
    {
     "name": "stderr",
     "output_type": "stream",
     "text": [
      "  0%|                                                                                          | 0/105 [00:29<?, ?it/s]\n"
     ]
    },
    {
     "ename": "KeyboardInterrupt",
     "evalue": "",
     "output_type": "error",
     "traceback": [
      "\u001b[1;31m---------------------------------------------------------------------------\u001b[0m",
      "\u001b[1;31mKeyboardInterrupt\u001b[0m                         Traceback (most recent call last)",
      "\u001b[1;32m<ipython-input-23-c9a750f11bc0>\u001b[0m in \u001b[0;36m<module>\u001b[1;34m\u001b[0m\n\u001b[0;32m     10\u001b[0m \u001b[1;33m\u001b[0m\u001b[0m\n\u001b[0;32m     11\u001b[0m     \u001b[0mtrain_pbar\u001b[0m \u001b[1;33m=\u001b[0m \u001b[0mtqdm\u001b[0m\u001b[1;33m(\u001b[0m\u001b[0mtrain_loader\u001b[0m\u001b[1;33m,\u001b[0m \u001b[0mleave\u001b[0m\u001b[1;33m=\u001b[0m\u001b[1;32mTrue\u001b[0m\u001b[1;33m,\u001b[0m \u001b[0mtotal\u001b[0m\u001b[1;33m=\u001b[0m\u001b[0mlen\u001b[0m\u001b[1;33m(\u001b[0m\u001b[0mtrain_loader\u001b[0m\u001b[1;33m)\u001b[0m\u001b[1;33m)\u001b[0m\u001b[1;33m\u001b[0m\u001b[1;33m\u001b[0m\u001b[0m\n\u001b[1;32m---> 12\u001b[1;33m     \u001b[1;32mfor\u001b[0m \u001b[0mi\u001b[0m\u001b[1;33m,\u001b[0m \u001b[0mbatch_data\u001b[0m \u001b[1;32min\u001b[0m \u001b[0menumerate\u001b[0m\u001b[1;33m(\u001b[0m\u001b[0mtrain_pbar\u001b[0m\u001b[1;33m)\u001b[0m\u001b[1;33m:\u001b[0m\u001b[1;33m\u001b[0m\u001b[1;33m\u001b[0m\u001b[0m\n\u001b[0m\u001b[0;32m     13\u001b[0m         \u001b[1;31m# Forward model\u001b[0m\u001b[1;33m\u001b[0m\u001b[1;33m\u001b[0m\u001b[1;33m\u001b[0m\u001b[0m\n\u001b[0;32m     14\u001b[0m         \u001b[0mloss\u001b[0m\u001b[1;33m,\u001b[0m \u001b[0mbatch_hyp\u001b[0m\u001b[1;33m,\u001b[0m \u001b[0mbatch_label\u001b[0m \u001b[1;33m=\u001b[0m \u001b[0mforward_word_classification\u001b[0m\u001b[1;33m(\u001b[0m\u001b[0mmodel\u001b[0m\u001b[1;33m,\u001b[0m \u001b[0mbatch_data\u001b[0m\u001b[1;33m[\u001b[0m\u001b[1;33m:\u001b[0m\u001b[1;33m-\u001b[0m\u001b[1;36m1\u001b[0m\u001b[1;33m]\u001b[0m\u001b[1;33m,\u001b[0m \u001b[0mi2w\u001b[0m\u001b[1;33m=\u001b[0m\u001b[0mi2w\u001b[0m\u001b[1;33m,\u001b[0m \u001b[0mdevice\u001b[0m\u001b[1;33m=\u001b[0m\u001b[1;34m'cuda'\u001b[0m\u001b[1;33m)\u001b[0m\u001b[1;33m\u001b[0m\u001b[1;33m\u001b[0m\u001b[0m\n",
      "\u001b[1;32mF:\\anaconda\\envs\\shopee\\lib\\site-packages\\tqdm\\std.py\u001b[0m in \u001b[0;36m__iter__\u001b[1;34m(self)\u001b[0m\n\u001b[0;32m   1163\u001b[0m \u001b[1;33m\u001b[0m\u001b[0m\n\u001b[0;32m   1164\u001b[0m         \u001b[1;32mtry\u001b[0m\u001b[1;33m:\u001b[0m\u001b[1;33m\u001b[0m\u001b[1;33m\u001b[0m\u001b[0m\n\u001b[1;32m-> 1165\u001b[1;33m             \u001b[1;32mfor\u001b[0m \u001b[0mobj\u001b[0m \u001b[1;32min\u001b[0m \u001b[0miterable\u001b[0m\u001b[1;33m:\u001b[0m\u001b[1;33m\u001b[0m\u001b[1;33m\u001b[0m\u001b[0m\n\u001b[0m\u001b[0;32m   1166\u001b[0m                 \u001b[1;32myield\u001b[0m \u001b[0mobj\u001b[0m\u001b[1;33m\u001b[0m\u001b[1;33m\u001b[0m\u001b[0m\n\u001b[0;32m   1167\u001b[0m                 \u001b[1;31m# Update and possibly print the progressbar.\u001b[0m\u001b[1;33m\u001b[0m\u001b[1;33m\u001b[0m\u001b[1;33m\u001b[0m\u001b[0m\n",
      "\u001b[1;32mF:\\anaconda\\envs\\shopee\\lib\\site-packages\\torch\\utils\\data\\dataloader.py\u001b[0m in \u001b[0;36m__iter__\u001b[1;34m(self)\u001b[0m\n\u001b[0;32m    350\u001b[0m             \u001b[1;32mreturn\u001b[0m \u001b[0mself\u001b[0m\u001b[1;33m.\u001b[0m\u001b[0m_iterator\u001b[0m\u001b[1;33m\u001b[0m\u001b[1;33m\u001b[0m\u001b[0m\n\u001b[0;32m    351\u001b[0m         \u001b[1;32melse\u001b[0m\u001b[1;33m:\u001b[0m\u001b[1;33m\u001b[0m\u001b[1;33m\u001b[0m\u001b[0m\n\u001b[1;32m--> 352\u001b[1;33m             \u001b[1;32mreturn\u001b[0m \u001b[0mself\u001b[0m\u001b[1;33m.\u001b[0m\u001b[0m_get_iterator\u001b[0m\u001b[1;33m(\u001b[0m\u001b[1;33m)\u001b[0m\u001b[1;33m\u001b[0m\u001b[1;33m\u001b[0m\u001b[0m\n\u001b[0m\u001b[0;32m    353\u001b[0m \u001b[1;33m\u001b[0m\u001b[0m\n\u001b[0;32m    354\u001b[0m     \u001b[1;33m@\u001b[0m\u001b[0mproperty\u001b[0m\u001b[1;33m\u001b[0m\u001b[1;33m\u001b[0m\u001b[0m\n",
      "\u001b[1;32mF:\\anaconda\\envs\\shopee\\lib\\site-packages\\torch\\utils\\data\\dataloader.py\u001b[0m in \u001b[0;36m_get_iterator\u001b[1;34m(self)\u001b[0m\n\u001b[0;32m    292\u001b[0m             \u001b[1;32mreturn\u001b[0m \u001b[0m_SingleProcessDataLoaderIter\u001b[0m\u001b[1;33m(\u001b[0m\u001b[0mself\u001b[0m\u001b[1;33m)\u001b[0m\u001b[1;33m\u001b[0m\u001b[1;33m\u001b[0m\u001b[0m\n\u001b[0;32m    293\u001b[0m         \u001b[1;32melse\u001b[0m\u001b[1;33m:\u001b[0m\u001b[1;33m\u001b[0m\u001b[1;33m\u001b[0m\u001b[0m\n\u001b[1;32m--> 294\u001b[1;33m             \u001b[1;32mreturn\u001b[0m \u001b[0m_MultiProcessingDataLoaderIter\u001b[0m\u001b[1;33m(\u001b[0m\u001b[0mself\u001b[0m\u001b[1;33m)\u001b[0m\u001b[1;33m\u001b[0m\u001b[1;33m\u001b[0m\u001b[0m\n\u001b[0m\u001b[0;32m    295\u001b[0m \u001b[1;33m\u001b[0m\u001b[0m\n\u001b[0;32m    296\u001b[0m     \u001b[1;33m@\u001b[0m\u001b[0mproperty\u001b[0m\u001b[1;33m\u001b[0m\u001b[1;33m\u001b[0m\u001b[0m\n",
      "\u001b[1;32mF:\\anaconda\\envs\\shopee\\lib\\site-packages\\torch\\utils\\data\\dataloader.py\u001b[0m in \u001b[0;36m__init__\u001b[1;34m(self, loader)\u001b[0m\n\u001b[0;32m    799\u001b[0m             \u001b[1;31m#     before it starts, and __del__ tries to join but will get:\u001b[0m\u001b[1;33m\u001b[0m\u001b[1;33m\u001b[0m\u001b[1;33m\u001b[0m\u001b[0m\n\u001b[0;32m    800\u001b[0m             \u001b[1;31m#     AssertionError: can only join a started process.\u001b[0m\u001b[1;33m\u001b[0m\u001b[1;33m\u001b[0m\u001b[1;33m\u001b[0m\u001b[0m\n\u001b[1;32m--> 801\u001b[1;33m             \u001b[0mw\u001b[0m\u001b[1;33m.\u001b[0m\u001b[0mstart\u001b[0m\u001b[1;33m(\u001b[0m\u001b[1;33m)\u001b[0m\u001b[1;33m\u001b[0m\u001b[1;33m\u001b[0m\u001b[0m\n\u001b[0m\u001b[0;32m    802\u001b[0m             \u001b[0mself\u001b[0m\u001b[1;33m.\u001b[0m\u001b[0m_index_queues\u001b[0m\u001b[1;33m.\u001b[0m\u001b[0mappend\u001b[0m\u001b[1;33m(\u001b[0m\u001b[0mindex_queue\u001b[0m\u001b[1;33m)\u001b[0m\u001b[1;33m\u001b[0m\u001b[1;33m\u001b[0m\u001b[0m\n\u001b[0;32m    803\u001b[0m             \u001b[0mself\u001b[0m\u001b[1;33m.\u001b[0m\u001b[0m_workers\u001b[0m\u001b[1;33m.\u001b[0m\u001b[0mappend\u001b[0m\u001b[1;33m(\u001b[0m\u001b[0mw\u001b[0m\u001b[1;33m)\u001b[0m\u001b[1;33m\u001b[0m\u001b[1;33m\u001b[0m\u001b[0m\n",
      "\u001b[1;32mF:\\anaconda\\envs\\shopee\\lib\\multiprocessing\\process.py\u001b[0m in \u001b[0;36mstart\u001b[1;34m(self)\u001b[0m\n\u001b[0;32m    119\u001b[0m                \u001b[1;34m'daemonic processes are not allowed to have children'\u001b[0m\u001b[1;33m\u001b[0m\u001b[1;33m\u001b[0m\u001b[0m\n\u001b[0;32m    120\u001b[0m         \u001b[0m_cleanup\u001b[0m\u001b[1;33m(\u001b[0m\u001b[1;33m)\u001b[0m\u001b[1;33m\u001b[0m\u001b[1;33m\u001b[0m\u001b[0m\n\u001b[1;32m--> 121\u001b[1;33m         \u001b[0mself\u001b[0m\u001b[1;33m.\u001b[0m\u001b[0m_popen\u001b[0m \u001b[1;33m=\u001b[0m \u001b[0mself\u001b[0m\u001b[1;33m.\u001b[0m\u001b[0m_Popen\u001b[0m\u001b[1;33m(\u001b[0m\u001b[0mself\u001b[0m\u001b[1;33m)\u001b[0m\u001b[1;33m\u001b[0m\u001b[1;33m\u001b[0m\u001b[0m\n\u001b[0m\u001b[0;32m    122\u001b[0m         \u001b[0mself\u001b[0m\u001b[1;33m.\u001b[0m\u001b[0m_sentinel\u001b[0m \u001b[1;33m=\u001b[0m \u001b[0mself\u001b[0m\u001b[1;33m.\u001b[0m\u001b[0m_popen\u001b[0m\u001b[1;33m.\u001b[0m\u001b[0msentinel\u001b[0m\u001b[1;33m\u001b[0m\u001b[1;33m\u001b[0m\u001b[0m\n\u001b[0;32m    123\u001b[0m         \u001b[1;31m# Avoid a refcycle if the target function holds an indirect\u001b[0m\u001b[1;33m\u001b[0m\u001b[1;33m\u001b[0m\u001b[1;33m\u001b[0m\u001b[0m\n",
      "\u001b[1;32mF:\\anaconda\\envs\\shopee\\lib\\multiprocessing\\context.py\u001b[0m in \u001b[0;36m_Popen\u001b[1;34m(process_obj)\u001b[0m\n\u001b[0;32m    222\u001b[0m     \u001b[1;33m@\u001b[0m\u001b[0mstaticmethod\u001b[0m\u001b[1;33m\u001b[0m\u001b[1;33m\u001b[0m\u001b[0m\n\u001b[0;32m    223\u001b[0m     \u001b[1;32mdef\u001b[0m \u001b[0m_Popen\u001b[0m\u001b[1;33m(\u001b[0m\u001b[0mprocess_obj\u001b[0m\u001b[1;33m)\u001b[0m\u001b[1;33m:\u001b[0m\u001b[1;33m\u001b[0m\u001b[1;33m\u001b[0m\u001b[0m\n\u001b[1;32m--> 224\u001b[1;33m         \u001b[1;32mreturn\u001b[0m \u001b[0m_default_context\u001b[0m\u001b[1;33m.\u001b[0m\u001b[0mget_context\u001b[0m\u001b[1;33m(\u001b[0m\u001b[1;33m)\u001b[0m\u001b[1;33m.\u001b[0m\u001b[0mProcess\u001b[0m\u001b[1;33m.\u001b[0m\u001b[0m_Popen\u001b[0m\u001b[1;33m(\u001b[0m\u001b[0mprocess_obj\u001b[0m\u001b[1;33m)\u001b[0m\u001b[1;33m\u001b[0m\u001b[1;33m\u001b[0m\u001b[0m\n\u001b[0m\u001b[0;32m    225\u001b[0m \u001b[1;33m\u001b[0m\u001b[0m\n\u001b[0;32m    226\u001b[0m \u001b[1;32mclass\u001b[0m \u001b[0mDefaultContext\u001b[0m\u001b[1;33m(\u001b[0m\u001b[0mBaseContext\u001b[0m\u001b[1;33m)\u001b[0m\u001b[1;33m:\u001b[0m\u001b[1;33m\u001b[0m\u001b[1;33m\u001b[0m\u001b[0m\n",
      "\u001b[1;32mF:\\anaconda\\envs\\shopee\\lib\\multiprocessing\\context.py\u001b[0m in \u001b[0;36m_Popen\u001b[1;34m(process_obj)\u001b[0m\n\u001b[0;32m    325\u001b[0m         \u001b[1;32mdef\u001b[0m \u001b[0m_Popen\u001b[0m\u001b[1;33m(\u001b[0m\u001b[0mprocess_obj\u001b[0m\u001b[1;33m)\u001b[0m\u001b[1;33m:\u001b[0m\u001b[1;33m\u001b[0m\u001b[1;33m\u001b[0m\u001b[0m\n\u001b[0;32m    326\u001b[0m             \u001b[1;32mfrom\u001b[0m \u001b[1;33m.\u001b[0m\u001b[0mpopen_spawn_win32\u001b[0m \u001b[1;32mimport\u001b[0m \u001b[0mPopen\u001b[0m\u001b[1;33m\u001b[0m\u001b[1;33m\u001b[0m\u001b[0m\n\u001b[1;32m--> 327\u001b[1;33m             \u001b[1;32mreturn\u001b[0m \u001b[0mPopen\u001b[0m\u001b[1;33m(\u001b[0m\u001b[0mprocess_obj\u001b[0m\u001b[1;33m)\u001b[0m\u001b[1;33m\u001b[0m\u001b[1;33m\u001b[0m\u001b[0m\n\u001b[0m\u001b[0;32m    328\u001b[0m \u001b[1;33m\u001b[0m\u001b[0m\n\u001b[0;32m    329\u001b[0m     \u001b[1;32mclass\u001b[0m \u001b[0mSpawnContext\u001b[0m\u001b[1;33m(\u001b[0m\u001b[0mBaseContext\u001b[0m\u001b[1;33m)\u001b[0m\u001b[1;33m:\u001b[0m\u001b[1;33m\u001b[0m\u001b[1;33m\u001b[0m\u001b[0m\n",
      "\u001b[1;32mF:\\anaconda\\envs\\shopee\\lib\\multiprocessing\\popen_spawn_win32.py\u001b[0m in \u001b[0;36m__init__\u001b[1;34m(self, process_obj)\u001b[0m\n\u001b[0;32m     91\u001b[0m             \u001b[1;32mtry\u001b[0m\u001b[1;33m:\u001b[0m\u001b[1;33m\u001b[0m\u001b[1;33m\u001b[0m\u001b[0m\n\u001b[0;32m     92\u001b[0m                 \u001b[0mreduction\u001b[0m\u001b[1;33m.\u001b[0m\u001b[0mdump\u001b[0m\u001b[1;33m(\u001b[0m\u001b[0mprep_data\u001b[0m\u001b[1;33m,\u001b[0m \u001b[0mto_child\u001b[0m\u001b[1;33m)\u001b[0m\u001b[1;33m\u001b[0m\u001b[1;33m\u001b[0m\u001b[0m\n\u001b[1;32m---> 93\u001b[1;33m                 \u001b[0mreduction\u001b[0m\u001b[1;33m.\u001b[0m\u001b[0mdump\u001b[0m\u001b[1;33m(\u001b[0m\u001b[0mprocess_obj\u001b[0m\u001b[1;33m,\u001b[0m \u001b[0mto_child\u001b[0m\u001b[1;33m)\u001b[0m\u001b[1;33m\u001b[0m\u001b[1;33m\u001b[0m\u001b[0m\n\u001b[0m\u001b[0;32m     94\u001b[0m             \u001b[1;32mfinally\u001b[0m\u001b[1;33m:\u001b[0m\u001b[1;33m\u001b[0m\u001b[1;33m\u001b[0m\u001b[0m\n\u001b[0;32m     95\u001b[0m                 \u001b[0mset_spawning_popen\u001b[0m\u001b[1;33m(\u001b[0m\u001b[1;32mNone\u001b[0m\u001b[1;33m)\u001b[0m\u001b[1;33m\u001b[0m\u001b[1;33m\u001b[0m\u001b[0m\n",
      "\u001b[1;32mF:\\anaconda\\envs\\shopee\\lib\\multiprocessing\\reduction.py\u001b[0m in \u001b[0;36mdump\u001b[1;34m(obj, file, protocol)\u001b[0m\n\u001b[0;32m     58\u001b[0m \u001b[1;32mdef\u001b[0m \u001b[0mdump\u001b[0m\u001b[1;33m(\u001b[0m\u001b[0mobj\u001b[0m\u001b[1;33m,\u001b[0m \u001b[0mfile\u001b[0m\u001b[1;33m,\u001b[0m \u001b[0mprotocol\u001b[0m\u001b[1;33m=\u001b[0m\u001b[1;32mNone\u001b[0m\u001b[1;33m)\u001b[0m\u001b[1;33m:\u001b[0m\u001b[1;33m\u001b[0m\u001b[1;33m\u001b[0m\u001b[0m\n\u001b[0;32m     59\u001b[0m     \u001b[1;34m'''Replacement for pickle.dump() using ForkingPickler.'''\u001b[0m\u001b[1;33m\u001b[0m\u001b[1;33m\u001b[0m\u001b[0m\n\u001b[1;32m---> 60\u001b[1;33m     \u001b[0mForkingPickler\u001b[0m\u001b[1;33m(\u001b[0m\u001b[0mfile\u001b[0m\u001b[1;33m,\u001b[0m \u001b[0mprotocol\u001b[0m\u001b[1;33m)\u001b[0m\u001b[1;33m.\u001b[0m\u001b[0mdump\u001b[0m\u001b[1;33m(\u001b[0m\u001b[0mobj\u001b[0m\u001b[1;33m)\u001b[0m\u001b[1;33m\u001b[0m\u001b[1;33m\u001b[0m\u001b[0m\n\u001b[0m\u001b[0;32m     61\u001b[0m \u001b[1;33m\u001b[0m\u001b[0m\n\u001b[0;32m     62\u001b[0m \u001b[1;31m#\u001b[0m\u001b[1;33m\u001b[0m\u001b[1;33m\u001b[0m\u001b[1;33m\u001b[0m\u001b[0m\n",
      "\u001b[1;31mKeyboardInterrupt\u001b[0m: "
     ]
    }
   ],
   "source": [
    "# Train\n",
    "scheduler = StepLR(optimizer, step_size=step_size, gamma=gamma)\n",
    "n_epochs = 8\n",
    "for epoch in range(n_epochs):\n",
    "    model.train()\n",
    "    torch.set_grad_enabled(True)\n",
    " \n",
    "    total_train_loss = 0\n",
    "    list_hyp, list_label = [], []\n",
    "\n",
    "    train_pbar = tqdm(train_loader, leave=True, total=len(train_loader))\n",
    "    for i, batch_data in enumerate(train_pbar):\n",
    "        # Forward model\n",
    "        loss, batch_hyp, batch_label = forward_word_classification(model, batch_data[:-1], i2w=i2w, device='cuda')\n",
    "\n",
    "        # Update model\n",
    "        optimizer.zero_grad()\n",
    "        loss.backward()\n",
    "        optimizer.step()\n",
    "\n",
    "        tr_loss = loss.item()\n",
    "        total_train_loss = total_train_loss + tr_loss\n",
    "\n",
    "        # Calculate metrics\n",
    "        list_hyp += batch_hyp\n",
    "        list_label += batch_label\n",
    "\n",
    "        train_pbar.set_description(\"(Epoch {}) TRAIN LOSS:{:.4f} LR:{:.8f}\".format((epoch+1),\n",
    "            total_train_loss/(i+1), get_lr(optimizer)))\n",
    "\n",
    "    # Calculate train metric\n",
    "    metrics = ner_metrics_fn(list_hyp, list_label)\n",
    "    print(\"(Epoch {}) TRAIN LOSS:{:.4f} {} LR:{:.8f}\".format((epoch+1),\n",
    "        total_train_loss/(i+1), metrics_to_string(metrics), get_lr(optimizer)))\n",
    "\n",
    "    # Evaluate on validation\n",
    "    # evaluate\n",
    "    if ((epoch+1) % evaluate_every) == 0:\n",
    "        val_loss, val_metrics = evaluate(model, valid_loader, i2w, is_test=False, device ='cuda')\n",
    "\n",
    "        # Early stopping\n",
    "        val_metric = val_metrics[valid_criterion]\n",
    "        if best_val_metric < val_metric:\n",
    "            best_val_metric = val_metric\n",
    "            # save model\n",
    "            if exp_id is not None:\n",
    "                torch.save(model.state_dict(), model_dir + \"/best_model_\" + str(exp_id) + \".th\")\n",
    "            else:\n",
    "                torch.save(model.state_dict(), model_dir + \"/best_model.th\")\n",
    "            count_stop = 0\n",
    "        else:\n",
    "            count_stop += 1\n",
    "            print(\"count stop:\", count_stop)\n",
    "            if count_stop == early_stop:\n",
    "                break"
   ]
  },
  {
   "cell_type": "code",
   "execution_count": null,
   "id": "dress-bracket",
   "metadata": {},
   "outputs": [],
   "source": [
    "# Evaluate on test\n",
    "model.eval()\n",
    "torch.set_grad_enabled(False)\n",
    "\n",
    "total_loss, total_correct, total_labels = 0, 0, 0\n",
    "list_hyp, list_label = [], []\n",
    "\n",
    "pbar = tqdm(test_loader, leave=True, total=len(test_loader))\n",
    "for i, batch_data in enumerate(pbar):\n",
    "    _, batch_hyp, _ = forward_word_classification(model, batch_data[:-1], i2w=i2w, device='cuda')\n",
    "    list_hyp += batch_hyp\n",
    "\n",
    "# Save prediction\n",
    "df = pd.DataFrame({'label':list_hyp}).reset_index()\n",
    "print(df)"
   ]
  },
  {
   "cell_type": "code",
   "execution_count": 26,
   "id": "designed-minnesota",
   "metadata": {},
   "outputs": [
    {
     "data": {
      "text/html": [
       "<div>\n",
       "<style scoped>\n",
       "    .dataframe tbody tr th:only-of-type {\n",
       "        vertical-align: middle;\n",
       "    }\n",
       "\n",
       "    .dataframe tbody tr th {\n",
       "        vertical-align: top;\n",
       "    }\n",
       "\n",
       "    .dataframe thead th {\n",
       "        text-align: right;\n",
       "    }\n",
       "</style>\n",
       "<table border=\"1\" class=\"dataframe\">\n",
       "  <thead>\n",
       "    <tr style=\"text-align: right;\">\n",
       "      <th></th>\n",
       "      <th>words</th>\n",
       "      <th>label</th>\n",
       "    </tr>\n",
       "  </thead>\n",
       "  <tbody>\n",
       "    <tr>\n",
       "      <th>0</th>\n",
       "      <td>Jalan</td>\n",
       "      <td>B-PLACE</td>\n",
       "    </tr>\n",
       "    <tr>\n",
       "      <th>1</th>\n",
       "      <td>Candi</td>\n",
       "      <td>I-PLACE</td>\n",
       "    </tr>\n",
       "    <tr>\n",
       "      <th>2</th>\n",
       "      <td>Panggung</td>\n",
       "      <td>I-PLACE</td>\n",
       "    </tr>\n",
       "    <tr>\n",
       "      <th>3</th>\n",
       "      <td>Barat</td>\n",
       "      <td>I-PLACE</td>\n",
       "    </tr>\n",
       "    <tr>\n",
       "      <th>4</th>\n",
       "      <td>.</td>\n",
       "      <td>O</td>\n",
       "    </tr>\n",
       "    <tr>\n",
       "      <th>5</th>\n",
       "      <td>No</td>\n",
       "      <td>O</td>\n",
       "    </tr>\n",
       "    <tr>\n",
       "      <th>6</th>\n",
       "      <td>16</td>\n",
       "      <td>O</td>\n",
       "    </tr>\n",
       "    <tr>\n",
       "      <th>7</th>\n",
       "      <td>.</td>\n",
       "      <td>O</td>\n",
       "    </tr>\n",
       "    <tr>\n",
       "      <th>8</th>\n",
       "      <td>RT</td>\n",
       "      <td>O</td>\n",
       "    </tr>\n",
       "    <tr>\n",
       "      <th>9</th>\n",
       "      <td>01</td>\n",
       "      <td>O</td>\n",
       "    </tr>\n",
       "    <tr>\n",
       "      <th>10</th>\n",
       "      <td>RW</td>\n",
       "      <td>O</td>\n",
       "    </tr>\n",
       "    <tr>\n",
       "      <th>11</th>\n",
       "      <td>18</td>\n",
       "      <td>O</td>\n",
       "    </tr>\n",
       "    <tr>\n",
       "      <th>12</th>\n",
       "      <td>.</td>\n",
       "      <td>O</td>\n",
       "    </tr>\n",
       "    <tr>\n",
       "      <th>13</th>\n",
       "      <td>Kelurahan</td>\n",
       "      <td>B-PLACE</td>\n",
       "    </tr>\n",
       "    <tr>\n",
       "      <th>14</th>\n",
       "      <td>Mojolangu</td>\n",
       "      <td>I-PLACE</td>\n",
       "    </tr>\n",
       "    <tr>\n",
       "      <th>15</th>\n",
       "      <td>,</td>\n",
       "      <td>O</td>\n",
       "    </tr>\n",
       "    <tr>\n",
       "      <th>16</th>\n",
       "      <td>Kecamatan</td>\n",
       "      <td>B-PLACE</td>\n",
       "    </tr>\n",
       "    <tr>\n",
       "      <th>17</th>\n",
       "      <td>Lowokwaru</td>\n",
       "      <td>I-PLACE</td>\n",
       "    </tr>\n",
       "    <tr>\n",
       "      <th>18</th>\n",
       "      <td>Malang</td>\n",
       "      <td>I-PLACE</td>\n",
       "    </tr>\n",
       "    <tr>\n",
       "      <th>19</th>\n",
       "      <td>City</td>\n",
       "      <td>I-PLACE</td>\n",
       "    </tr>\n",
       "    <tr>\n",
       "      <th>20</th>\n",
       "      <td>,</td>\n",
       "      <td>O</td>\n",
       "    </tr>\n",
       "    <tr>\n",
       "      <th>21</th>\n",
       "      <td>East</td>\n",
       "      <td>B-PLACE</td>\n",
       "    </tr>\n",
       "    <tr>\n",
       "      <th>22</th>\n",
       "      <td>Java</td>\n",
       "      <td>I-PLACE</td>\n",
       "    </tr>\n",
       "  </tbody>\n",
       "</table>\n",
       "</div>"
      ],
      "text/plain": [
       "        words    label\n",
       "0       Jalan  B-PLACE\n",
       "1       Candi  I-PLACE\n",
       "2    Panggung  I-PLACE\n",
       "3       Barat  I-PLACE\n",
       "4           .        O\n",
       "5          No        O\n",
       "6          16        O\n",
       "7           .        O\n",
       "8          RT        O\n",
       "9          01        O\n",
       "10         RW        O\n",
       "11         18        O\n",
       "12          .        O\n",
       "13  Kelurahan  B-PLACE\n",
       "14  Mojolangu  I-PLACE\n",
       "15          ,        O\n",
       "16  Kecamatan  B-PLACE\n",
       "17  Lowokwaru  I-PLACE\n",
       "18     Malang  I-PLACE\n",
       "19       City  I-PLACE\n",
       "20          ,        O\n",
       "21       East  B-PLACE\n",
       "22       Java  I-PLACE"
      ]
     },
     "execution_count": 26,
     "metadata": {},
     "output_type": "execute_result"
    }
   ],
   "source": [
    "text = word_tokenize('Jalan Candi Panggung Barat. No 16 . RT 01 RW 18. Kelurahan Mojolangu, Kecamatan Lowokwaru Malang City , East Java')\n",
    "subwords, subword_to_word_indices = word_subword_tokenize(text, tokenizer)\n",
    "\n",
    "subwords = torch.LongTensor(subwords).view(1, -1).to(model.device)\n",
    "subword_to_word_indices = torch.LongTensor(subword_to_word_indices).view(1, -1).to(model.device)\n",
    "logits = model(subwords, subword_to_word_indices)[0]\n",
    "\n",
    "preds = torch.topk(logits, k=1, dim=-1)[1].squeeze().cpu().numpy()\n",
    "labels = [i2w[preds[i]] for i in range(len(preds))]\n",
    "\n",
    "pd.DataFrame({'words': text, 'label': labels})"
   ]
  },
  {
   "cell_type": "code",
   "execution_count": null,
   "id": "annoying-investigator",
   "metadata": {},
   "outputs": [],
   "source": [
    "## load model and do predict\n",
    "\n",
    "# model = pred_cls(config=config)\n",
    "# base_model = base_cls.from_pretrained(model_path, from_tf=False, config=config)\n",
    "\n",
    "# # Plug pretrained base model to classification model\n",
    "# if 'bert' in model.__dir__():\n",
    "#     model.bert = base_model\n",
    "\n",
    "# load model\n",
    "def load_model(model_path):\n",
    "    tokenizer = BertTokenizer.from_pretrained('indobenchmark/indobert-base-p1')\n",
    "    config = BertConfig.from_pretrained('indobenchmark/indobert-base-p1')\n",
    "    config.num_labels = NerGritDataset.NUM_LABELS\n",
    "    model.load_state_dict(torch.load(model_path))\n",
    "    #model = BertForWordClassification.from_pretrained(model_path, config=config)\n",
    "    return model"
   ]
  },
  {
   "cell_type": "code",
   "execution_count": null,
   "id": "filled-causing",
   "metadata": {},
   "outputs": [],
   "source": [
    "model_folder = './'\n",
    "filename = 'best_model_1.th'\n",
    "model_path = os.path.join(model_folder,filename)"
   ]
  },
  {
   "cell_type": "code",
   "execution_count": null,
   "id": "built-electron",
   "metadata": {},
   "outputs": [],
   "source": [
    "model_path"
   ]
  },
  {
   "cell_type": "code",
   "execution_count": null,
   "id": "extended-spiritual",
   "metadata": {},
   "outputs": [],
   "source": [
    "custom_model = load_model(model_path=model_path)"
   ]
  },
  {
   "cell_type": "code",
   "execution_count": null,
   "id": "sufficient-pathology",
   "metadata": {},
   "outputs": [],
   "source": [
    "custom_model = custom_model.cuda()"
   ]
  },
  {
   "cell_type": "code",
   "execution_count": null,
   "id": "sacred-joint",
   "metadata": {},
   "outputs": [],
   "source": [
    "# Evaluate on test\n",
    "custom_model.eval()\n",
    "torch.set_grad_enabled(False)\n",
    "\n",
    "total_loss, total_correct, total_labels = 0, 0, 0\n",
    "list_hyp, list_label = [], []\n",
    "\n",
    "pbar = tqdm(test_loader, leave=True, total=len(test_loader))\n",
    "for i, batch_data in enumerate(pbar):\n",
    "    _, batch_hyp, _ = forward_word_classification(custom_model, batch_data[:-1], i2w=i2w, device='cuda')\n",
    "    list_hyp += batch_hyp\n",
    "\n",
    "# Save prediction\n",
    "df = pd.DataFrame({'label':list_hyp}).reset_index()\n",
    "\n",
    "print(df)"
   ]
  },
  {
   "cell_type": "code",
   "execution_count": null,
   "id": "close-liquid",
   "metadata": {},
   "outputs": [],
   "source": []
  }
 ],
 "metadata": {
  "kernelspec": {
   "display_name": "Python(shopee)",
   "language": "python",
   "name": "shopee"
  },
  "language_info": {
   "codemirror_mode": {
    "name": "ipython",
    "version": 3
   },
   "file_extension": ".py",
   "mimetype": "text/x-python",
   "name": "python",
   "nbconvert_exporter": "python",
   "pygments_lexer": "ipython3",
   "version": "3.8.8"
  }
 },
 "nbformat": 4,
 "nbformat_minor": 5
}
